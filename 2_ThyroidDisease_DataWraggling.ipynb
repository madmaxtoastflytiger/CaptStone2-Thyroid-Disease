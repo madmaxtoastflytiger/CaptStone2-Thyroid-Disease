{
 "cells": [
  {
   "cell_type": "markdown",
   "metadata": {},
   "source": [
    "# Predictive Thyroid Disease Project - Data Wrangling\n",
    "\n",
    "To make a predictive model where you input factors of a person and have it predict if they are likely to have thyroid disease or not. The accuracy has to be above 95% to be considered successful."
   ]
  },
  {
   "cell_type": "markdown",
   "metadata": {},
   "source": [
    "# Initial Set Up"
   ]
  },
  {
   "cell_type": "code",
   "execution_count": 47,
   "metadata": {},
   "outputs": [],
   "source": [
    "# Import Common Libraries \n",
    "import pandas as pd\n",
    "import numpy as np\n",
    "import seaborn as sns\n",
    "import missingno as msno\n",
    "\n",
    "# Import my custom library \n",
    "import MyCustDataSciLib as MyCustDataSciLib"
   ]
  },
  {
   "cell_type": "code",
   "execution_count": 2,
   "metadata": {},
   "outputs": [],
   "source": [
    "# Load Data\n",
    "file_path = \"Thyroid_Disease.csv\"\n",
    "df = pd.read_csv(file_path)"
   ]
  },
  {
   "cell_type": "code",
   "execution_count": 3,
   "metadata": {},
   "outputs": [
    {
     "name": "stdout",
     "output_type": "stream",
     "text": [
      "<class 'pandas.core.frame.DataFrame'>\n",
      "RangeIndex: 383 entries, 0 to 382\n",
      "Data columns (total 17 columns):\n",
      " #   Column                Non-Null Count  Dtype \n",
      "---  ------                --------------  ----- \n",
      " 0   Age                   383 non-null    int64 \n",
      " 1   Gender                383 non-null    object\n",
      " 2   Smoking               383 non-null    object\n",
      " 3   Hx Smoking            383 non-null    object\n",
      " 4   Hx Radiothreapy       383 non-null    object\n",
      " 5   Thyroid Function      383 non-null    object\n",
      " 6   Physical Examination  383 non-null    object\n",
      " 7   Adenopathy            383 non-null    object\n",
      " 8   Pathology             383 non-null    object\n",
      " 9   Focality              383 non-null    object\n",
      " 10  Risk                  383 non-null    object\n",
      " 11  T                     383 non-null    object\n",
      " 12  N                     383 non-null    object\n",
      " 13  M                     383 non-null    object\n",
      " 14  Stage                 383 non-null    object\n",
      " 15  Response              383 non-null    object\n",
      " 16  Recurred              383 non-null    object\n",
      "dtypes: int64(1), object(16)\n",
      "memory usage: 51.0+ KB\n"
     ]
    }
   ],
   "source": [
    "# Display Info, number of rows, column names, and column data types\n",
    "    # there are 383 entries and each columns's non null count are 383 so no null values\n",
    "df.info()"
   ]
  },
  {
   "cell_type": "code",
   "execution_count": 4,
   "metadata": {},
   "outputs": [
    {
     "data": {
      "text/html": [
       "<div>\n",
       "<style scoped>\n",
       "    .dataframe tbody tr th:only-of-type {\n",
       "        vertical-align: middle;\n",
       "    }\n",
       "\n",
       "    .dataframe tbody tr th {\n",
       "        vertical-align: top;\n",
       "    }\n",
       "\n",
       "    .dataframe thead th {\n",
       "        text-align: right;\n",
       "    }\n",
       "</style>\n",
       "<table border=\"1\" class=\"dataframe\">\n",
       "  <thead>\n",
       "    <tr style=\"text-align: right;\">\n",
       "      <th></th>\n",
       "      <th>Age</th>\n",
       "      <th>Gender</th>\n",
       "      <th>Smoking</th>\n",
       "      <th>Hx Smoking</th>\n",
       "      <th>Hx Radiothreapy</th>\n",
       "      <th>Thyroid Function</th>\n",
       "      <th>Physical Examination</th>\n",
       "      <th>Adenopathy</th>\n",
       "      <th>Pathology</th>\n",
       "      <th>Focality</th>\n",
       "      <th>Risk</th>\n",
       "      <th>T</th>\n",
       "      <th>N</th>\n",
       "      <th>M</th>\n",
       "      <th>Stage</th>\n",
       "      <th>Response</th>\n",
       "      <th>Recurred</th>\n",
       "    </tr>\n",
       "  </thead>\n",
       "  <tbody>\n",
       "    <tr>\n",
       "      <th>0</th>\n",
       "      <td>27</td>\n",
       "      <td>F</td>\n",
       "      <td>No</td>\n",
       "      <td>No</td>\n",
       "      <td>No</td>\n",
       "      <td>Euthyroid</td>\n",
       "      <td>Single nodular goiter-left</td>\n",
       "      <td>No</td>\n",
       "      <td>Micropapillary</td>\n",
       "      <td>Uni-Focal</td>\n",
       "      <td>Low</td>\n",
       "      <td>T1a</td>\n",
       "      <td>N0</td>\n",
       "      <td>M0</td>\n",
       "      <td>I</td>\n",
       "      <td>Indeterminate</td>\n",
       "      <td>No</td>\n",
       "    </tr>\n",
       "    <tr>\n",
       "      <th>1</th>\n",
       "      <td>34</td>\n",
       "      <td>F</td>\n",
       "      <td>No</td>\n",
       "      <td>Yes</td>\n",
       "      <td>No</td>\n",
       "      <td>Euthyroid</td>\n",
       "      <td>Multinodular goiter</td>\n",
       "      <td>No</td>\n",
       "      <td>Micropapillary</td>\n",
       "      <td>Uni-Focal</td>\n",
       "      <td>Low</td>\n",
       "      <td>T1a</td>\n",
       "      <td>N0</td>\n",
       "      <td>M0</td>\n",
       "      <td>I</td>\n",
       "      <td>Excellent</td>\n",
       "      <td>No</td>\n",
       "    </tr>\n",
       "    <tr>\n",
       "      <th>2</th>\n",
       "      <td>30</td>\n",
       "      <td>F</td>\n",
       "      <td>No</td>\n",
       "      <td>No</td>\n",
       "      <td>No</td>\n",
       "      <td>Euthyroid</td>\n",
       "      <td>Single nodular goiter-right</td>\n",
       "      <td>No</td>\n",
       "      <td>Micropapillary</td>\n",
       "      <td>Uni-Focal</td>\n",
       "      <td>Low</td>\n",
       "      <td>T1a</td>\n",
       "      <td>N0</td>\n",
       "      <td>M0</td>\n",
       "      <td>I</td>\n",
       "      <td>Excellent</td>\n",
       "      <td>No</td>\n",
       "    </tr>\n",
       "    <tr>\n",
       "      <th>3</th>\n",
       "      <td>62</td>\n",
       "      <td>F</td>\n",
       "      <td>No</td>\n",
       "      <td>No</td>\n",
       "      <td>No</td>\n",
       "      <td>Euthyroid</td>\n",
       "      <td>Single nodular goiter-right</td>\n",
       "      <td>No</td>\n",
       "      <td>Micropapillary</td>\n",
       "      <td>Uni-Focal</td>\n",
       "      <td>Low</td>\n",
       "      <td>T1a</td>\n",
       "      <td>N0</td>\n",
       "      <td>M0</td>\n",
       "      <td>I</td>\n",
       "      <td>Excellent</td>\n",
       "      <td>No</td>\n",
       "    </tr>\n",
       "    <tr>\n",
       "      <th>4</th>\n",
       "      <td>62</td>\n",
       "      <td>F</td>\n",
       "      <td>No</td>\n",
       "      <td>No</td>\n",
       "      <td>No</td>\n",
       "      <td>Euthyroid</td>\n",
       "      <td>Multinodular goiter</td>\n",
       "      <td>No</td>\n",
       "      <td>Micropapillary</td>\n",
       "      <td>Multi-Focal</td>\n",
       "      <td>Low</td>\n",
       "      <td>T1a</td>\n",
       "      <td>N0</td>\n",
       "      <td>M0</td>\n",
       "      <td>I</td>\n",
       "      <td>Excellent</td>\n",
       "      <td>No</td>\n",
       "    </tr>\n",
       "  </tbody>\n",
       "</table>\n",
       "</div>"
      ],
      "text/plain": [
       "   Age Gender Smoking Hx Smoking Hx Radiothreapy Thyroid Function  \\\n",
       "0   27      F      No         No              No        Euthyroid   \n",
       "1   34      F      No        Yes              No        Euthyroid   \n",
       "2   30      F      No         No              No        Euthyroid   \n",
       "3   62      F      No         No              No        Euthyroid   \n",
       "4   62      F      No         No              No        Euthyroid   \n",
       "\n",
       "          Physical Examination Adenopathy       Pathology     Focality Risk  \\\n",
       "0   Single nodular goiter-left         No  Micropapillary    Uni-Focal  Low   \n",
       "1          Multinodular goiter         No  Micropapillary    Uni-Focal  Low   \n",
       "2  Single nodular goiter-right         No  Micropapillary    Uni-Focal  Low   \n",
       "3  Single nodular goiter-right         No  Micropapillary    Uni-Focal  Low   \n",
       "4          Multinodular goiter         No  Micropapillary  Multi-Focal  Low   \n",
       "\n",
       "     T   N   M Stage       Response Recurred  \n",
       "0  T1a  N0  M0     I  Indeterminate       No  \n",
       "1  T1a  N0  M0     I      Excellent       No  \n",
       "2  T1a  N0  M0     I      Excellent       No  \n",
       "3  T1a  N0  M0     I      Excellent       No  \n",
       "4  T1a  N0  M0     I      Excellent       No  "
      ]
     },
     "execution_count": 4,
     "metadata": {},
     "output_type": "execute_result"
    }
   ],
   "source": [
    "# Display the first few rows\n",
    "df.head()"
   ]
  },
  {
   "cell_type": "code",
   "execution_count": 5,
   "metadata": {},
   "outputs": [
    {
     "data": {
      "text/html": [
       "<div>\n",
       "<style scoped>\n",
       "    .dataframe tbody tr th:only-of-type {\n",
       "        vertical-align: middle;\n",
       "    }\n",
       "\n",
       "    .dataframe tbody tr th {\n",
       "        vertical-align: top;\n",
       "    }\n",
       "\n",
       "    .dataframe thead th {\n",
       "        text-align: right;\n",
       "    }\n",
       "</style>\n",
       "<table border=\"1\" class=\"dataframe\">\n",
       "  <thead>\n",
       "    <tr style=\"text-align: right;\">\n",
       "      <th></th>\n",
       "      <th>Age</th>\n",
       "      <th>Gender</th>\n",
       "      <th>Smoking</th>\n",
       "      <th>Hx Smoking</th>\n",
       "      <th>Hx Radiothreapy</th>\n",
       "      <th>Thyroid Function</th>\n",
       "      <th>Physical Examination</th>\n",
       "      <th>Adenopathy</th>\n",
       "      <th>Pathology</th>\n",
       "      <th>Focality</th>\n",
       "      <th>Risk</th>\n",
       "      <th>T</th>\n",
       "      <th>N</th>\n",
       "      <th>M</th>\n",
       "      <th>Stage</th>\n",
       "      <th>Response</th>\n",
       "      <th>Recurred</th>\n",
       "    </tr>\n",
       "  </thead>\n",
       "  <tbody>\n",
       "    <tr>\n",
       "      <th>378</th>\n",
       "      <td>72</td>\n",
       "      <td>M</td>\n",
       "      <td>Yes</td>\n",
       "      <td>Yes</td>\n",
       "      <td>Yes</td>\n",
       "      <td>Euthyroid</td>\n",
       "      <td>Single nodular goiter-right</td>\n",
       "      <td>Right</td>\n",
       "      <td>Papillary</td>\n",
       "      <td>Uni-Focal</td>\n",
       "      <td>High</td>\n",
       "      <td>T4b</td>\n",
       "      <td>N1b</td>\n",
       "      <td>M1</td>\n",
       "      <td>IVB</td>\n",
       "      <td>Biochemical Incomplete</td>\n",
       "      <td>Yes</td>\n",
       "    </tr>\n",
       "    <tr>\n",
       "      <th>379</th>\n",
       "      <td>81</td>\n",
       "      <td>M</td>\n",
       "      <td>Yes</td>\n",
       "      <td>No</td>\n",
       "      <td>Yes</td>\n",
       "      <td>Euthyroid</td>\n",
       "      <td>Multinodular goiter</td>\n",
       "      <td>Extensive</td>\n",
       "      <td>Papillary</td>\n",
       "      <td>Multi-Focal</td>\n",
       "      <td>High</td>\n",
       "      <td>T4b</td>\n",
       "      <td>N1b</td>\n",
       "      <td>M1</td>\n",
       "      <td>IVB</td>\n",
       "      <td>Structural Incomplete</td>\n",
       "      <td>Yes</td>\n",
       "    </tr>\n",
       "    <tr>\n",
       "      <th>380</th>\n",
       "      <td>72</td>\n",
       "      <td>M</td>\n",
       "      <td>Yes</td>\n",
       "      <td>Yes</td>\n",
       "      <td>No</td>\n",
       "      <td>Euthyroid</td>\n",
       "      <td>Multinodular goiter</td>\n",
       "      <td>Bilateral</td>\n",
       "      <td>Papillary</td>\n",
       "      <td>Multi-Focal</td>\n",
       "      <td>High</td>\n",
       "      <td>T4b</td>\n",
       "      <td>N1b</td>\n",
       "      <td>M1</td>\n",
       "      <td>IVB</td>\n",
       "      <td>Structural Incomplete</td>\n",
       "      <td>Yes</td>\n",
       "    </tr>\n",
       "    <tr>\n",
       "      <th>381</th>\n",
       "      <td>61</td>\n",
       "      <td>M</td>\n",
       "      <td>Yes</td>\n",
       "      <td>Yes</td>\n",
       "      <td>Yes</td>\n",
       "      <td>Clinical Hyperthyroidism</td>\n",
       "      <td>Multinodular goiter</td>\n",
       "      <td>Extensive</td>\n",
       "      <td>Hurthel cell</td>\n",
       "      <td>Multi-Focal</td>\n",
       "      <td>High</td>\n",
       "      <td>T4b</td>\n",
       "      <td>N1b</td>\n",
       "      <td>M0</td>\n",
       "      <td>IVA</td>\n",
       "      <td>Structural Incomplete</td>\n",
       "      <td>Yes</td>\n",
       "    </tr>\n",
       "    <tr>\n",
       "      <th>382</th>\n",
       "      <td>67</td>\n",
       "      <td>M</td>\n",
       "      <td>Yes</td>\n",
       "      <td>No</td>\n",
       "      <td>No</td>\n",
       "      <td>Euthyroid</td>\n",
       "      <td>Multinodular goiter</td>\n",
       "      <td>Bilateral</td>\n",
       "      <td>Papillary</td>\n",
       "      <td>Multi-Focal</td>\n",
       "      <td>High</td>\n",
       "      <td>T4b</td>\n",
       "      <td>N1b</td>\n",
       "      <td>M0</td>\n",
       "      <td>IVA</td>\n",
       "      <td>Structural Incomplete</td>\n",
       "      <td>Yes</td>\n",
       "    </tr>\n",
       "  </tbody>\n",
       "</table>\n",
       "</div>"
      ],
      "text/plain": [
       "     Age Gender Smoking Hx Smoking Hx Radiothreapy          Thyroid Function  \\\n",
       "378   72      M     Yes        Yes             Yes                 Euthyroid   \n",
       "379   81      M     Yes         No             Yes                 Euthyroid   \n",
       "380   72      M     Yes        Yes              No                 Euthyroid   \n",
       "381   61      M     Yes        Yes             Yes  Clinical Hyperthyroidism   \n",
       "382   67      M     Yes         No              No                 Euthyroid   \n",
       "\n",
       "            Physical Examination Adenopathy     Pathology     Focality  Risk  \\\n",
       "378  Single nodular goiter-right      Right     Papillary    Uni-Focal  High   \n",
       "379          Multinodular goiter  Extensive     Papillary  Multi-Focal  High   \n",
       "380          Multinodular goiter  Bilateral     Papillary  Multi-Focal  High   \n",
       "381          Multinodular goiter  Extensive  Hurthel cell  Multi-Focal  High   \n",
       "382          Multinodular goiter  Bilateral     Papillary  Multi-Focal  High   \n",
       "\n",
       "       T    N   M Stage                Response Recurred  \n",
       "378  T4b  N1b  M1   IVB  Biochemical Incomplete      Yes  \n",
       "379  T4b  N1b  M1   IVB   Structural Incomplete      Yes  \n",
       "380  T4b  N1b  M1   IVB   Structural Incomplete      Yes  \n",
       "381  T4b  N1b  M0   IVA   Structural Incomplete      Yes  \n",
       "382  T4b  N1b  M0   IVA   Structural Incomplete      Yes  "
      ]
     },
     "execution_count": 5,
     "metadata": {},
     "output_type": "execute_result"
    }
   ],
   "source": [
    "# Display the last few rows\n",
    "df.tail()"
   ]
  },
  {
   "cell_type": "code",
   "execution_count": 6,
   "metadata": {},
   "outputs": [
    {
     "data": {
      "text/html": [
       "<div>\n",
       "<style scoped>\n",
       "    .dataframe tbody tr th:only-of-type {\n",
       "        vertical-align: middle;\n",
       "    }\n",
       "\n",
       "    .dataframe tbody tr th {\n",
       "        vertical-align: top;\n",
       "    }\n",
       "\n",
       "    .dataframe thead th {\n",
       "        text-align: right;\n",
       "    }\n",
       "</style>\n",
       "<table border=\"1\" class=\"dataframe\">\n",
       "  <thead>\n",
       "    <tr style=\"text-align: right;\">\n",
       "      <th></th>\n",
       "      <th>Age</th>\n",
       "      <th>Gender</th>\n",
       "      <th>Smoking</th>\n",
       "      <th>Hx Smoking</th>\n",
       "      <th>Hx Radiothreapy</th>\n",
       "      <th>Thyroid Function</th>\n",
       "      <th>Physical Examination</th>\n",
       "      <th>Adenopathy</th>\n",
       "      <th>Pathology</th>\n",
       "      <th>Focality</th>\n",
       "      <th>Risk</th>\n",
       "      <th>T</th>\n",
       "      <th>N</th>\n",
       "      <th>M</th>\n",
       "      <th>Stage</th>\n",
       "      <th>Response</th>\n",
       "      <th>Recurred</th>\n",
       "    </tr>\n",
       "  </thead>\n",
       "  <tbody>\n",
       "    <tr>\n",
       "      <th>268</th>\n",
       "      <td>32</td>\n",
       "      <td>F</td>\n",
       "      <td>No</td>\n",
       "      <td>No</td>\n",
       "      <td>No</td>\n",
       "      <td>Euthyroid</td>\n",
       "      <td>Single nodular goiter-left</td>\n",
       "      <td>No</td>\n",
       "      <td>Papillary</td>\n",
       "      <td>Uni-Focal</td>\n",
       "      <td>Low</td>\n",
       "      <td>T3a</td>\n",
       "      <td>N0</td>\n",
       "      <td>M0</td>\n",
       "      <td>I</td>\n",
       "      <td>Excellent</td>\n",
       "      <td>No</td>\n",
       "    </tr>\n",
       "    <tr>\n",
       "      <th>250</th>\n",
       "      <td>30</td>\n",
       "      <td>F</td>\n",
       "      <td>No</td>\n",
       "      <td>No</td>\n",
       "      <td>No</td>\n",
       "      <td>Subclinical Hypothyroidism</td>\n",
       "      <td>Normal</td>\n",
       "      <td>Right</td>\n",
       "      <td>Follicular</td>\n",
       "      <td>Uni-Focal</td>\n",
       "      <td>Low</td>\n",
       "      <td>T3a</td>\n",
       "      <td>N0</td>\n",
       "      <td>M0</td>\n",
       "      <td>I</td>\n",
       "      <td>Excellent</td>\n",
       "      <td>No</td>\n",
       "    </tr>\n",
       "    <tr>\n",
       "      <th>318</th>\n",
       "      <td>30</td>\n",
       "      <td>F</td>\n",
       "      <td>No</td>\n",
       "      <td>No</td>\n",
       "      <td>No</td>\n",
       "      <td>Euthyroid</td>\n",
       "      <td>Multinodular goiter</td>\n",
       "      <td>Bilateral</td>\n",
       "      <td>Papillary</td>\n",
       "      <td>Multi-Focal</td>\n",
       "      <td>Intermediate</td>\n",
       "      <td>T3a</td>\n",
       "      <td>N1b</td>\n",
       "      <td>M0</td>\n",
       "      <td>I</td>\n",
       "      <td>Structural Incomplete</td>\n",
       "      <td>Yes</td>\n",
       "    </tr>\n",
       "    <tr>\n",
       "      <th>331</th>\n",
       "      <td>51</td>\n",
       "      <td>F</td>\n",
       "      <td>No</td>\n",
       "      <td>No</td>\n",
       "      <td>No</td>\n",
       "      <td>Euthyroid</td>\n",
       "      <td>Single nodular goiter-left</td>\n",
       "      <td>No</td>\n",
       "      <td>Follicular</td>\n",
       "      <td>Uni-Focal</td>\n",
       "      <td>Intermediate</td>\n",
       "      <td>T3a</td>\n",
       "      <td>N0</td>\n",
       "      <td>M0</td>\n",
       "      <td>I</td>\n",
       "      <td>Structural Incomplete</td>\n",
       "      <td>Yes</td>\n",
       "    </tr>\n",
       "    <tr>\n",
       "      <th>56</th>\n",
       "      <td>43</td>\n",
       "      <td>F</td>\n",
       "      <td>No</td>\n",
       "      <td>Yes</td>\n",
       "      <td>No</td>\n",
       "      <td>Euthyroid</td>\n",
       "      <td>Single nodular goiter-right</td>\n",
       "      <td>No</td>\n",
       "      <td>Papillary</td>\n",
       "      <td>Uni-Focal</td>\n",
       "      <td>Low</td>\n",
       "      <td>T1b</td>\n",
       "      <td>N0</td>\n",
       "      <td>M0</td>\n",
       "      <td>I</td>\n",
       "      <td>Excellent</td>\n",
       "      <td>No</td>\n",
       "    </tr>\n",
       "  </tbody>\n",
       "</table>\n",
       "</div>"
      ],
      "text/plain": [
       "     Age Gender Smoking Hx Smoking Hx Radiothreapy  \\\n",
       "268   32      F      No         No              No   \n",
       "250   30      F      No         No              No   \n",
       "318   30      F      No         No              No   \n",
       "331   51      F      No         No              No   \n",
       "56    43      F      No        Yes              No   \n",
       "\n",
       "               Thyroid Function         Physical Examination Adenopathy  \\\n",
       "268                   Euthyroid   Single nodular goiter-left         No   \n",
       "250  Subclinical Hypothyroidism                       Normal      Right   \n",
       "318                   Euthyroid          Multinodular goiter  Bilateral   \n",
       "331                   Euthyroid   Single nodular goiter-left         No   \n",
       "56                    Euthyroid  Single nodular goiter-right         No   \n",
       "\n",
       "      Pathology     Focality          Risk    T    N   M Stage  \\\n",
       "268   Papillary    Uni-Focal           Low  T3a   N0  M0     I   \n",
       "250  Follicular    Uni-Focal           Low  T3a   N0  M0     I   \n",
       "318   Papillary  Multi-Focal  Intermediate  T3a  N1b  M0     I   \n",
       "331  Follicular    Uni-Focal  Intermediate  T3a   N0  M0     I   \n",
       "56    Papillary    Uni-Focal           Low  T1b   N0  M0     I   \n",
       "\n",
       "                  Response Recurred  \n",
       "268              Excellent       No  \n",
       "250              Excellent       No  \n",
       "318  Structural Incomplete      Yes  \n",
       "331  Structural Incomplete      Yes  \n",
       "56               Excellent       No  "
      ]
     },
     "execution_count": 6,
     "metadata": {},
     "output_type": "execute_result"
    }
   ],
   "source": [
    "# get random sample of df \n",
    "\n",
    "'''\n",
    "# Get random rows\n",
    "df.sample(n=5, random_state=42)\n",
    "\n",
    "# Get 10% of rows randomly\n",
    "df.sample(frac=0.01,random_state=42)\n",
    "\n",
    "# To get stratified sample based on a column\n",
    "df.groupby('column_name').sample(n=2)\n",
    "\n",
    "# get remaining samples\n",
    "remaining = df.drop(sample.index)\n",
    "'''\n",
    "\n",
    "df.sample(n=5, random_state=42)"
   ]
  },
  {
   "cell_type": "code",
   "execution_count": 7,
   "metadata": {},
   "outputs": [
    {
     "data": {
      "text/html": [
       "<div>\n",
       "<style scoped>\n",
       "    .dataframe tbody tr th:only-of-type {\n",
       "        vertical-align: middle;\n",
       "    }\n",
       "\n",
       "    .dataframe tbody tr th {\n",
       "        vertical-align: top;\n",
       "    }\n",
       "\n",
       "    .dataframe thead th {\n",
       "        text-align: right;\n",
       "    }\n",
       "</style>\n",
       "<table border=\"1\" class=\"dataframe\">\n",
       "  <thead>\n",
       "    <tr style=\"text-align: right;\">\n",
       "      <th></th>\n",
       "      <th>Age</th>\n",
       "    </tr>\n",
       "  </thead>\n",
       "  <tbody>\n",
       "    <tr>\n",
       "      <th>count</th>\n",
       "      <td>383.000000</td>\n",
       "    </tr>\n",
       "    <tr>\n",
       "      <th>mean</th>\n",
       "      <td>40.866841</td>\n",
       "    </tr>\n",
       "    <tr>\n",
       "      <th>std</th>\n",
       "      <td>15.134494</td>\n",
       "    </tr>\n",
       "    <tr>\n",
       "      <th>min</th>\n",
       "      <td>15.000000</td>\n",
       "    </tr>\n",
       "    <tr>\n",
       "      <th>25%</th>\n",
       "      <td>29.000000</td>\n",
       "    </tr>\n",
       "    <tr>\n",
       "      <th>50%</th>\n",
       "      <td>37.000000</td>\n",
       "    </tr>\n",
       "    <tr>\n",
       "      <th>75%</th>\n",
       "      <td>51.000000</td>\n",
       "    </tr>\n",
       "    <tr>\n",
       "      <th>max</th>\n",
       "      <td>82.000000</td>\n",
       "    </tr>\n",
       "  </tbody>\n",
       "</table>\n",
       "</div>"
      ],
      "text/plain": [
       "              Age\n",
       "count  383.000000\n",
       "mean    40.866841\n",
       "std     15.134494\n",
       "min     15.000000\n",
       "25%     29.000000\n",
       "50%     37.000000\n",
       "75%     51.000000\n",
       "max     82.000000"
      ]
     },
     "execution_count": 7,
     "metadata": {},
     "output_type": "execute_result"
    }
   ],
   "source": [
    "# Display basic statistical details\n",
    "    # 'count' is useless but the rest of the descriptive statistics may be useful\n",
    "df.describe()"
   ]
  },
  {
   "cell_type": "code",
   "execution_count": 8,
   "metadata": {},
   "outputs": [
    {
     "name": "stdout",
     "output_type": "stream",
     "text": [
      "(383, 17)\n"
     ]
    }
   ],
   "source": [
    "# Get the shape of the DataFrame\n",
    "print(df.shape)"
   ]
  },
  {
   "cell_type": "markdown",
   "metadata": {},
   "source": [
    "# Reshaping Data"
   ]
  },
  {
   "cell_type": "code",
   "execution_count": 9,
   "metadata": {},
   "outputs": [
    {
     "data": {
      "text/plain": [
       "\"\\nmelted_df = pd.melt(df, id_vars=['id'], value_vars=['col1', 'col2'])\\npivoted_df = melted_df.pivot(index='id', columns='variable', values='value')\\n\""
      ]
     },
     "execution_count": 9,
     "metadata": {},
     "output_type": "execute_result"
    }
   ],
   "source": [
    "# reshape\n",
    "    # not needed\n",
    "'''\n",
    "melted_df = pd.melt(df, id_vars=['id'], value_vars=['col1', 'col2'])\n",
    "pivoted_df = melted_df.pivot(index='id', columns='variable', values='value')\n",
    "'''"
   ]
  },
  {
   "cell_type": "markdown",
   "metadata": {},
   "source": [
    "# Handle Missing Data"
   ]
  },
  {
   "cell_type": "code",
   "execution_count": 10,
   "metadata": {},
   "outputs": [
    {
     "data": {
      "text/plain": [
       "Age                     0\n",
       "Gender                  0\n",
       "Smoking                 0\n",
       "Hx Smoking              0\n",
       "Hx Radiothreapy         0\n",
       "Thyroid Function        0\n",
       "Physical Examination    0\n",
       "Adenopathy              0\n",
       "Pathology               0\n",
       "Focality                0\n",
       "Risk                    0\n",
       "T                       0\n",
       "N                       0\n",
       "M                       0\n",
       "Stage                   0\n",
       "Response                0\n",
       "Recurred                0\n",
       "dtype: int64"
      ]
     },
     "execution_count": 10,
     "metadata": {},
     "output_type": "execute_result"
    }
   ],
   "source": [
    "# Check for missing values\n",
    "    # I know already check for missing data with .info() but double check with .isnull() \n",
    "    # and looks like no null values\n",
    "df.isnull().sum()"
   ]
  },
  {
   "cell_type": "code",
   "execution_count": 51,
   "metadata": {},
   "outputs": [
    {
     "data": {
      "text/plain": [
       "<Axes: >"
      ]
     },
     "execution_count": 51,
     "metadata": {},
     "output_type": "execute_result"
    },
    {
     "data": {
      "image/png": "[encoded data removed]",
      "text/plain": [
       "<Figure size 640x480 with 1 Axes>"
      ]
     },
     "metadata": {},
     "output_type": "display_data"
    }
   ],
   "source": [
    "sns.heatmap(df.isnull(),yticklabels=False,cbar=False)\n",
    "\n",
    "# no null "
   ]
  },
  {
   "cell_type": "code",
   "execution_count": 11,
   "metadata": {},
   "outputs": [
    {
     "data": {
      "text/plain": [
       "\"\\n# Fill missing values with a specific value\\ndf['column_name'].fillna(value, inplace=True)\\n\\n# Fill missing values with the mean, median, or mode\\ndf['column_name'].fillna(df['column_name'].mean(), inplace=True)\\n\\n# Drop rows or columns with missing values\\ndf.dropna(axis=0, inplace=True)  # Drop rows\\ndf.dropna(axis=1, inplace=True)  # Drop columns\\n\""
      ]
     },
     "execution_count": 11,
     "metadata": {},
     "output_type": "execute_result"
    }
   ],
   "source": [
    "# fill in missing values\n",
    "    # not needed as no missing values\n",
    "'''\n",
    "# Fill missing values with a specific value\n",
    "df['column_name'].fillna(value, inplace=True)\n",
    "\n",
    "# Fill missing values with the mean, median, or mode\n",
    "df['column_name'].fillna(df['column_name'].mean(), inplace=True)\n",
    "\n",
    "# Drop rows or columns with missing values\n",
    "df.dropna(axis=0, inplace=True)  # Drop rows\n",
    "df.dropna(axis=1, inplace=True)  # Drop columns\n",
    "\n",
    "# functions from msno\n",
    "'''"
   ]
  },
  {
   "cell_type": "markdown",
   "metadata": {},
   "source": [
    "# Check the data range"
   ]
  },
  {
   "cell_type": "code",
   "execution_count": 12,
   "metadata": {},
   "outputs": [
    {
     "data": {
      "text/html": [
       "<div>\n",
       "<style scoped>\n",
       "    .dataframe tbody tr th:only-of-type {\n",
       "        vertical-align: middle;\n",
       "    }\n",
       "\n",
       "    .dataframe tbody tr th {\n",
       "        vertical-align: top;\n",
       "    }\n",
       "\n",
       "    .dataframe thead th {\n",
       "        text-align: right;\n",
       "    }\n",
       "</style>\n",
       "<table border=\"1\" class=\"dataframe\">\n",
       "  <thead>\n",
       "    <tr style=\"text-align: right;\">\n",
       "      <th></th>\n",
       "      <th>Age</th>\n",
       "    </tr>\n",
       "  </thead>\n",
       "  <tbody>\n",
       "    <tr>\n",
       "      <th>count</th>\n",
       "      <td>383.000000</td>\n",
       "    </tr>\n",
       "    <tr>\n",
       "      <th>mean</th>\n",
       "      <td>40.866841</td>\n",
       "    </tr>\n",
       "    <tr>\n",
       "      <th>std</th>\n",
       "      <td>15.134494</td>\n",
       "    </tr>\n",
       "    <tr>\n",
       "      <th>min</th>\n",
       "      <td>15.000000</td>\n",
       "    </tr>\n",
       "    <tr>\n",
       "      <th>25%</th>\n",
       "      <td>29.000000</td>\n",
       "    </tr>\n",
       "    <tr>\n",
       "      <th>50%</th>\n",
       "      <td>37.000000</td>\n",
       "    </tr>\n",
       "    <tr>\n",
       "      <th>75%</th>\n",
       "      <td>51.000000</td>\n",
       "    </tr>\n",
       "    <tr>\n",
       "      <th>max</th>\n",
       "      <td>82.000000</td>\n",
       "    </tr>\n",
       "  </tbody>\n",
       "</table>\n",
       "</div>"
      ],
      "text/plain": [
       "              Age\n",
       "count  383.000000\n",
       "mean    40.866841\n",
       "std     15.134494\n",
       "min     15.000000\n",
       "25%     29.000000\n",
       "50%     37.000000\n",
       "75%     51.000000\n",
       "max     82.000000"
      ]
     },
     "execution_count": 12,
     "metadata": {},
     "output_type": "execute_result"
    }
   ],
   "source": [
    "df.describe()\n",
    "\n",
    "# 'age' column is the only numeric column, all other data are categorical \n",
    "# The range of it is 15-82 years old,adn these ages are all within normalacy for humans and those with possible thyroid issues"
   ]
  },
  {
   "cell_type": "markdown",
   "metadata": {},
   "source": [
    "# Check unique values in each column"
   ]
  },
  {
   "cell_type": "code",
   "execution_count": 13,
   "metadata": {},
   "outputs": [
    {
     "name": "stdout",
     "output_type": "stream",
     "text": [
      "Unique values and counts for column: 'Age'\n",
      "    Age  count\n",
      "0    31     22\n",
      "1    27     13\n",
      "2    40     12\n",
      "3    26     12\n",
      "4    28     12\n",
      "..  ...    ...\n",
      "60   79      1\n",
      "61   18      1\n",
      "62   69      1\n",
      "63   76      1\n",
      "64   78      1\n",
      "\n",
      "[65 rows x 2 columns]\n",
      "----------------------------------------\n",
      "Unique values and counts for column: 'Gender'\n",
      "  Gender  count\n",
      "0      F    312\n",
      "1      M     71\n",
      "----------------------------------------\n",
      "Unique values and counts for column: 'Smoking'\n",
      "  Smoking  count\n",
      "0      No    334\n",
      "1     Yes     49\n",
      "----------------------------------------\n",
      "Unique values and counts for column: 'Hx Smoking'\n",
      "  Hx Smoking  count\n",
      "0         No    355\n",
      "1        Yes     28\n",
      "----------------------------------------\n",
      "Unique values and counts for column: 'Hx Radiothreapy'\n",
      "  Hx Radiothreapy  count\n",
      "0              No    376\n",
      "1             Yes      7\n",
      "----------------------------------------\n",
      "Unique values and counts for column: 'Thyroid Function'\n",
      "              Thyroid Function  count\n",
      "0                    Euthyroid    332\n",
      "1     Clinical Hyperthyroidism     20\n",
      "2   Subclinical Hypothyroidism     14\n",
      "3      Clinical Hypothyroidism     12\n",
      "4  Subclinical Hyperthyroidism      5\n",
      "----------------------------------------\n",
      "Unique values and counts for column: 'Physical Examination'\n",
      "          Physical Examination  count\n",
      "0          Multinodular goiter    140\n",
      "1  Single nodular goiter-right    140\n",
      "2   Single nodular goiter-left     89\n",
      "3                       Normal      7\n",
      "4               Diffuse goiter      7\n",
      "----------------------------------------\n",
      "Unique values and counts for column: 'Adenopathy'\n",
      "  Adenopathy  count\n",
      "0         No    277\n",
      "1      Right     48\n",
      "2  Bilateral     32\n",
      "3       Left     17\n",
      "4  Extensive      7\n",
      "5  Posterior      2\n",
      "----------------------------------------\n",
      "Unique values and counts for column: 'Pathology'\n",
      "        Pathology  count\n",
      "0       Papillary    287\n",
      "1  Micropapillary     48\n",
      "2      Follicular     28\n",
      "3    Hurthel cell     20\n",
      "----------------------------------------\n",
      "Unique values and counts for column: 'Focality'\n",
      "      Focality  count\n",
      "0    Uni-Focal    247\n",
      "1  Multi-Focal    136\n",
      "----------------------------------------\n",
      "Unique values and counts for column: 'Risk'\n",
      "           Risk  count\n",
      "0           Low    249\n",
      "1  Intermediate    102\n",
      "2          High     32\n",
      "----------------------------------------\n",
      "Unique values and counts for column: 'T'\n",
      "     T  count\n",
      "0   T2    151\n",
      "1  T3a     96\n",
      "2  T1a     49\n",
      "3  T1b     43\n",
      "4  T4a     20\n",
      "5  T3b     16\n",
      "6  T4b      8\n",
      "----------------------------------------\n",
      "Unique values and counts for column: 'N'\n",
      "     N  count\n",
      "0   N0    268\n",
      "1  N1b     93\n",
      "2  N1a     22\n",
      "----------------------------------------\n",
      "Unique values and counts for column: 'M'\n",
      "    M  count\n",
      "0  M0    365\n",
      "1  M1     18\n",
      "----------------------------------------\n",
      "Unique values and counts for column: 'Stage'\n",
      "  Stage  count\n",
      "0     I    333\n",
      "1    II     32\n",
      "2   IVB     11\n",
      "3   III      4\n",
      "4   IVA      3\n",
      "----------------------------------------\n",
      "Unique values and counts for column: 'Response'\n",
      "                 Response  count\n",
      "0               Excellent    208\n",
      "1   Structural Incomplete     91\n",
      "2           Indeterminate     61\n",
      "3  Biochemical Incomplete     23\n",
      "----------------------------------------\n",
      "Unique values and counts for column: 'Recurred'\n",
      "  Recurred  count\n",
      "0       No    275\n",
      "1      Yes    108\n",
      "----------------------------------------\n",
      "FUNCTION FINISHED, detected no columns with only 1 unique values which is good.\n"
     ]
    }
   ],
   "source": [
    "# check each column for unique values\n",
    "# mainly looking for columns with only 2 unique values which I can convert them in binary 0s and 1s\n",
    "# the function will print out all the unique values\n",
    "MyCustDataSciLib.print_unique_values_summary(df, 'all')\n",
    "# I checked all the unique values and saw no misspelled or similar values"
   ]
  },
  {
   "cell_type": "markdown",
   "metadata": {},
   "source": [
    "# Rename Columns Names for Consistency"
   ]
  },
  {
   "cell_type": "code",
   "execution_count": 14,
   "metadata": {},
   "outputs": [
    {
     "data": {
      "text/plain": [
       "0                      Age\n",
       "1                   Gender\n",
       "2                  Smoking\n",
       "3               Hx Smoking\n",
       "4          Hx Radiothreapy\n",
       "5         Thyroid Function\n",
       "6     Physical Examination\n",
       "7               Adenopathy\n",
       "8                Pathology\n",
       "9                 Focality\n",
       "10                    Risk\n",
       "11                       T\n",
       "12                       N\n",
       "13                       M\n",
       "14                   Stage\n",
       "15                Response\n",
       "16                Recurred\n",
       "dtype: object"
      ]
     },
     "execution_count": 14,
     "metadata": {},
     "output_type": "execute_result"
    }
   ],
   "source": [
    "# check columns before\n",
    "    # reminder it is impossible for pandas to have duplicate columns as will override all duplicate columns with the last duplicate \n",
    "    # using pd.series as like how it looks in a vertical column \n",
    "pd.Series(df.columns)\n",
    "\n",
    "# I notice there is a misspelling in one of the columns 'Hx Radiothreapy'"
   ]
  },
  {
   "cell_type": "code",
   "execution_count": 15,
   "metadata": {},
   "outputs": [
    {
     "data": {
      "text/plain": [
       "0                      Age\n",
       "1                   Gender\n",
       "2                  Smoking\n",
       "3               Hx_Smoking\n",
       "4          Hx_Radiothreapy\n",
       "5         Thyroid_Function\n",
       "6     Physical_Examination\n",
       "7               Adenopathy\n",
       "8                Pathology\n",
       "9                 Focality\n",
       "10                    Risk\n",
       "11                       T\n",
       "12                       N\n",
       "13                       M\n",
       "14                   Stage\n",
       "15                Response\n",
       "16                Recurred\n",
       "dtype: object"
      ]
     },
     "execution_count": 15,
     "metadata": {},
     "output_type": "execute_result"
    }
   ],
   "source": [
    "# if column names have spaces, if so then replace with one underscore _ \n",
    "df = MyCustDataSciLib.replace_spaces_in_col_names(df, columns='all')\n",
    "pd.Series(df.columns)"
   ]
  },
  {
   "cell_type": "code",
   "execution_count": 16,
   "metadata": {},
   "outputs": [
    {
     "data": {
      "text/plain": [
       "0                      age\n",
       "1                   gender\n",
       "2                  smoking\n",
       "3               hx_smoking\n",
       "4          hx_radiothreapy\n",
       "5         thyroid_function\n",
       "6     physical_examination\n",
       "7               adenopathy\n",
       "8                pathology\n",
       "9                 focality\n",
       "10                    risk\n",
       "11                       t\n",
       "12                       n\n",
       "13                       m\n",
       "14                   stage\n",
       "15                response\n",
       "16                recurred\n",
       "dtype: object"
      ]
     },
     "execution_count": 16,
     "metadata": {},
     "output_type": "execute_result"
    }
   ],
   "source": [
    "# convert all column name letters to lower case \n",
    "df = MyCustDataSciLib.convert_col_names_to_lowercase(df,'all')\n",
    "pd.Series(df.columns)"
   ]
  },
  {
   "cell_type": "code",
   "execution_count": 17,
   "metadata": {},
   "outputs": [
    {
     "name": "stdout",
     "output_type": "stream",
     "text": [
      "Column 'hx_radiothreapy' successfully renamed to 'hx_radiotherapy'.\n",
      "Column 'recurred' successfully renamed to 'recurrence'.\n"
     ]
    },
    {
     "data": {
      "text/plain": [
       "0                      age\n",
       "1                   gender\n",
       "2                  smoking\n",
       "3               hx_smoking\n",
       "4          hx_radiotherapy\n",
       "5         thyroid_function\n",
       "6     physical_examination\n",
       "7               adenopathy\n",
       "8                pathology\n",
       "9                 focality\n",
       "10                    risk\n",
       "11                       t\n",
       "12                       n\n",
       "13                       m\n",
       "14                   stage\n",
       "15                response\n",
       "16              recurrence\n",
       "dtype: object"
      ]
     },
     "execution_count": 17,
     "metadata": {},
     "output_type": "execute_result"
    }
   ],
   "source": [
    "# rename specific columns\n",
    "    # I correct the typo in 'hx radiothreapy' to \n",
    "    # I changed 'Recurred' to 'Recurrence' which is proper and removes ambiguity for people with medical knowledge.\n",
    "\n",
    "df = MyCustDataSciLib.rename_col_names(df, {\n",
    "    'hx_radiothreapy':'hx_radiotherapy',\n",
    "    'recurred':'recurrence'\n",
    "    })\n",
    "pd.Series(df.columns)"
   ]
  },
  {
   "cell_type": "code",
   "execution_count": 18,
   "metadata": {},
   "outputs": [
    {
     "data": {
      "text/plain": [
       "\"\\n# override all column names\\ndf.columns = ['col1', 'col2', 'col3']\\n\""
      ]
     },
     "execution_count": 18,
     "metadata": {},
     "output_type": "execute_result"
    }
   ],
   "source": [
    "# rename columns old methods\n",
    "    # not needed \n",
    "'''\n",
    "# override all column names\n",
    "df.columns = ['col1', 'col2', 'col3']\n",
    "'''"
   ]
  },
  {
   "cell_type": "markdown",
   "metadata": {},
   "source": [
    "# Rename Column Values for Consistency"
   ]
  },
  {
   "cell_type": "code",
   "execution_count": 19,
   "metadata": {},
   "outputs": [
    {
     "name": "stdout",
     "output_type": "stream",
     "text": [
      "Unique values and counts for column: 'age'\n",
      "    age  count\n",
      "0    31     22\n",
      "1    27     13\n",
      "2    40     12\n",
      "3    26     12\n",
      "4    28     12\n",
      "..  ...    ...\n",
      "60   79      1\n",
      "61   18      1\n",
      "62   69      1\n",
      "63   76      1\n",
      "64   78      1\n",
      "\n",
      "[65 rows x 2 columns]\n",
      "----------------------------------------\n",
      "Unique values and counts for column: 'gender'\n",
      "  gender  count\n",
      "0      F    312\n",
      "1      M     71\n",
      "----------------------------------------\n",
      "Unique values and counts for column: 'smoking'\n",
      "  smoking  count\n",
      "0      No    334\n",
      "1     Yes     49\n",
      "----------------------------------------\n",
      "Unique values and counts for column: 'hx_smoking'\n",
      "  hx_smoking  count\n",
      "0         No    355\n",
      "1        Yes     28\n",
      "----------------------------------------\n",
      "Unique values and counts for column: 'hx_radiotherapy'\n",
      "  hx_radiotherapy  count\n",
      "0              No    376\n",
      "1             Yes      7\n",
      "----------------------------------------\n",
      "Unique values and counts for column: 'thyroid_function'\n",
      "              thyroid_function  count\n",
      "0                    Euthyroid    332\n",
      "1     Clinical Hyperthyroidism     20\n",
      "2   Subclinical Hypothyroidism     14\n",
      "3      Clinical Hypothyroidism     12\n",
      "4  Subclinical Hyperthyroidism      5\n",
      "----------------------------------------\n",
      "Unique values and counts for column: 'physical_examination'\n",
      "          physical_examination  count\n",
      "0          Multinodular goiter    140\n",
      "1  Single nodular goiter-right    140\n",
      "2   Single nodular goiter-left     89\n",
      "3                       Normal      7\n",
      "4               Diffuse goiter      7\n",
      "----------------------------------------\n",
      "Unique values and counts for column: 'adenopathy'\n",
      "  adenopathy  count\n",
      "0         No    277\n",
      "1      Right     48\n",
      "2  Bilateral     32\n",
      "3       Left     17\n",
      "4  Extensive      7\n",
      "5  Posterior      2\n",
      "----------------------------------------\n",
      "Unique values and counts for column: 'pathology'\n",
      "        pathology  count\n",
      "0       Papillary    287\n",
      "1  Micropapillary     48\n",
      "2      Follicular     28\n",
      "3    Hurthel cell     20\n",
      "----------------------------------------\n",
      "Unique values and counts for column: 'focality'\n",
      "      focality  count\n",
      "0    Uni-Focal    247\n",
      "1  Multi-Focal    136\n",
      "----------------------------------------\n",
      "Unique values and counts for column: 'risk'\n",
      "           risk  count\n",
      "0           Low    249\n",
      "1  Intermediate    102\n",
      "2          High     32\n",
      "----------------------------------------\n",
      "Unique values and counts for column: 't'\n",
      "     t  count\n",
      "0   T2    151\n",
      "1  T3a     96\n",
      "2  T1a     49\n",
      "3  T1b     43\n",
      "4  T4a     20\n",
      "5  T3b     16\n",
      "6  T4b      8\n",
      "----------------------------------------\n",
      "Unique values and counts for column: 'n'\n",
      "     n  count\n",
      "0   N0    268\n",
      "1  N1b     93\n",
      "2  N1a     22\n",
      "----------------------------------------\n",
      "Unique values and counts for column: 'm'\n",
      "    m  count\n",
      "0  M0    365\n",
      "1  M1     18\n",
      "----------------------------------------\n",
      "Unique values and counts for column: 'stage'\n",
      "  stage  count\n",
      "0     I    333\n",
      "1    II     32\n",
      "2   IVB     11\n",
      "3   III      4\n",
      "4   IVA      3\n",
      "----------------------------------------\n",
      "Unique values and counts for column: 'response'\n",
      "                 response  count\n",
      "0               Excellent    208\n",
      "1   Structural Incomplete     91\n",
      "2           Indeterminate     61\n",
      "3  Biochemical Incomplete     23\n",
      "----------------------------------------\n",
      "Unique values and counts for column: 'recurrence'\n",
      "  recurrence  count\n",
      "0         No    275\n",
      "1        Yes    108\n",
      "----------------------------------------\n",
      "FUNCTION FINISHED, detected no columns with only 1 unique values which is good.\n"
     ]
    }
   ],
   "source": [
    "# check out the unique values before edit\n",
    "MyCustDataSciLib.print_unique_values_summary(df, 'all')"
   ]
  },
  {
   "cell_type": "code",
   "execution_count": 20,
   "metadata": {},
   "outputs": [],
   "source": [
    "# replace specific columns string value's spaces with underscores\n",
    "df = MyCustDataSciLib.replace_spaces_in_col_values(df, 'all')"
   ]
  },
  {
   "cell_type": "code",
   "execution_count": 21,
   "metadata": {},
   "outputs": [],
   "source": [
    "# make specific columns string value lower case\n",
    "df = MyCustDataSciLib.convert_col_values_to_lowercase(df, 'all')"
   ]
  },
  {
   "cell_type": "code",
   "execution_count": 22,
   "metadata": {},
   "outputs": [
    {
     "data": {
      "text/plain": [
       "\"\\ndf = replace_col_values(df, columns='all', replacements=None)\\n\""
      ]
     },
     "execution_count": 22,
     "metadata": {},
     "output_type": "execute_result"
    }
   ],
   "source": [
    "# replace specific columns values \n",
    "    # not needed \n",
    "'''\n",
    "df = replace_col_values(df, columns='all', replacements=None)\n",
    "'''"
   ]
  },
  {
   "cell_type": "code",
   "execution_count": 23,
   "metadata": {},
   "outputs": [
    {
     "name": "stdout",
     "output_type": "stream",
     "text": [
      "Unique values and counts for column: 'age'\n",
      "    age  count\n",
      "0    31     22\n",
      "1    27     13\n",
      "2    40     12\n",
      "3    26     12\n",
      "4    28     12\n",
      "..  ...    ...\n",
      "60   79      1\n",
      "61   18      1\n",
      "62   69      1\n",
      "63   76      1\n",
      "64   78      1\n",
      "\n",
      "[65 rows x 2 columns]\n",
      "----------------------------------------\n",
      "Unique values and counts for column: 'gender'\n",
      "  gender  count\n",
      "0      f    312\n",
      "1      m     71\n",
      "----------------------------------------\n",
      "Unique values and counts for column: 'smoking'\n",
      "  smoking  count\n",
      "0      no    334\n",
      "1     yes     49\n",
      "----------------------------------------\n",
      "Unique values and counts for column: 'hx_smoking'\n",
      "  hx_smoking  count\n",
      "0         no    355\n",
      "1        yes     28\n",
      "----------------------------------------\n",
      "Unique values and counts for column: 'hx_radiotherapy'\n",
      "  hx_radiotherapy  count\n",
      "0              no    376\n",
      "1             yes      7\n",
      "----------------------------------------\n",
      "Unique values and counts for column: 'thyroid_function'\n",
      "              thyroid_function  count\n",
      "0                    euthyroid    332\n",
      "1     clinical_hyperthyroidism     20\n",
      "2   subclinical_hypothyroidism     14\n",
      "3      clinical_hypothyroidism     12\n",
      "4  subclinical_hyperthyroidism      5\n",
      "----------------------------------------\n",
      "Unique values and counts for column: 'physical_examination'\n",
      "          physical_examination  count\n",
      "0          multinodular_goiter    140\n",
      "1  single_nodular_goiter-right    140\n",
      "2   single_nodular_goiter-left     89\n",
      "3                       normal      7\n",
      "4               diffuse_goiter      7\n",
      "----------------------------------------\n",
      "Unique values and counts for column: 'adenopathy'\n",
      "  adenopathy  count\n",
      "0         no    277\n",
      "1      right     48\n",
      "2  bilateral     32\n",
      "3       left     17\n",
      "4  extensive      7\n",
      "5  posterior      2\n",
      "----------------------------------------\n",
      "Unique values and counts for column: 'pathology'\n",
      "        pathology  count\n",
      "0       papillary    287\n",
      "1  micropapillary     48\n",
      "2      follicular     28\n",
      "3    hurthel_cell     20\n",
      "----------------------------------------\n",
      "Unique values and counts for column: 'focality'\n",
      "      focality  count\n",
      "0    uni-focal    247\n",
      "1  multi-focal    136\n",
      "----------------------------------------\n",
      "Unique values and counts for column: 'risk'\n",
      "           risk  count\n",
      "0           low    249\n",
      "1  intermediate    102\n",
      "2          high     32\n",
      "----------------------------------------\n",
      "Unique values and counts for column: 't'\n",
      "     t  count\n",
      "0   t2    151\n",
      "1  t3a     96\n",
      "2  t1a     49\n",
      "3  t1b     43\n",
      "4  t4a     20\n",
      "5  t3b     16\n",
      "6  t4b      8\n",
      "----------------------------------------\n",
      "Unique values and counts for column: 'n'\n",
      "     n  count\n",
      "0   n0    268\n",
      "1  n1b     93\n",
      "2  n1a     22\n",
      "----------------------------------------\n",
      "Unique values and counts for column: 'm'\n",
      "    m  count\n",
      "0  m0    365\n",
      "1  m1     18\n",
      "----------------------------------------\n",
      "Unique values and counts for column: 'stage'\n",
      "  stage  count\n",
      "0     i    333\n",
      "1    ii     32\n",
      "2   ivb     11\n",
      "3   iii      4\n",
      "4   iva      3\n",
      "----------------------------------------\n",
      "Unique values and counts for column: 'response'\n",
      "                 response  count\n",
      "0               excellent    208\n",
      "1   structural_incomplete     91\n",
      "2           indeterminate     61\n",
      "3  biochemical_incomplete     23\n",
      "----------------------------------------\n",
      "Unique values and counts for column: 'recurrence'\n",
      "  recurrence  count\n",
      "0         no    275\n",
      "1        yes    108\n",
      "----------------------------------------\n",
      "FUNCTION FINISHED, detected no columns with only 1 unique values which is good.\n"
     ]
    }
   ],
   "source": [
    "# check out the unique values after edit\n",
    "MyCustDataSciLib.print_unique_values_summary(df, 'all')"
   ]
  },
  {
   "cell_type": "code",
   "execution_count": 24,
   "metadata": {},
   "outputs": [
    {
     "data": {
      "text/plain": [
       "\"\\ndf['column_name'] = df['column_name'].str.lower()\\ndf['column_name'] = df['column_name'].str.replace('old', 'new')\\n\""
      ]
     },
     "execution_count": 24,
     "metadata": {},
     "output_type": "execute_result"
    }
   ],
   "source": [
    "# other clean string methods\n",
    "    # not needed\n",
    "'''\n",
    "df['column_name'] = df['column_name'].str.lower()\n",
    "df['column_name'] = df['column_name'].str.replace('old', 'new')\n",
    "'''"
   ]
  },
  {
   "cell_type": "markdown",
   "metadata": {},
   "source": [
    "# Merging the thyroid function column"
   ]
  },
  {
   "cell_type": "code",
   "execution_count": 25,
   "metadata": {},
   "outputs": [
    {
     "name": "stdout",
     "output_type": "stream",
     "text": [
      "Unique values and counts for column: 'thyroid_function'\n",
      "              thyroid_function  count\n",
      "0                    euthyroid    332\n",
      "1     clinical_hyperthyroidism     20\n",
      "2   subclinical_hypothyroidism     14\n",
      "3      clinical_hypothyroidism     12\n",
      "4  subclinical_hyperthyroidism      5\n",
      "----------------------------------------\n",
      "FUNCTION FINISHED, detected no columns with only 1 unique values which is good.\n"
     ]
    }
   ],
   "source": [
    "MyCustDataSciLib.print_unique_values_summary(df, ['thyroid_function'])"
   ]
  },
  {
   "cell_type": "code",
   "execution_count": 26,
   "metadata": {},
   "outputs": [],
   "source": [
    "# the main objective is to make a model that can predict if you have thyroid disease or not.\n",
    "# the column thyroid_function is this indicator but it has multiple values, but alot of these values are just different terms of thyroid disease.\n",
    "# I thought about making a model to predict the different types of thyroid disease, but some of their data size is really small, as observed from checking the count of unique values in that column which was done in Data Wrangling step.\n",
    "# thyroid function meaning\n",
    "    # Euthyroid - Normal thyroid function. No signs of hyperthyroidism or hypothyroidism.\n",
    "    # Hyperthyroidism - Thyroid produces excess thyroid hormones, leading to symptoms like weight loss, rapid heart rate, and anxiety.\n",
    "    # Hypothyroidism - Thyroid does not produce enough hormones, leading to symptoms like fatigue, weight gain, and depression.\n",
    "    # Clinical - The condition is symptomatic and clearly impacts the patient,\n",
    "    # SubClinical - The condition is asymptomatic or mild, and abnormalities are only detected through lab tests (e.g., TSH levels). Hormone levels (T3, T4), may develop into clinical"
   ]
  },
  {
   "cell_type": "code",
   "execution_count": 27,
   "metadata": {},
   "outputs": [
    {
     "name": "stdout",
     "output_type": "stream",
     "text": [
      "New column \"thyroid_function_merge\" has been added with the converted categories\n"
     ]
    }
   ],
   "source": [
    "df, incompatible_rows_info, incompatible_rows = MyCustDataSciLib.merge_into_new_binary_col(df,'thyroid_function',\n",
    "                                                                                          ['clinical_hyperthyroidism','subclinical_hypothyroidism','clinical_hypothyroidism','subclinical_hyperthyroidism'],\n",
    "                                                                                          'euthyroid',\n",
    "                                                                                          'thyroid_function_merge',\n",
    "                                                                                          'thyroid_disease',\n",
    "                                                                                          'thyroid_normal'\n",
    "                                                                                          )"
   ]
  },
  {
   "cell_type": "code",
   "execution_count": 28,
   "metadata": {},
   "outputs": [
    {
     "name": "stdout",
     "output_type": "stream",
     "text": [
      "Unique values and counts for column: 'thyroid_function'\n",
      "              thyroid_function  count\n",
      "0                    euthyroid    332\n",
      "1     clinical_hyperthyroidism     20\n",
      "2   subclinical_hypothyroidism     14\n",
      "3      clinical_hypothyroidism     12\n",
      "4  subclinical_hyperthyroidism      5\n",
      "----------------------------------------\n",
      "FUNCTION FINISHED, detected no columns with only 1 unique values which is good.\n"
     ]
    }
   ],
   "source": [
    "MyCustDataSciLib.print_unique_values_summary(df, ['thyroid_function'])\n",
    "# check the old column has not been overrided"
   ]
  },
  {
   "cell_type": "code",
   "execution_count": 29,
   "metadata": {},
   "outputs": [
    {
     "name": "stdout",
     "output_type": "stream",
     "text": [
      "Unique values and counts for column: 'thyroid_function_merge'\n",
      "  thyroid_function_merge  count\n",
      "0         thyroid_normal    332\n",
      "1        thyroid_disease     51\n",
      "----------------------------------------\n",
      "FUNCTION FINISHED, detected no columns with only 1 unique values which is good.\n"
     ]
    }
   ],
   "source": [
    "MyCustDataSciLib.print_unique_values_summary(df, ['thyroid_function_merge'])\n",
    "# as you can see all the different types of thyroid diseases have been aggregate into only the number 1 "
   ]
  },
  {
   "cell_type": "code",
   "execution_count": 30,
   "metadata": {},
   "outputs": [
    {
     "data": {
      "text/html": [
       "<div>\n",
       "<style scoped>\n",
       "    .dataframe tbody tr th:only-of-type {\n",
       "        vertical-align: middle;\n",
       "    }\n",
       "\n",
       "    .dataframe tbody tr th {\n",
       "        vertical-align: top;\n",
       "    }\n",
       "\n",
       "    .dataframe thead th {\n",
       "        text-align: right;\n",
       "    }\n",
       "</style>\n",
       "<table border=\"1\" class=\"dataframe\">\n",
       "  <thead>\n",
       "    <tr style=\"text-align: right;\">\n",
       "      <th></th>\n",
       "      <th>age</th>\n",
       "      <th>gender</th>\n",
       "      <th>smoking</th>\n",
       "      <th>hx_smoking</th>\n",
       "      <th>hx_radiotherapy</th>\n",
       "      <th>thyroid_function</th>\n",
       "      <th>physical_examination</th>\n",
       "      <th>adenopathy</th>\n",
       "      <th>pathology</th>\n",
       "      <th>focality</th>\n",
       "      <th>risk</th>\n",
       "      <th>t</th>\n",
       "      <th>n</th>\n",
       "      <th>m</th>\n",
       "      <th>stage</th>\n",
       "      <th>response</th>\n",
       "      <th>recurrence</th>\n",
       "      <th>thyroid_function_merge</th>\n",
       "    </tr>\n",
       "  </thead>\n",
       "  <tbody>\n",
       "    <tr>\n",
       "      <th>0</th>\n",
       "      <td>27</td>\n",
       "      <td>f</td>\n",
       "      <td>no</td>\n",
       "      <td>no</td>\n",
       "      <td>no</td>\n",
       "      <td>euthyroid</td>\n",
       "      <td>single_nodular_goiter-left</td>\n",
       "      <td>no</td>\n",
       "      <td>micropapillary</td>\n",
       "      <td>uni-focal</td>\n",
       "      <td>low</td>\n",
       "      <td>t1a</td>\n",
       "      <td>n0</td>\n",
       "      <td>m0</td>\n",
       "      <td>i</td>\n",
       "      <td>indeterminate</td>\n",
       "      <td>no</td>\n",
       "      <td>thyroid_normal</td>\n",
       "    </tr>\n",
       "    <tr>\n",
       "      <th>1</th>\n",
       "      <td>34</td>\n",
       "      <td>f</td>\n",
       "      <td>no</td>\n",
       "      <td>yes</td>\n",
       "      <td>no</td>\n",
       "      <td>euthyroid</td>\n",
       "      <td>multinodular_goiter</td>\n",
       "      <td>no</td>\n",
       "      <td>micropapillary</td>\n",
       "      <td>uni-focal</td>\n",
       "      <td>low</td>\n",
       "      <td>t1a</td>\n",
       "      <td>n0</td>\n",
       "      <td>m0</td>\n",
       "      <td>i</td>\n",
       "      <td>excellent</td>\n",
       "      <td>no</td>\n",
       "      <td>thyroid_normal</td>\n",
       "    </tr>\n",
       "    <tr>\n",
       "      <th>2</th>\n",
       "      <td>30</td>\n",
       "      <td>f</td>\n",
       "      <td>no</td>\n",
       "      <td>no</td>\n",
       "      <td>no</td>\n",
       "      <td>euthyroid</td>\n",
       "      <td>single_nodular_goiter-right</td>\n",
       "      <td>no</td>\n",
       "      <td>micropapillary</td>\n",
       "      <td>uni-focal</td>\n",
       "      <td>low</td>\n",
       "      <td>t1a</td>\n",
       "      <td>n0</td>\n",
       "      <td>m0</td>\n",
       "      <td>i</td>\n",
       "      <td>excellent</td>\n",
       "      <td>no</td>\n",
       "      <td>thyroid_normal</td>\n",
       "    </tr>\n",
       "    <tr>\n",
       "      <th>3</th>\n",
       "      <td>62</td>\n",
       "      <td>f</td>\n",
       "      <td>no</td>\n",
       "      <td>no</td>\n",
       "      <td>no</td>\n",
       "      <td>euthyroid</td>\n",
       "      <td>single_nodular_goiter-right</td>\n",
       "      <td>no</td>\n",
       "      <td>micropapillary</td>\n",
       "      <td>uni-focal</td>\n",
       "      <td>low</td>\n",
       "      <td>t1a</td>\n",
       "      <td>n0</td>\n",
       "      <td>m0</td>\n",
       "      <td>i</td>\n",
       "      <td>excellent</td>\n",
       "      <td>no</td>\n",
       "      <td>thyroid_normal</td>\n",
       "    </tr>\n",
       "    <tr>\n",
       "      <th>4</th>\n",
       "      <td>62</td>\n",
       "      <td>f</td>\n",
       "      <td>no</td>\n",
       "      <td>no</td>\n",
       "      <td>no</td>\n",
       "      <td>euthyroid</td>\n",
       "      <td>multinodular_goiter</td>\n",
       "      <td>no</td>\n",
       "      <td>micropapillary</td>\n",
       "      <td>multi-focal</td>\n",
       "      <td>low</td>\n",
       "      <td>t1a</td>\n",
       "      <td>n0</td>\n",
       "      <td>m0</td>\n",
       "      <td>i</td>\n",
       "      <td>excellent</td>\n",
       "      <td>no</td>\n",
       "      <td>thyroid_normal</td>\n",
       "    </tr>\n",
       "  </tbody>\n",
       "</table>\n",
       "</div>"
      ],
      "text/plain": [
       "   age gender smoking hx_smoking hx_radiotherapy thyroid_function  \\\n",
       "0   27      f      no         no              no        euthyroid   \n",
       "1   34      f      no        yes              no        euthyroid   \n",
       "2   30      f      no         no              no        euthyroid   \n",
       "3   62      f      no         no              no        euthyroid   \n",
       "4   62      f      no         no              no        euthyroid   \n",
       "\n",
       "          physical_examination adenopathy       pathology     focality risk  \\\n",
       "0   single_nodular_goiter-left         no  micropapillary    uni-focal  low   \n",
       "1          multinodular_goiter         no  micropapillary    uni-focal  low   \n",
       "2  single_nodular_goiter-right         no  micropapillary    uni-focal  low   \n",
       "3  single_nodular_goiter-right         no  micropapillary    uni-focal  low   \n",
       "4          multinodular_goiter         no  micropapillary  multi-focal  low   \n",
       "\n",
       "     t   n   m stage       response recurrence thyroid_function_merge  \n",
       "0  t1a  n0  m0     i  indeterminate         no         thyroid_normal  \n",
       "1  t1a  n0  m0     i      excellent         no         thyroid_normal  \n",
       "2  t1a  n0  m0     i      excellent         no         thyroid_normal  \n",
       "3  t1a  n0  m0     i      excellent         no         thyroid_normal  \n",
       "4  t1a  n0  m0     i      excellent         no         thyroid_normal  "
      ]
     },
     "execution_count": 30,
     "metadata": {},
     "output_type": "execute_result"
    }
   ],
   "source": [
    "df.head()"
   ]
  },
  {
   "cell_type": "markdown",
   "metadata": {},
   "source": [
    "# Handle Duplicate Values"
   ]
  },
  {
   "cell_type": "code",
   "execution_count": 31,
   "metadata": {},
   "outputs": [
    {
     "data": {
      "text/plain": [
       "19"
      ]
     },
     "execution_count": 31,
     "metadata": {},
     "output_type": "execute_result"
    }
   ],
   "source": [
    "# Check for duplicates values\n",
    "df.duplicated().sum()"
   ]
  },
  {
   "cell_type": "code",
   "execution_count": 32,
   "metadata": {},
   "outputs": [
    {
     "data": {
      "text/html": [
       "<div>\n",
       "<style scoped>\n",
       "    .dataframe tbody tr th:only-of-type {\n",
       "        vertical-align: middle;\n",
       "    }\n",
       "\n",
       "    .dataframe tbody tr th {\n",
       "        vertical-align: top;\n",
       "    }\n",
       "\n",
       "    .dataframe thead th {\n",
       "        text-align: right;\n",
       "    }\n",
       "</style>\n",
       "<table border=\"1\" class=\"dataframe\">\n",
       "  <thead>\n",
       "    <tr style=\"text-align: right;\">\n",
       "      <th></th>\n",
       "      <th>age</th>\n",
       "      <th>gender</th>\n",
       "      <th>smoking</th>\n",
       "      <th>hx_smoking</th>\n",
       "      <th>hx_radiotherapy</th>\n",
       "      <th>thyroid_function</th>\n",
       "      <th>physical_examination</th>\n",
       "      <th>adenopathy</th>\n",
       "      <th>pathology</th>\n",
       "      <th>focality</th>\n",
       "      <th>risk</th>\n",
       "      <th>t</th>\n",
       "      <th>n</th>\n",
       "      <th>m</th>\n",
       "      <th>stage</th>\n",
       "      <th>response</th>\n",
       "      <th>recurrence</th>\n",
       "      <th>thyroid_function_merge</th>\n",
       "    </tr>\n",
       "  </thead>\n",
       "  <tbody>\n",
       "    <tr>\n",
       "      <th>32</th>\n",
       "      <td>36</td>\n",
       "      <td>f</td>\n",
       "      <td>no</td>\n",
       "      <td>no</td>\n",
       "      <td>no</td>\n",
       "      <td>euthyroid</td>\n",
       "      <td>single_nodular_goiter-right</td>\n",
       "      <td>no</td>\n",
       "      <td>micropapillary</td>\n",
       "      <td>uni-focal</td>\n",
       "      <td>low</td>\n",
       "      <td>t1a</td>\n",
       "      <td>n0</td>\n",
       "      <td>m0</td>\n",
       "      <td>i</td>\n",
       "      <td>excellent</td>\n",
       "      <td>no</td>\n",
       "      <td>thyroid_normal</td>\n",
       "    </tr>\n",
       "    <tr>\n",
       "      <th>38</th>\n",
       "      <td>40</td>\n",
       "      <td>f</td>\n",
       "      <td>no</td>\n",
       "      <td>no</td>\n",
       "      <td>no</td>\n",
       "      <td>euthyroid</td>\n",
       "      <td>single_nodular_goiter-right</td>\n",
       "      <td>no</td>\n",
       "      <td>micropapillary</td>\n",
       "      <td>uni-focal</td>\n",
       "      <td>low</td>\n",
       "      <td>t1a</td>\n",
       "      <td>n0</td>\n",
       "      <td>m0</td>\n",
       "      <td>i</td>\n",
       "      <td>excellent</td>\n",
       "      <td>no</td>\n",
       "      <td>thyroid_normal</td>\n",
       "    </tr>\n",
       "    <tr>\n",
       "      <th>40</th>\n",
       "      <td>51</td>\n",
       "      <td>f</td>\n",
       "      <td>no</td>\n",
       "      <td>no</td>\n",
       "      <td>no</td>\n",
       "      <td>euthyroid</td>\n",
       "      <td>single_nodular_goiter-right</td>\n",
       "      <td>no</td>\n",
       "      <td>micropapillary</td>\n",
       "      <td>uni-focal</td>\n",
       "      <td>low</td>\n",
       "      <td>t1a</td>\n",
       "      <td>n0</td>\n",
       "      <td>m0</td>\n",
       "      <td>i</td>\n",
       "      <td>excellent</td>\n",
       "      <td>no</td>\n",
       "      <td>thyroid_normal</td>\n",
       "    </tr>\n",
       "    <tr>\n",
       "      <th>66</th>\n",
       "      <td>35</td>\n",
       "      <td>f</td>\n",
       "      <td>no</td>\n",
       "      <td>no</td>\n",
       "      <td>no</td>\n",
       "      <td>euthyroid</td>\n",
       "      <td>single_nodular_goiter-right</td>\n",
       "      <td>no</td>\n",
       "      <td>papillary</td>\n",
       "      <td>uni-focal</td>\n",
       "      <td>low</td>\n",
       "      <td>t1b</td>\n",
       "      <td>n0</td>\n",
       "      <td>m0</td>\n",
       "      <td>i</td>\n",
       "      <td>excellent</td>\n",
       "      <td>no</td>\n",
       "      <td>thyroid_normal</td>\n",
       "    </tr>\n",
       "    <tr>\n",
       "      <th>69</th>\n",
       "      <td>51</td>\n",
       "      <td>f</td>\n",
       "      <td>no</td>\n",
       "      <td>no</td>\n",
       "      <td>no</td>\n",
       "      <td>euthyroid</td>\n",
       "      <td>single_nodular_goiter-left</td>\n",
       "      <td>no</td>\n",
       "      <td>papillary</td>\n",
       "      <td>uni-focal</td>\n",
       "      <td>low</td>\n",
       "      <td>t1b</td>\n",
       "      <td>n0</td>\n",
       "      <td>m0</td>\n",
       "      <td>i</td>\n",
       "      <td>excellent</td>\n",
       "      <td>no</td>\n",
       "      <td>thyroid_normal</td>\n",
       "    </tr>\n",
       "  </tbody>\n",
       "</table>\n",
       "</div>"
      ],
      "text/plain": [
       "    age gender smoking hx_smoking hx_radiotherapy thyroid_function  \\\n",
       "32   36      f      no         no              no        euthyroid   \n",
       "38   40      f      no         no              no        euthyroid   \n",
       "40   51      f      no         no              no        euthyroid   \n",
       "66   35      f      no         no              no        euthyroid   \n",
       "69   51      f      no         no              no        euthyroid   \n",
       "\n",
       "           physical_examination adenopathy       pathology   focality risk  \\\n",
       "32  single_nodular_goiter-right         no  micropapillary  uni-focal  low   \n",
       "38  single_nodular_goiter-right         no  micropapillary  uni-focal  low   \n",
       "40  single_nodular_goiter-right         no  micropapillary  uni-focal  low   \n",
       "66  single_nodular_goiter-right         no       papillary  uni-focal  low   \n",
       "69   single_nodular_goiter-left         no       papillary  uni-focal  low   \n",
       "\n",
       "      t   n   m stage   response recurrence thyroid_function_merge  \n",
       "32  t1a  n0  m0     i  excellent         no         thyroid_normal  \n",
       "38  t1a  n0  m0     i  excellent         no         thyroid_normal  \n",
       "40  t1a  n0  m0     i  excellent         no         thyroid_normal  \n",
       "66  t1b  n0  m0     i  excellent         no         thyroid_normal  \n",
       "69  t1b  n0  m0     i  excellent         no         thyroid_normal  "
      ]
     },
     "execution_count": 32,
     "metadata": {},
     "output_type": "execute_result"
    }
   ],
   "source": [
    "# Display all duplicate rows\n",
    "    # appears all the duplicates are real data. It's because they don't have the names of the patients due to patient privacy, thus some data look similar.\n",
    "    # of course this is just an assumption, but will continue with the data under this assumption.\n",
    "df_duplicates = df[df.duplicated()]\n",
    "df_duplicates.head()"
   ]
  },
  {
   "cell_type": "code",
   "execution_count": 33,
   "metadata": {},
   "outputs": [
    {
     "data": {
      "text/plain": [
       "'\\ndf.drop_duplicates(inplace=True)\\n'"
      ]
     },
     "execution_count": 33,
     "metadata": {},
     "output_type": "execute_result"
    }
   ],
   "source": [
    "# Drop duplicates\n",
    "    # not needed as assume no duplicate data\n",
    "'''\n",
    "df.drop_duplicates(inplace=True)\n",
    "'''"
   ]
  },
  {
   "cell_type": "markdown",
   "metadata": {},
   "source": [
    "# Change Data Types"
   ]
  },
  {
   "cell_type": "code",
   "execution_count": 34,
   "metadata": {},
   "outputs": [
    {
     "data": {
      "text/plain": [
       "\"\\ndf['Smoking'].replace({'Yes': 1, 'No': 0}, inplace=True) \\ndf['column_name'] = df['column_name'].astype('int')\\ndf['column_name'] = pd.to_datetime(df['column_name'])\\n\""
      ]
     },
     "execution_count": 34,
     "metadata": {},
     "output_type": "execute_result"
    }
   ],
   "source": [
    "# Change Data types\n",
    "    # not needed\n",
    "'''\n",
    "df['Smoking'].replace({'Yes': 1, 'No': 0}, inplace=True) \n",
    "df['column_name'] = df['column_name'].astype('int')\n",
    "df['column_name'] = pd.to_datetime(df['column_name'])\n",
    "'''"
   ]
  },
  {
   "cell_type": "markdown",
   "metadata": {},
   "source": [
    "# Filter Data"
   ]
  },
  {
   "cell_type": "code",
   "execution_count": 35,
   "metadata": {},
   "outputs": [
    {
     "data": {
      "text/plain": [
       "\"filtered_df = df[df['column_name'] > value]\""
      ]
     },
     "execution_count": 35,
     "metadata": {},
     "output_type": "execute_result"
    }
   ],
   "source": [
    "# Filter data\n",
    "    # not needed\n",
    "'''filtered_df = df[df['column_name'] > value]'''"
   ]
  },
  {
   "cell_type": "markdown",
   "metadata": {},
   "source": [
    "# Select & Drop Columns"
   ]
  },
  {
   "cell_type": "code",
   "execution_count": 36,
   "metadata": {},
   "outputs": [
    {
     "data": {
      "text/plain": [
       "\"\\ndf.drop(columns=['col1', 'col2'], inplace=True)\\n\""
      ]
     },
     "execution_count": 36,
     "metadata": {},
     "output_type": "execute_result"
    }
   ],
   "source": [
    "# select and drop columns\n",
    "    # not needed\n",
    "\n",
    "'''\n",
    "df.drop(columns=['col1', 'col2'], inplace=True)\n",
    "'''"
   ]
  },
  {
   "cell_type": "markdown",
   "metadata": {},
   "source": [
    "# Modify & Group Data"
   ]
  },
  {
   "cell_type": "code",
   "execution_count": 37,
   "metadata": {},
   "outputs": [
    {
     "data": {
      "text/plain": [
       "'\\ndf[\\'new_column\\'] = df[\\'col1\\'] + df[\\'col2\\']\\ndf[\\'modified_col\\'] = df[\\'column_name\\'].apply(lambda x: x**2)\"Capstone 2 - Thyroid Disease.pdf\"\\n'"
      ]
     },
     "execution_count": 37,
     "metadata": {},
     "output_type": "execute_result"
    }
   ],
   "source": [
    "# Modify Columns\n",
    "    # not needed\n",
    "\n",
    "'''\n",
    "df['new_column'] = df['col1'] + df['col2']\n",
    "df['modified_col'] = df['column_name'].apply(lambda x: x**2)\"Capstone 2 - Thyroid Disease.pdf\"\n",
    "'''"
   ]
  },
  {
   "cell_type": "code",
   "execution_count": 38,
   "metadata": {},
   "outputs": [
    {
     "data": {
      "text/plain": [
       "\"\\ngrouped = df.groupby('column_name').agg({'col1': 'sum', 'col2': 'mean'})\\ngrouped.reset_index(inplace=True)\\n\""
      ]
     },
     "execution_count": 38,
     "metadata": {},
     "output_type": "execute_result"
    }
   ],
   "source": [
    "# Group and Aggregate data\n",
    "\n",
    "'''\n",
    "grouped = df.groupby('column_name').agg({'col1': 'sum', 'col2': 'mean'})\n",
    "grouped.reset_index(inplace=True)\n",
    "'''\n"
   ]
  },
  {
   "cell_type": "markdown",
   "metadata": {},
   "source": [
    "# Sort Columns"
   ]
  },
  {
   "cell_type": "code",
   "execution_count": 39,
   "metadata": {},
   "outputs": [
    {
     "data": {
      "text/plain": [
       "\"\\ndf.sort_values(by='column_name', ascending=True, inplace=True)\\n\""
      ]
     },
     "execution_count": 39,
     "metadata": {},
     "output_type": "execute_result"
    }
   ],
   "source": [
    "# Sort columns \n",
    "    # not needed\n",
    "\n",
    "'''\n",
    "df.sort_values(by='column_name', ascending=True, inplace=True)\n",
    "'''"
   ]
  },
  {
   "cell_type": "markdown",
   "metadata": {},
   "source": [
    "# Scaling & normalizing data"
   ]
  },
  {
   "cell_type": "code",
   "execution_count": 40,
   "metadata": {},
   "outputs": [
    {
     "data": {
      "text/plain": [
       "\"\\nfrom sklearn.preprocessing import MinMaxScaler\\n\\nscaler = MinMaxScaler()\\ndf['scaled_column'] = scaler.fit_transform(df[['original_column']])\\n\\ndf['log_scaled_column'] = np.log(df['original_column'] + 1)  # Add 1 to avoid log(0)\\n\""
      ]
     },
     "execution_count": 40,
     "metadata": {},
     "output_type": "execute_result"
    }
   ],
   "source": [
    "# scaling and normalizing data\n",
    "    # not needed\n",
    "\n",
    "'''\n",
    "from sklearn.preprocessing import MinMaxScaler\n",
    "\n",
    "scaler = MinMaxScaler()\n",
    "df['scaled_column'] = scaler.fit_transform(df[['original_column']])\n",
    "\n",
    "df['log_scaled_column'] = np.log(df['original_column'] + 1)  # Add 1 to avoid log(0)\n",
    "'''"
   ]
  },
  {
   "cell_type": "markdown",
   "metadata": {},
   "source": [
    "# Handling Outliers"
   ]
  },
  {
   "cell_type": "code",
   "execution_count": 41,
   "metadata": {},
   "outputs": [
    {
     "name": "stdout",
     "output_type": "stream",
     "text": [
      "Detecting outliers for the 'age' column.\n",
      "Lower bounds:   -4.0\n",
      "Q1:             29.0\n",
      "Q3:             51.0\n",
      "Upper bounds:   84.0\n",
      "'age' column has no outliers.\n"
     ]
    }
   ],
   "source": [
    "# Detect Outliers\n",
    "# age is the only column with a continuous range of numbers so will see if any age is considered an outlier\n",
    "outlier_rows_info, outlier_rows = MyCustDataSciLib.detect_outliers_in_col(df, 'age')"
   ]
  },
  {
   "cell_type": "code",
   "execution_count": 42,
   "metadata": {},
   "outputs": [
    {
     "data": {
      "text/plain": [
       "'\\ndf = df.drop(index=outlier_rows)\\n'"
      ]
     },
     "execution_count": 42,
     "metadata": {},
     "output_type": "execute_result"
    }
   ],
   "source": [
    "# remove outliers \n",
    "    # there are no outliers for this data so no need \n",
    "'''\n",
    "df = df.drop(index=outlier_rows)\n",
    "'''"
   ]
  },
  {
   "cell_type": "markdown",
   "metadata": {},
   "source": [
    "# Export Clean Data"
   ]
  },
  {
   "cell_type": "code",
   "execution_count": 43,
   "metadata": {},
   "outputs": [],
   "source": [
    "# Save the cleaned DataFrame to a new CSV file\n",
    "df.to_csv('Thyroid_Disease_DataWrangled.csv', index=False)"
   ]
  },
  {
   "cell_type": "code",
   "execution_count": null,
   "metadata": {},
   "outputs": [],
   "source": []
  }
 ],
 "metadata": {
  "kernelspec": {
   "display_name": "Python 3",
   "language": "python",
   "name": "python3"
  },
  "language_info": {
   "codemirror_mode": {
    "name": "ipython",
    "version": 3
   },
   "file_extension": ".py",
   "mimetype": "text/x-python",
   "name": "python",
   "nbconvert_exporter": "python",
   "pygments_lexer": "ipython3",
   "version": "3.10.11"
  }
 },
 "nbformat": 4,
 "nbformat_minor": 2
}
