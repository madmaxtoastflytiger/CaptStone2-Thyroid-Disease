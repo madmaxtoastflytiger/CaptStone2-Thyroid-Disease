{
 "cells": [
  {
   "cell_type": "markdown",
   "metadata": {},
   "source": [
    "# Predictive Thyroid Disease Project - Modeling\n",
    "\n",
    "To make a predictive model for thyroid cancer patients to see how likely after treatment their cancer will reoccur.\n",
    "\n",
    "'Response to treatment' is considered if the cancer comes back or not"
   ]
  },
  {
   "cell_type": "markdown",
   "metadata": {},
   "source": [
    "# Initial Set Up"
   ]
  },
  {
   "cell_type": "code",
   "execution_count": 1,
   "metadata": {},
   "outputs": [],
   "source": [
    "# General Data Manipulation\n",
    "import pandas as pd\n",
    "from sklearn.model_selection import train_test_split\n",
    "from sklearn.preprocessing import LabelEncoder, StandardScaler\n",
    "from sklearn.linear_model import LogisticRegression\n",
    "from sklearn.tree import DecisionTreeClassifier\n",
    "from sklearn.ensemble import RandomForestClassifier, GradientBoostingClassifier\n",
    "from sklearn.svm import SVC\n",
    "from sklearn.neural_network import MLPClassifier\n",
    "from sklearn.metrics import classification_report, accuracy_score\n",
    "from imblearn.over_sampling import SMOTE\n",
    "from sklearn.utils.class_weight import compute_class_weight\n",
    "from collections import Counter\n",
    "\n",
    "\n",
    "# Import my custom library \n",
    "import MyCustDataSciLib as MyCustDataSciLib"
   ]
  },
  {
   "cell_type": "code",
   "execution_count": 2,
   "metadata": {},
   "outputs": [],
   "source": [
    "# Load training CSV file\n",
    "df_train = pd.read_csv('4_Thyroid_Disease_FeatureEngineer_train.csv')\n",
    "\n",
    "df_test = pd.read_csv('4_Thyroid_Disease_FeatureEngineer_test.csv') "
   ]
  },
  {
   "cell_type": "code",
   "execution_count": 3,
   "metadata": {},
   "outputs": [
    {
     "data": {
      "text/html": [
       "<div>\n",
       "<style scoped>\n",
       "    .dataframe tbody tr th:only-of-type {\n",
       "        vertical-align: middle;\n",
       "    }\n",
       "\n",
       "    .dataframe tbody tr th {\n",
       "        vertical-align: top;\n",
       "    }\n",
       "\n",
       "    .dataframe thead th {\n",
       "        text-align: right;\n",
       "    }\n",
       "</style>\n",
       "<table border=\"1\" class=\"dataframe\">\n",
       "  <thead>\n",
       "    <tr style=\"text-align: right;\">\n",
       "      <th></th>\n",
       "      <th>gender_m_dummy_encoded</th>\n",
       "      <th>smoking_yes_dummy_encoded</th>\n",
       "      <th>hx_smoking_yes_dummy_encoded</th>\n",
       "      <th>hx_radiotherapy_yes_dummy_encoded</th>\n",
       "      <th>focality_uni-focal_dummy_encoded</th>\n",
       "      <th>m_m1_dummy_encoded</th>\n",
       "      <th>recurrence_yes_dummy_encoded</th>\n",
       "      <th>pathology_label_encoded</th>\n",
       "      <th>adenopathy_label_encoded</th>\n",
       "      <th>physical_examination_label_encoded</th>\n",
       "      <th>age_group_label_encoded</th>\n",
       "      <th>t_label_encoded</th>\n",
       "      <th>thyroid_function_label_encoded</th>\n",
       "      <th>n_label_encoded</th>\n",
       "      <th>stage_label_encoded</th>\n",
       "      <th>risk_label_encoded</th>\n",
       "      <th>response_label_encoded</th>\n",
       "    </tr>\n",
       "  </thead>\n",
       "  <tbody>\n",
       "    <tr>\n",
       "      <th>0</th>\n",
       "      <td>False</td>\n",
       "      <td>False</td>\n",
       "      <td>False</td>\n",
       "      <td>False</td>\n",
       "      <td>False</td>\n",
       "      <td>False</td>\n",
       "      <td>False</td>\n",
       "      <td>3</td>\n",
       "      <td>3</td>\n",
       "      <td>1</td>\n",
       "      <td>3</td>\n",
       "      <td>2</td>\n",
       "      <td>2</td>\n",
       "      <td>0</td>\n",
       "      <td>0</td>\n",
       "      <td>2</td>\n",
       "      <td>1</td>\n",
       "    </tr>\n",
       "    <tr>\n",
       "      <th>1</th>\n",
       "      <td>False</td>\n",
       "      <td>False</td>\n",
       "      <td>False</td>\n",
       "      <td>False</td>\n",
       "      <td>False</td>\n",
       "      <td>False</td>\n",
       "      <td>True</td>\n",
       "      <td>3</td>\n",
       "      <td>5</td>\n",
       "      <td>1</td>\n",
       "      <td>5</td>\n",
       "      <td>3</td>\n",
       "      <td>2</td>\n",
       "      <td>2</td>\n",
       "      <td>1</td>\n",
       "      <td>1</td>\n",
       "      <td>3</td>\n",
       "    </tr>\n",
       "    <tr>\n",
       "      <th>2</th>\n",
       "      <td>False</td>\n",
       "      <td>False</td>\n",
       "      <td>False</td>\n",
       "      <td>False</td>\n",
       "      <td>True</td>\n",
       "      <td>False</td>\n",
       "      <td>False</td>\n",
       "      <td>3</td>\n",
       "      <td>3</td>\n",
       "      <td>1</td>\n",
       "      <td>1</td>\n",
       "      <td>2</td>\n",
       "      <td>2</td>\n",
       "      <td>1</td>\n",
       "      <td>0</td>\n",
       "      <td>2</td>\n",
       "      <td>2</td>\n",
       "    </tr>\n",
       "    <tr>\n",
       "      <th>3</th>\n",
       "      <td>False</td>\n",
       "      <td>False</td>\n",
       "      <td>False</td>\n",
       "      <td>False</td>\n",
       "      <td>False</td>\n",
       "      <td>False</td>\n",
       "      <td>False</td>\n",
       "      <td>1</td>\n",
       "      <td>3</td>\n",
       "      <td>3</td>\n",
       "      <td>2</td>\n",
       "      <td>2</td>\n",
       "      <td>2</td>\n",
       "      <td>0</td>\n",
       "      <td>0</td>\n",
       "      <td>2</td>\n",
       "      <td>1</td>\n",
       "    </tr>\n",
       "    <tr>\n",
       "      <th>4</th>\n",
       "      <td>False</td>\n",
       "      <td>False</td>\n",
       "      <td>False</td>\n",
       "      <td>False</td>\n",
       "      <td>True</td>\n",
       "      <td>False</td>\n",
       "      <td>True</td>\n",
       "      <td>3</td>\n",
       "      <td>2</td>\n",
       "      <td>3</td>\n",
       "      <td>2</td>\n",
       "      <td>2</td>\n",
       "      <td>2</td>\n",
       "      <td>2</td>\n",
       "      <td>0</td>\n",
       "      <td>1</td>\n",
       "      <td>3</td>\n",
       "    </tr>\n",
       "  </tbody>\n",
       "</table>\n",
       "</div>"
      ],
      "text/plain": [
       "   gender_m_dummy_encoded  smoking_yes_dummy_encoded  \\\n",
       "0                   False                      False   \n",
       "1                   False                      False   \n",
       "2                   False                      False   \n",
       "3                   False                      False   \n",
       "4                   False                      False   \n",
       "\n",
       "   hx_smoking_yes_dummy_encoded  hx_radiotherapy_yes_dummy_encoded  \\\n",
       "0                         False                              False   \n",
       "1                         False                              False   \n",
       "2                         False                              False   \n",
       "3                         False                              False   \n",
       "4                         False                              False   \n",
       "\n",
       "   focality_uni-focal_dummy_encoded  m_m1_dummy_encoded  \\\n",
       "0                             False               False   \n",
       "1                             False               False   \n",
       "2                              True               False   \n",
       "3                             False               False   \n",
       "4                              True               False   \n",
       "\n",
       "   recurrence_yes_dummy_encoded  pathology_label_encoded  \\\n",
       "0                         False                        3   \n",
       "1                          True                        3   \n",
       "2                         False                        3   \n",
       "3                         False                        1   \n",
       "4                          True                        3   \n",
       "\n",
       "   adenopathy_label_encoded  physical_examination_label_encoded  \\\n",
       "0                         3                                   1   \n",
       "1                         5                                   1   \n",
       "2                         3                                   1   \n",
       "3                         3                                   3   \n",
       "4                         2                                   3   \n",
       "\n",
       "   age_group_label_encoded  t_label_encoded  thyroid_function_label_encoded  \\\n",
       "0                        3                2                               2   \n",
       "1                        5                3                               2   \n",
       "2                        1                2                               2   \n",
       "3                        2                2                               2   \n",
       "4                        2                2                               2   \n",
       "\n",
       "   n_label_encoded  stage_label_encoded  risk_label_encoded  \\\n",
       "0                0                    0                   2   \n",
       "1                2                    1                   1   \n",
       "2                1                    0                   2   \n",
       "3                0                    0                   2   \n",
       "4                2                    0                   1   \n",
       "\n",
       "   response_label_encoded  \n",
       "0                       1  \n",
       "1                       3  \n",
       "2                       2  \n",
       "3                       1  \n",
       "4                       3  "
      ]
     },
     "execution_count": 3,
     "metadata": {},
     "output_type": "execute_result"
    }
   ],
   "source": [
    "df_train.head()"
   ]
  },
  {
   "cell_type": "code",
   "execution_count": 4,
   "metadata": {},
   "outputs": [
    {
     "data": {
      "text/html": [
       "<div>\n",
       "<style scoped>\n",
       "    .dataframe tbody tr th:only-of-type {\n",
       "        vertical-align: middle;\n",
       "    }\n",
       "\n",
       "    .dataframe tbody tr th {\n",
       "        vertical-align: top;\n",
       "    }\n",
       "\n",
       "    .dataframe thead th {\n",
       "        text-align: right;\n",
       "    }\n",
       "</style>\n",
       "<table border=\"1\" class=\"dataframe\">\n",
       "  <thead>\n",
       "    <tr style=\"text-align: right;\">\n",
       "      <th></th>\n",
       "      <th>gender_m_dummy_encoded</th>\n",
       "      <th>smoking_yes_dummy_encoded</th>\n",
       "      <th>hx_smoking_yes_dummy_encoded</th>\n",
       "      <th>hx_radiotherapy_yes_dummy_encoded</th>\n",
       "      <th>focality_uni-focal_dummy_encoded</th>\n",
       "      <th>m_m1_dummy_encoded</th>\n",
       "      <th>recurrence_yes_dummy_encoded</th>\n",
       "      <th>pathology_label_encoded</th>\n",
       "      <th>adenopathy_label_encoded</th>\n",
       "      <th>physical_examination_label_encoded</th>\n",
       "      <th>age_group_label_encoded</th>\n",
       "      <th>t_label_encoded</th>\n",
       "      <th>thyroid_function_label_encoded</th>\n",
       "      <th>n_label_encoded</th>\n",
       "      <th>stage_label_encoded</th>\n",
       "      <th>risk_label_encoded</th>\n",
       "      <th>response_label_encoded</th>\n",
       "    </tr>\n",
       "  </thead>\n",
       "  <tbody>\n",
       "    <tr>\n",
       "      <th>0</th>\n",
       "      <td>False</td>\n",
       "      <td>False</td>\n",
       "      <td>False</td>\n",
       "      <td>False</td>\n",
       "      <td>True</td>\n",
       "      <td>False</td>\n",
       "      <td>False</td>\n",
       "      <td>3</td>\n",
       "      <td>3</td>\n",
       "      <td>3</td>\n",
       "      <td>2</td>\n",
       "      <td>3</td>\n",
       "      <td>2</td>\n",
       "      <td>0</td>\n",
       "      <td>0</td>\n",
       "      <td>2</td>\n",
       "      <td>1</td>\n",
       "    </tr>\n",
       "    <tr>\n",
       "      <th>1</th>\n",
       "      <td>False</td>\n",
       "      <td>False</td>\n",
       "      <td>False</td>\n",
       "      <td>False</td>\n",
       "      <td>True</td>\n",
       "      <td>False</td>\n",
       "      <td>False</td>\n",
       "      <td>0</td>\n",
       "      <td>5</td>\n",
       "      <td>2</td>\n",
       "      <td>2</td>\n",
       "      <td>3</td>\n",
       "      <td>4</td>\n",
       "      <td>0</td>\n",
       "      <td>0</td>\n",
       "      <td>2</td>\n",
       "      <td>1</td>\n",
       "    </tr>\n",
       "    <tr>\n",
       "      <th>2</th>\n",
       "      <td>False</td>\n",
       "      <td>False</td>\n",
       "      <td>False</td>\n",
       "      <td>False</td>\n",
       "      <td>False</td>\n",
       "      <td>False</td>\n",
       "      <td>True</td>\n",
       "      <td>3</td>\n",
       "      <td>0</td>\n",
       "      <td>1</td>\n",
       "      <td>2</td>\n",
       "      <td>3</td>\n",
       "      <td>2</td>\n",
       "      <td>2</td>\n",
       "      <td>0</td>\n",
       "      <td>1</td>\n",
       "      <td>3</td>\n",
       "    </tr>\n",
       "    <tr>\n",
       "      <th>3</th>\n",
       "      <td>False</td>\n",
       "      <td>False</td>\n",
       "      <td>False</td>\n",
       "      <td>False</td>\n",
       "      <td>True</td>\n",
       "      <td>False</td>\n",
       "      <td>True</td>\n",
       "      <td>0</td>\n",
       "      <td>3</td>\n",
       "      <td>3</td>\n",
       "      <td>4</td>\n",
       "      <td>3</td>\n",
       "      <td>2</td>\n",
       "      <td>0</td>\n",
       "      <td>0</td>\n",
       "      <td>1</td>\n",
       "      <td>3</td>\n",
       "    </tr>\n",
       "    <tr>\n",
       "      <th>4</th>\n",
       "      <td>False</td>\n",
       "      <td>False</td>\n",
       "      <td>True</td>\n",
       "      <td>False</td>\n",
       "      <td>True</td>\n",
       "      <td>False</td>\n",
       "      <td>False</td>\n",
       "      <td>3</td>\n",
       "      <td>3</td>\n",
       "      <td>4</td>\n",
       "      <td>3</td>\n",
       "      <td>1</td>\n",
       "      <td>2</td>\n",
       "      <td>0</td>\n",
       "      <td>0</td>\n",
       "      <td>2</td>\n",
       "      <td>1</td>\n",
       "    </tr>\n",
       "  </tbody>\n",
       "</table>\n",
       "</div>"
      ],
      "text/plain": [
       "   gender_m_dummy_encoded  smoking_yes_dummy_encoded  \\\n",
       "0                   False                      False   \n",
       "1                   False                      False   \n",
       "2                   False                      False   \n",
       "3                   False                      False   \n",
       "4                   False                      False   \n",
       "\n",
       "   hx_smoking_yes_dummy_encoded  hx_radiotherapy_yes_dummy_encoded  \\\n",
       "0                         False                              False   \n",
       "1                         False                              False   \n",
       "2                         False                              False   \n",
       "3                         False                              False   \n",
       "4                          True                              False   \n",
       "\n",
       "   focality_uni-focal_dummy_encoded  m_m1_dummy_encoded  \\\n",
       "0                              True               False   \n",
       "1                              True               False   \n",
       "2                             False               False   \n",
       "3                              True               False   \n",
       "4                              True               False   \n",
       "\n",
       "   recurrence_yes_dummy_encoded  pathology_label_encoded  \\\n",
       "0                         False                        3   \n",
       "1                         False                        0   \n",
       "2                          True                        3   \n",
       "3                          True                        0   \n",
       "4                         False                        3   \n",
       "\n",
       "   adenopathy_label_encoded  physical_examination_label_encoded  \\\n",
       "0                         3                                   3   \n",
       "1                         5                                   2   \n",
       "2                         0                                   1   \n",
       "3                         3                                   3   \n",
       "4                         3                                   4   \n",
       "\n",
       "   age_group_label_encoded  t_label_encoded  thyroid_function_label_encoded  \\\n",
       "0                        2                3                               2   \n",
       "1                        2                3                               4   \n",
       "2                        2                3                               2   \n",
       "3                        4                3                               2   \n",
       "4                        3                1                               2   \n",
       "\n",
       "   n_label_encoded  stage_label_encoded  risk_label_encoded  \\\n",
       "0                0                    0                   2   \n",
       "1                0                    0                   2   \n",
       "2                2                    0                   1   \n",
       "3                0                    0                   1   \n",
       "4                0                    0                   2   \n",
       "\n",
       "   response_label_encoded  \n",
       "0                       1  \n",
       "1                       1  \n",
       "2                       3  \n",
       "3                       3  \n",
       "4                       1  "
      ]
     },
     "execution_count": 4,
     "metadata": {},
     "output_type": "execute_result"
    }
   ],
   "source": [
    "df_test.head()"
   ]
  },
  {
   "cell_type": "code",
   "execution_count": 5,
   "metadata": {},
   "outputs": [
    {
     "name": "stdout",
     "output_type": "stream",
     "text": [
      "<class 'pandas.core.frame.DataFrame'>\n",
      "RangeIndex: 306 entries, 0 to 305\n",
      "Data columns (total 17 columns):\n",
      " #   Column                              Non-Null Count  Dtype\n",
      "---  ------                              --------------  -----\n",
      " 0   gender_m_dummy_encoded              306 non-null    bool \n",
      " 1   smoking_yes_dummy_encoded           306 non-null    bool \n",
      " 2   hx_smoking_yes_dummy_encoded        306 non-null    bool \n",
      " 3   hx_radiotherapy_yes_dummy_encoded   306 non-null    bool \n",
      " 4   focality_uni-focal_dummy_encoded    306 non-null    bool \n",
      " 5   m_m1_dummy_encoded                  306 non-null    bool \n",
      " 6   recurrence_yes_dummy_encoded        306 non-null    bool \n",
      " 7   pathology_label_encoded             306 non-null    int64\n",
      " 8   adenopathy_label_encoded            306 non-null    int64\n",
      " 9   physical_examination_label_encoded  306 non-null    int64\n",
      " 10  age_group_label_encoded             306 non-null    int64\n",
      " 11  t_label_encoded                     306 non-null    int64\n",
      " 12  thyroid_function_label_encoded      306 non-null    int64\n",
      " 13  n_label_encoded                     306 non-null    int64\n",
      " 14  stage_label_encoded                 306 non-null    int64\n",
      " 15  risk_label_encoded                  306 non-null    int64\n",
      " 16  response_label_encoded              306 non-null    int64\n",
      "dtypes: bool(7), int64(10)\n",
      "memory usage: 26.1 KB\n"
     ]
    }
   ],
   "source": [
    "df_train.info()"
   ]
  },
  {
   "cell_type": "code",
   "execution_count": 6,
   "metadata": {},
   "outputs": [
    {
     "name": "stdout",
     "output_type": "stream",
     "text": [
      "<class 'pandas.core.frame.DataFrame'>\n",
      "RangeIndex: 77 entries, 0 to 76\n",
      "Data columns (total 17 columns):\n",
      " #   Column                              Non-Null Count  Dtype\n",
      "---  ------                              --------------  -----\n",
      " 0   gender_m_dummy_encoded              77 non-null     bool \n",
      " 1   smoking_yes_dummy_encoded           77 non-null     bool \n",
      " 2   hx_smoking_yes_dummy_encoded        77 non-null     bool \n",
      " 3   hx_radiotherapy_yes_dummy_encoded   77 non-null     bool \n",
      " 4   focality_uni-focal_dummy_encoded    77 non-null     bool \n",
      " 5   m_m1_dummy_encoded                  77 non-null     bool \n",
      " 6   recurrence_yes_dummy_encoded        77 non-null     bool \n",
      " 7   pathology_label_encoded             77 non-null     int64\n",
      " 8   adenopathy_label_encoded            77 non-null     int64\n",
      " 9   physical_examination_label_encoded  77 non-null     int64\n",
      " 10  age_group_label_encoded             77 non-null     int64\n",
      " 11  t_label_encoded                     77 non-null     int64\n",
      " 12  thyroid_function_label_encoded      77 non-null     int64\n",
      " 13  n_label_encoded                     77 non-null     int64\n",
      " 14  stage_label_encoded                 77 non-null     int64\n",
      " 15  risk_label_encoded                  77 non-null     int64\n",
      " 16  response_label_encoded              77 non-null     int64\n",
      "dtypes: bool(7), int64(10)\n",
      "memory usage: 6.7 KB\n"
     ]
    }
   ],
   "source": [
    "df_test.info()"
   ]
  },
  {
   "cell_type": "code",
   "execution_count": 7,
   "metadata": {},
   "outputs": [
    {
     "data": {
      "text/plain": [
       "(306, 17)"
      ]
     },
     "execution_count": 7,
     "metadata": {},
     "output_type": "execute_result"
    }
   ],
   "source": [
    "df_train.shape"
   ]
  },
  {
   "cell_type": "code",
   "execution_count": 8,
   "metadata": {},
   "outputs": [
    {
     "data": {
      "text/plain": [
       "(77, 17)"
      ]
     },
     "execution_count": 8,
     "metadata": {},
     "output_type": "execute_result"
    }
   ],
   "source": [
    "df_test.shape"
   ]
  },
  {
   "cell_type": "code",
   "execution_count": 9,
   "metadata": {},
   "outputs": [],
   "source": [
    "# Define features and target\n",
    "X_train = df_train.drop('recurrence_yes_dummy_encoded', axis=1)\n",
    "y_train = df_train['recurrence_yes_dummy_encoded']\n",
    "X_test = df_test.drop('recurrence_yes_dummy_encoded', axis=1)\n",
    "y_test = df_test['recurrence_yes_dummy_encoded']"
   ]
  },
  {
   "cell_type": "markdown",
   "metadata": {},
   "source": [
    "# Address Data Imbalance"
   ]
  },
  {
   "cell_type": "code",
   "execution_count": 10,
   "metadata": {},
   "outputs": [
    {
     "data": {
      "text/plain": [
       "Counter({False: 217, True: 89})"
      ]
     },
     "execution_count": 10,
     "metadata": {},
     "output_type": "execute_result"
    }
   ],
   "source": [
    "# check if balanced \n",
    "Counter(X_train)\n",
    "Counter(y_train)"
   ]
  },
  {
   "cell_type": "code",
   "execution_count": 11,
   "metadata": {},
   "outputs": [],
   "source": [
    "# Address data imbalance with SMOTE\n",
    "smote = SMOTE()\n",
    "X_train_SMOTE, y_train_SMOTE = smote.fit_resample(X_train, y_train)"
   ]
  },
  {
   "cell_type": "code",
   "execution_count": 12,
   "metadata": {},
   "outputs": [
    {
     "data": {
      "text/plain": [
       "Counter({False: 217, True: 217})"
      ]
     },
     "execution_count": 12,
     "metadata": {},
     "output_type": "execute_result"
    }
   ],
   "source": [
    "# check if balanced\n",
    "Counter(X_train_SMOTE)\n",
    "Counter(y_train_SMOTE)"
   ]
  },
  {
   "cell_type": "markdown",
   "metadata": {},
   "source": [
    "# Model knowledge\n",
    "\n",
    "Reminder\n",
    "\n",
    "Precision\n",
    "- True Positives. Avoiding false alarms. It evaluates the quality of positive predictions made by the model\n",
    "- Higher precision to recall ratio requires making stricter predictions, which may result in missing some positives (lower recall).\n",
    "\n",
    "Recall\n",
    "- Ensuring that no actual positives are missed. It evaluates the coverage of actual positives by the model.\n",
    "- Higher recall to precision ration requires casting a wider net, which may result in more false positives (lower precision).\n",
    "\n",
    "F1-Score\n",
    "- an algorithm to balance Precision and Recall into one value\n",
    "\n",
    "Support\n",
    "- Number of true instances\n",
    "\n",
    "accuracy\n",
    "- correct prediction / total prediction\n"
   ]
  },
  {
   "cell_type": "markdown",
   "metadata": {},
   "source": [
    "# Model 1 - Decision Tree"
   ]
  },
  {
   "cell_type": "code",
   "execution_count": 13,
   "metadata": {},
   "outputs": [
    {
     "name": "stdout",
     "output_type": "stream",
     "text": [
      "Decision Tree:\n",
      "              precision    recall  f1-score   support\n",
      "\n",
      "       False       0.95      0.97      0.96        58\n",
      "        True       0.89      0.84      0.86        19\n",
      "\n",
      "    accuracy                           0.94        77\n",
      "   macro avg       0.92      0.90      0.91        77\n",
      "weighted avg       0.93      0.94      0.93        77\n",
      "\n"
     ]
    }
   ],
   "source": [
    "# Decision Tree \n",
    "dt = DecisionTreeClassifier(max_depth=10, min_samples_split=5, min_samples_leaf=2)\n",
    "dt.fit(X_train, y_train)\n",
    "y_pred_dt = dt.predict(X_test)\n",
    "print(\"Decision Tree:\")\n",
    "print(classification_report(y_test, y_pred_dt))"
   ]
  },
  {
   "cell_type": "code",
   "execution_count": 14,
   "metadata": {},
   "outputs": [],
   "source": [
    "# The model performs very well overall, with high precision, recall, and F1-scores for both classes.\n",
    "# The slight imbalance in class distribution (58 False vs. 19 True) might make the metrics slightly biased towards the majority class, but this doesn’t seem significant here."
   ]
  },
  {
   "cell_type": "code",
   "execution_count": 15,
   "metadata": {},
   "outputs": [
    {
     "name": "stdout",
     "output_type": "stream",
     "text": [
      "Decision Tree with SMOTE:\n",
      "              precision    recall  f1-score   support\n",
      "\n",
      "       False       0.95      0.93      0.94        58\n",
      "        True       0.80      0.84      0.82        19\n",
      "\n",
      "    accuracy                           0.91        77\n",
      "   macro avg       0.87      0.89      0.88        77\n",
      "weighted avg       0.91      0.91      0.91        77\n",
      "\n"
     ]
    }
   ],
   "source": [
    "# Decision Tree with SMOTE to oversample the minority class\n",
    "dt = DecisionTreeClassifier(max_depth=10, min_samples_split=5, min_samples_leaf=2)\n",
    "dt.fit(X_train_SMOTE, y_train_SMOTE)\n",
    "y_pred_dt = dt.predict(X_test)\n",
    "print(\"Decision Tree with SMOTE:\")\n",
    "print(classification_report(y_test, y_pred_dt))"
   ]
  },
  {
   "cell_type": "code",
   "execution_count": 16,
   "metadata": {},
   "outputs": [],
   "source": [
    "# The model seems to perform even worse with the synthetic balanced data. "
   ]
  },
  {
   "cell_type": "markdown",
   "metadata": {},
   "source": [
    "# Model 2 - Random Forest"
   ]
  },
  {
   "cell_type": "code",
   "execution_count": 17,
   "metadata": {},
   "outputs": [
    {
     "name": "stdout",
     "output_type": "stream",
     "text": [
      "Random Forest:\n",
      "              precision    recall  f1-score   support\n",
      "\n",
      "       False       0.98      0.98      0.98        58\n",
      "        True       0.95      0.95      0.95        19\n",
      "\n",
      "    accuracy                           0.97        77\n",
      "   macro avg       0.97      0.97      0.97        77\n",
      "weighted avg       0.97      0.97      0.97        77\n",
      "\n"
     ]
    }
   ],
   "source": [
    "# Random Forest\n",
    "rf = RandomForestClassifier(n_estimators=200, max_depth=15, min_samples_split=5, min_samples_leaf=2, class_weight='balanced', random_state=42)\n",
    "rf.fit(X_train, y_train)\n",
    "y_pred_rf = rf.predict(X_test)\n",
    "print(\"Random Forest:\")\n",
    "print(classification_report(y_test, y_pred_rf))"
   ]
  },
  {
   "cell_type": "code",
   "execution_count": 18,
   "metadata": {},
   "outputs": [],
   "source": [
    "# nice score overall and really like the precision recall ratio on both the false and true.\n",
    "# However there is a slight suspicion with it's overly hight precision and recall with 100%. It makes me wonder if there is overfitting in some areas."
   ]
  },
  {
   "cell_type": "code",
   "execution_count": 19,
   "metadata": {},
   "outputs": [
    {
     "name": "stdout",
     "output_type": "stream",
     "text": [
      "Random Forest with class_weight balanced:\n",
      "              precision    recall  f1-score   support\n",
      "\n",
      "       False       0.98      0.98      0.98        58\n",
      "        True       0.95      0.95      0.95        19\n",
      "\n",
      "    accuracy                           0.97        77\n",
      "   macro avg       0.97      0.97      0.97        77\n",
      "weighted avg       0.97      0.97      0.97        77\n",
      "\n"
     ]
    }
   ],
   "source": [
    "# Random Forest, giving more weight to the minority class using class_weight='balanced'\n",
    "rf = RandomForestClassifier(n_estimators=200, max_depth=15, min_samples_split=5, min_samples_leaf=2, class_weight='balanced', random_state=42)\n",
    "rf.fit(X_train, y_train)\n",
    "y_pred_rf = rf.predict(X_test)\n",
    "print(\"Random Forest with class_weight balanced:\")\n",
    "print(classification_report(y_test, y_pred_rf))"
   ]
  },
  {
   "cell_type": "code",
   "execution_count": 20,
   "metadata": {},
   "outputs": [],
   "source": [
    "# no change even when using the class_weight='balanced'"
   ]
  },
  {
   "cell_type": "markdown",
   "metadata": {},
   "source": [
    "# Model 3 - Gradient Boosting"
   ]
  },
  {
   "cell_type": "code",
   "execution_count": 21,
   "metadata": {},
   "outputs": [
    {
     "name": "stdout",
     "output_type": "stream",
     "text": [
      "Gradient Boosting:\n",
      "              precision    recall  f1-score   support\n",
      "\n",
      "       False       0.98      1.00      0.99        58\n",
      "        True       1.00      0.95      0.97        19\n",
      "\n",
      "    accuracy                           0.99        77\n",
      "   macro avg       0.99      0.97      0.98        77\n",
      "weighted avg       0.99      0.99      0.99        77\n",
      "\n"
     ]
    }
   ],
   "source": [
    "# Gradient Boosting\n",
    "gb = GradientBoostingClassifier(n_estimators=200, learning_rate=0.05, max_depth=5, subsample=0.8)\n",
    "gb.fit(X_train, y_train)\n",
    "y_pred_gb = gb.predict(X_test)\n",
    "print(\"Gradient Boosting:\") \n",
    "print(classification_report(y_test, y_pred_gb))"
   ]
  },
  {
   "cell_type": "code",
   "execution_count": 22,
   "metadata": {},
   "outputs": [],
   "source": [
    "# pretty good scores"
   ]
  },
  {
   "cell_type": "code",
   "execution_count": 23,
   "metadata": {},
   "outputs": [
    {
     "name": "stdout",
     "output_type": "stream",
     "text": [
      "Gradient Boosting with SMOTE:\n",
      "              precision    recall  f1-score   support\n",
      "\n",
      "       False       0.98      0.98      0.98        58\n",
      "        True       0.95      0.95      0.95        19\n",
      "\n",
      "    accuracy                           0.97        77\n",
      "   macro avg       0.97      0.97      0.97        77\n",
      "weighted avg       0.97      0.97      0.97        77\n",
      "\n"
     ]
    }
   ],
   "source": [
    "# Gradient Boosting, using SMOTE synthetic data to oversample the minority class\n",
    "gb = GradientBoostingClassifier(n_estimators=200, learning_rate=0.05, max_depth=5, subsample=0.8)\n",
    "gb.fit(X_train_SMOTE, y_train_SMOTE)\n",
    "y_pred_gb = gb.predict(X_test)\n",
    "print(\"Gradient Boosting with SMOTE:\") \n",
    "print(classification_report(y_test, y_pred_gb))"
   ]
  },
  {
   "cell_type": "code",
   "execution_count": 24,
   "metadata": {},
   "outputs": [],
   "source": [
    "# Using the balanced SMOTE data seems to improve performannce a bit more  "
   ]
  },
  {
   "cell_type": "markdown",
   "metadata": {},
   "source": [
    "# Final Decision\n",
    "\n",
    "Accuracy for all models are above 95%.\n",
    "\n",
    "Both ensemble decision trees method work really great and can natively handle imbalance data well.\n",
    "\n",
    "Decide to go with the Gradient Booster  with SMOTE as seems to have the a really high performance while being less suspicious of overfitting."
   ]
  },
  {
   "cell_type": "code",
   "execution_count": null,
   "metadata": {},
   "outputs": [],
   "source": []
  }
 ],
 "metadata": {
  "kernelspec": {
   "display_name": "Python 3",
   "language": "python",
   "name": "python3"
  },
  "language_info": {
   "codemirror_mode": {
    "name": "ipython",
    "version": 3
   },
   "file_extension": ".py",
   "mimetype": "text/x-python",
   "name": "python",
   "nbconvert_exporter": "python",
   "pygments_lexer": "ipython3",
   "version": "3.10.11"
  }
 },
 "nbformat": 4,
 "nbformat_minor": 2
}
