{
 "cells": [
  {
   "cell_type": "markdown",
   "metadata": {},
   "source": [
    "# Predictive Thyroid Disease Project - Modeling\n",
    "\n",
    "To make a predictive model for thyroid cancer patients to see how likely after treatment their cancer will reoccur.\n",
    "\n",
    "'Response to treatment' is considered if the cancer comes back or not"
   ]
  },
  {
   "cell_type": "markdown",
   "metadata": {},
   "source": [
    "# Initial Set Up"
   ]
  },
  {
   "cell_type": "code",
   "execution_count": 1,
   "metadata": {},
   "outputs": [],
   "source": [
    "# General Data Manipulation\n",
    "import pandas as pd\n",
    "from sklearn.model_selection import train_test_split\n",
    "from sklearn.preprocessing import LabelEncoder, StandardScaler\n",
    "from sklearn.linear_model import LogisticRegression\n",
    "from sklearn.tree import DecisionTreeClassifier\n",
    "from sklearn.ensemble import RandomForestClassifier, GradientBoostingClassifier\n",
    "from sklearn.svm import SVC\n",
    "from sklearn.neural_network import MLPClassifier\n",
    "from sklearn.metrics import classification_report, accuracy_score\n",
    "from imblearn.over_sampling import SMOTE\n",
    "from sklearn.utils.class_weight import compute_class_weight\n",
    "from collections import Counter\n",
    "\n",
    "\n",
    "# Import my custom library \n",
    "import MyCustDataSciLib as MyCustDataSciLib"
   ]
  },
  {
   "cell_type": "code",
   "execution_count": 2,
   "metadata": {},
   "outputs": [],
   "source": [
    "# Load training CSV file\n",
    "df_train = pd.read_csv('4_Thyroid_Disease_FeatureEngineer_train.csv')\n",
    "\n",
    "df_test = pd.read_csv('4_Thyroid_Disease_FeatureEngineer_test.csv') "
   ]
  },
  {
   "cell_type": "code",
   "execution_count": 3,
   "metadata": {},
   "outputs": [
    {
     "data": {
      "text/html": [
       "<div>\n",
       "<style scoped>\n",
       "    .dataframe tbody tr th:only-of-type {\n",
       "        vertical-align: middle;\n",
       "    }\n",
       "\n",
       "    .dataframe tbody tr th {\n",
       "        vertical-align: top;\n",
       "    }\n",
       "\n",
       "    .dataframe thead th {\n",
       "        text-align: right;\n",
       "    }\n",
       "</style>\n",
       "<table border=\"1\" class=\"dataframe\">\n",
       "  <thead>\n",
       "    <tr style=\"text-align: right;\">\n",
       "      <th></th>\n",
       "      <th>gender_m_dummy_encoded</th>\n",
       "      <th>smoking_yes_dummy_encoded</th>\n",
       "      <th>hx_smoking_yes_dummy_encoded</th>\n",
       "      <th>hx_radiotherapy_yes_dummy_encoded</th>\n",
       "      <th>thyroid_function_2cat_normal_dummy_encoded</th>\n",
       "      <th>focality_uni-focal_dummy_encoded</th>\n",
       "      <th>m_m1_dummy_encoded</th>\n",
       "      <th>stage_2cat_late_dummy_encoded</th>\n",
       "      <th>recurrence_yes_dummy_encoded</th>\n",
       "      <th>kmode_cluster_3cat_one_hot_encoded</th>\n",
       "      <th>...</th>\n",
       "      <th>physical_examination_label_encoded</th>\n",
       "      <th>response_label_encoded</th>\n",
       "      <th>adenopathy_label_encoded</th>\n",
       "      <th>pathology_label_encoded</th>\n",
       "      <th>risk_label_encoded</th>\n",
       "      <th>stage_label_encoded</th>\n",
       "      <th>thyroid_function_label_encoded</th>\n",
       "      <th>thyroid_function_3cat_label_encoded</th>\n",
       "      <th>age_group_label_encoded</th>\n",
       "      <th>t_4cat_label_encoded</th>\n",
       "    </tr>\n",
       "  </thead>\n",
       "  <tbody>\n",
       "    <tr>\n",
       "      <th>0</th>\n",
       "      <td>False</td>\n",
       "      <td>False</td>\n",
       "      <td>False</td>\n",
       "      <td>False</td>\n",
       "      <td>True</td>\n",
       "      <td>False</td>\n",
       "      <td>False</td>\n",
       "      <td>False</td>\n",
       "      <td>False</td>\n",
       "      <td>1</td>\n",
       "      <td>...</td>\n",
       "      <td>1</td>\n",
       "      <td>1</td>\n",
       "      <td>3</td>\n",
       "      <td>3</td>\n",
       "      <td>2</td>\n",
       "      <td>0</td>\n",
       "      <td>2</td>\n",
       "      <td>1</td>\n",
       "      <td>3</td>\n",
       "      <td>1</td>\n",
       "    </tr>\n",
       "    <tr>\n",
       "      <th>1</th>\n",
       "      <td>False</td>\n",
       "      <td>False</td>\n",
       "      <td>False</td>\n",
       "      <td>False</td>\n",
       "      <td>True</td>\n",
       "      <td>False</td>\n",
       "      <td>False</td>\n",
       "      <td>False</td>\n",
       "      <td>True</td>\n",
       "      <td>2</td>\n",
       "      <td>...</td>\n",
       "      <td>1</td>\n",
       "      <td>3</td>\n",
       "      <td>5</td>\n",
       "      <td>3</td>\n",
       "      <td>1</td>\n",
       "      <td>1</td>\n",
       "      <td>2</td>\n",
       "      <td>1</td>\n",
       "      <td>5</td>\n",
       "      <td>2</td>\n",
       "    </tr>\n",
       "    <tr>\n",
       "      <th>2</th>\n",
       "      <td>False</td>\n",
       "      <td>False</td>\n",
       "      <td>False</td>\n",
       "      <td>False</td>\n",
       "      <td>True</td>\n",
       "      <td>True</td>\n",
       "      <td>False</td>\n",
       "      <td>False</td>\n",
       "      <td>False</td>\n",
       "      <td>1</td>\n",
       "      <td>...</td>\n",
       "      <td>1</td>\n",
       "      <td>2</td>\n",
       "      <td>3</td>\n",
       "      <td>3</td>\n",
       "      <td>2</td>\n",
       "      <td>0</td>\n",
       "      <td>2</td>\n",
       "      <td>1</td>\n",
       "      <td>1</td>\n",
       "      <td>1</td>\n",
       "    </tr>\n",
       "    <tr>\n",
       "      <th>3</th>\n",
       "      <td>False</td>\n",
       "      <td>False</td>\n",
       "      <td>False</td>\n",
       "      <td>False</td>\n",
       "      <td>True</td>\n",
       "      <td>False</td>\n",
       "      <td>False</td>\n",
       "      <td>False</td>\n",
       "      <td>False</td>\n",
       "      <td>1</td>\n",
       "      <td>...</td>\n",
       "      <td>3</td>\n",
       "      <td>1</td>\n",
       "      <td>3</td>\n",
       "      <td>1</td>\n",
       "      <td>2</td>\n",
       "      <td>0</td>\n",
       "      <td>2</td>\n",
       "      <td>1</td>\n",
       "      <td>2</td>\n",
       "      <td>1</td>\n",
       "    </tr>\n",
       "    <tr>\n",
       "      <th>4</th>\n",
       "      <td>False</td>\n",
       "      <td>False</td>\n",
       "      <td>False</td>\n",
       "      <td>False</td>\n",
       "      <td>True</td>\n",
       "      <td>True</td>\n",
       "      <td>False</td>\n",
       "      <td>False</td>\n",
       "      <td>True</td>\n",
       "      <td>2</td>\n",
       "      <td>...</td>\n",
       "      <td>3</td>\n",
       "      <td>3</td>\n",
       "      <td>2</td>\n",
       "      <td>3</td>\n",
       "      <td>1</td>\n",
       "      <td>0</td>\n",
       "      <td>2</td>\n",
       "      <td>1</td>\n",
       "      <td>2</td>\n",
       "      <td>1</td>\n",
       "    </tr>\n",
       "  </tbody>\n",
       "</table>\n",
       "<p>5 rows × 88 columns</p>\n",
       "</div>"
      ],
      "text/plain": [
       "   gender_m_dummy_encoded  smoking_yes_dummy_encoded  \\\n",
       "0                   False                      False   \n",
       "1                   False                      False   \n",
       "2                   False                      False   \n",
       "3                   False                      False   \n",
       "4                   False                      False   \n",
       "\n",
       "   hx_smoking_yes_dummy_encoded  hx_radiotherapy_yes_dummy_encoded  \\\n",
       "0                         False                              False   \n",
       "1                         False                              False   \n",
       "2                         False                              False   \n",
       "3                         False                              False   \n",
       "4                         False                              False   \n",
       "\n",
       "   thyroid_function_2cat_normal_dummy_encoded  \\\n",
       "0                                        True   \n",
       "1                                        True   \n",
       "2                                        True   \n",
       "3                                        True   \n",
       "4                                        True   \n",
       "\n",
       "   focality_uni-focal_dummy_encoded  m_m1_dummy_encoded  \\\n",
       "0                             False               False   \n",
       "1                             False               False   \n",
       "2                              True               False   \n",
       "3                             False               False   \n",
       "4                              True               False   \n",
       "\n",
       "   stage_2cat_late_dummy_encoded  recurrence_yes_dummy_encoded  \\\n",
       "0                          False                         False   \n",
       "1                          False                          True   \n",
       "2                          False                         False   \n",
       "3                          False                         False   \n",
       "4                          False                          True   \n",
       "\n",
       "   kmode_cluster_3cat_one_hot_encoded  ...  \\\n",
       "0                                   1  ...   \n",
       "1                                   2  ...   \n",
       "2                                   1  ...   \n",
       "3                                   1  ...   \n",
       "4                                   2  ...   \n",
       "\n",
       "   physical_examination_label_encoded  response_label_encoded  \\\n",
       "0                                   1                       1   \n",
       "1                                   1                       3   \n",
       "2                                   1                       2   \n",
       "3                                   3                       1   \n",
       "4                                   3                       3   \n",
       "\n",
       "   adenopathy_label_encoded  pathology_label_encoded  risk_label_encoded  \\\n",
       "0                         3                        3                   2   \n",
       "1                         5                        3                   1   \n",
       "2                         3                        3                   2   \n",
       "3                         3                        1                   2   \n",
       "4                         2                        3                   1   \n",
       "\n",
       "   stage_label_encoded  thyroid_function_label_encoded  \\\n",
       "0                    0                               2   \n",
       "1                    1                               2   \n",
       "2                    0                               2   \n",
       "3                    0                               2   \n",
       "4                    0                               2   \n",
       "\n",
       "   thyroid_function_3cat_label_encoded  age_group_label_encoded  \\\n",
       "0                                    1                        3   \n",
       "1                                    1                        5   \n",
       "2                                    1                        1   \n",
       "3                                    1                        2   \n",
       "4                                    1                        2   \n",
       "\n",
       "   t_4cat_label_encoded  \n",
       "0                     1  \n",
       "1                     2  \n",
       "2                     1  \n",
       "3                     1  \n",
       "4                     1  \n",
       "\n",
       "[5 rows x 88 columns]"
      ]
     },
     "execution_count": 3,
     "metadata": {},
     "output_type": "execute_result"
    }
   ],
   "source": [
    "df_train.head()"
   ]
  },
  {
   "cell_type": "code",
   "execution_count": 4,
   "metadata": {},
   "outputs": [
    {
     "data": {
      "text/html": [
       "<div>\n",
       "<style scoped>\n",
       "    .dataframe tbody tr th:only-of-type {\n",
       "        vertical-align: middle;\n",
       "    }\n",
       "\n",
       "    .dataframe tbody tr th {\n",
       "        vertical-align: top;\n",
       "    }\n",
       "\n",
       "    .dataframe thead th {\n",
       "        text-align: right;\n",
       "    }\n",
       "</style>\n",
       "<table border=\"1\" class=\"dataframe\">\n",
       "  <thead>\n",
       "    <tr style=\"text-align: right;\">\n",
       "      <th></th>\n",
       "      <th>gender_m_dummy_encoded</th>\n",
       "      <th>smoking_yes_dummy_encoded</th>\n",
       "      <th>hx_smoking_yes_dummy_encoded</th>\n",
       "      <th>hx_radiotherapy_yes_dummy_encoded</th>\n",
       "      <th>thyroid_function_2cat_normal_dummy_encoded</th>\n",
       "      <th>focality_uni-focal_dummy_encoded</th>\n",
       "      <th>m_m1_dummy_encoded</th>\n",
       "      <th>stage_2cat_late_dummy_encoded</th>\n",
       "      <th>recurrence_yes_dummy_encoded</th>\n",
       "      <th>kmode_cluster_3cat_one_hot_encoded</th>\n",
       "      <th>...</th>\n",
       "      <th>physical_examination_label_encoded</th>\n",
       "      <th>response_label_encoded</th>\n",
       "      <th>adenopathy_label_encoded</th>\n",
       "      <th>pathology_label_encoded</th>\n",
       "      <th>risk_label_encoded</th>\n",
       "      <th>stage_label_encoded</th>\n",
       "      <th>thyroid_function_label_encoded</th>\n",
       "      <th>thyroid_function_3cat_label_encoded</th>\n",
       "      <th>age_group_label_encoded</th>\n",
       "      <th>t_4cat_label_encoded</th>\n",
       "    </tr>\n",
       "  </thead>\n",
       "  <tbody>\n",
       "    <tr>\n",
       "      <th>0</th>\n",
       "      <td>False</td>\n",
       "      <td>False</td>\n",
       "      <td>False</td>\n",
       "      <td>False</td>\n",
       "      <td>True</td>\n",
       "      <td>True</td>\n",
       "      <td>False</td>\n",
       "      <td>False</td>\n",
       "      <td>False</td>\n",
       "      <td>0</td>\n",
       "      <td>...</td>\n",
       "      <td>3</td>\n",
       "      <td>1</td>\n",
       "      <td>3</td>\n",
       "      <td>3</td>\n",
       "      <td>2</td>\n",
       "      <td>0</td>\n",
       "      <td>2</td>\n",
       "      <td>1</td>\n",
       "      <td>2</td>\n",
       "      <td>2</td>\n",
       "    </tr>\n",
       "    <tr>\n",
       "      <th>1</th>\n",
       "      <td>False</td>\n",
       "      <td>False</td>\n",
       "      <td>False</td>\n",
       "      <td>False</td>\n",
       "      <td>False</td>\n",
       "      <td>True</td>\n",
       "      <td>False</td>\n",
       "      <td>False</td>\n",
       "      <td>False</td>\n",
       "      <td>0</td>\n",
       "      <td>...</td>\n",
       "      <td>2</td>\n",
       "      <td>1</td>\n",
       "      <td>5</td>\n",
       "      <td>0</td>\n",
       "      <td>2</td>\n",
       "      <td>0</td>\n",
       "      <td>4</td>\n",
       "      <td>2</td>\n",
       "      <td>2</td>\n",
       "      <td>2</td>\n",
       "    </tr>\n",
       "    <tr>\n",
       "      <th>2</th>\n",
       "      <td>False</td>\n",
       "      <td>False</td>\n",
       "      <td>False</td>\n",
       "      <td>False</td>\n",
       "      <td>True</td>\n",
       "      <td>False</td>\n",
       "      <td>False</td>\n",
       "      <td>False</td>\n",
       "      <td>True</td>\n",
       "      <td>2</td>\n",
       "      <td>...</td>\n",
       "      <td>1</td>\n",
       "      <td>3</td>\n",
       "      <td>0</td>\n",
       "      <td>3</td>\n",
       "      <td>1</td>\n",
       "      <td>0</td>\n",
       "      <td>2</td>\n",
       "      <td>1</td>\n",
       "      <td>2</td>\n",
       "      <td>2</td>\n",
       "    </tr>\n",
       "    <tr>\n",
       "      <th>3</th>\n",
       "      <td>False</td>\n",
       "      <td>False</td>\n",
       "      <td>False</td>\n",
       "      <td>False</td>\n",
       "      <td>True</td>\n",
       "      <td>True</td>\n",
       "      <td>False</td>\n",
       "      <td>False</td>\n",
       "      <td>True</td>\n",
       "      <td>2</td>\n",
       "      <td>...</td>\n",
       "      <td>3</td>\n",
       "      <td>3</td>\n",
       "      <td>3</td>\n",
       "      <td>0</td>\n",
       "      <td>1</td>\n",
       "      <td>0</td>\n",
       "      <td>2</td>\n",
       "      <td>1</td>\n",
       "      <td>4</td>\n",
       "      <td>2</td>\n",
       "    </tr>\n",
       "    <tr>\n",
       "      <th>4</th>\n",
       "      <td>False</td>\n",
       "      <td>False</td>\n",
       "      <td>True</td>\n",
       "      <td>False</td>\n",
       "      <td>True</td>\n",
       "      <td>True</td>\n",
       "      <td>False</td>\n",
       "      <td>False</td>\n",
       "      <td>False</td>\n",
       "      <td>1</td>\n",
       "      <td>...</td>\n",
       "      <td>4</td>\n",
       "      <td>1</td>\n",
       "      <td>3</td>\n",
       "      <td>3</td>\n",
       "      <td>2</td>\n",
       "      <td>0</td>\n",
       "      <td>2</td>\n",
       "      <td>1</td>\n",
       "      <td>3</td>\n",
       "      <td>0</td>\n",
       "    </tr>\n",
       "  </tbody>\n",
       "</table>\n",
       "<p>5 rows × 88 columns</p>\n",
       "</div>"
      ],
      "text/plain": [
       "   gender_m_dummy_encoded  smoking_yes_dummy_encoded  \\\n",
       "0                   False                      False   \n",
       "1                   False                      False   \n",
       "2                   False                      False   \n",
       "3                   False                      False   \n",
       "4                   False                      False   \n",
       "\n",
       "   hx_smoking_yes_dummy_encoded  hx_radiotherapy_yes_dummy_encoded  \\\n",
       "0                         False                              False   \n",
       "1                         False                              False   \n",
       "2                         False                              False   \n",
       "3                         False                              False   \n",
       "4                          True                              False   \n",
       "\n",
       "   thyroid_function_2cat_normal_dummy_encoded  \\\n",
       "0                                        True   \n",
       "1                                       False   \n",
       "2                                        True   \n",
       "3                                        True   \n",
       "4                                        True   \n",
       "\n",
       "   focality_uni-focal_dummy_encoded  m_m1_dummy_encoded  \\\n",
       "0                              True               False   \n",
       "1                              True               False   \n",
       "2                             False               False   \n",
       "3                              True               False   \n",
       "4                              True               False   \n",
       "\n",
       "   stage_2cat_late_dummy_encoded  recurrence_yes_dummy_encoded  \\\n",
       "0                          False                         False   \n",
       "1                          False                         False   \n",
       "2                          False                          True   \n",
       "3                          False                          True   \n",
       "4                          False                         False   \n",
       "\n",
       "   kmode_cluster_3cat_one_hot_encoded  ...  \\\n",
       "0                                   0  ...   \n",
       "1                                   0  ...   \n",
       "2                                   2  ...   \n",
       "3                                   2  ...   \n",
       "4                                   1  ...   \n",
       "\n",
       "   physical_examination_label_encoded  response_label_encoded  \\\n",
       "0                                   3                       1   \n",
       "1                                   2                       1   \n",
       "2                                   1                       3   \n",
       "3                                   3                       3   \n",
       "4                                   4                       1   \n",
       "\n",
       "   adenopathy_label_encoded  pathology_label_encoded  risk_label_encoded  \\\n",
       "0                         3                        3                   2   \n",
       "1                         5                        0                   2   \n",
       "2                         0                        3                   1   \n",
       "3                         3                        0                   1   \n",
       "4                         3                        3                   2   \n",
       "\n",
       "   stage_label_encoded  thyroid_function_label_encoded  \\\n",
       "0                    0                               2   \n",
       "1                    0                               4   \n",
       "2                    0                               2   \n",
       "3                    0                               2   \n",
       "4                    0                               2   \n",
       "\n",
       "   thyroid_function_3cat_label_encoded  age_group_label_encoded  \\\n",
       "0                                    1                        2   \n",
       "1                                    2                        2   \n",
       "2                                    1                        2   \n",
       "3                                    1                        4   \n",
       "4                                    1                        3   \n",
       "\n",
       "   t_4cat_label_encoded  \n",
       "0                     2  \n",
       "1                     2  \n",
       "2                     2  \n",
       "3                     2  \n",
       "4                     0  \n",
       "\n",
       "[5 rows x 88 columns]"
      ]
     },
     "execution_count": 4,
     "metadata": {},
     "output_type": "execute_result"
    }
   ],
   "source": [
    "df_test.head()"
   ]
  },
  {
   "cell_type": "code",
   "execution_count": 5,
   "metadata": {},
   "outputs": [
    {
     "name": "stdout",
     "output_type": "stream",
     "text": [
      "<class 'pandas.core.frame.DataFrame'>\n",
      "RangeIndex: 306 entries, 0 to 305\n",
      "Data columns (total 88 columns):\n",
      " #   Column                                                            Non-Null Count  Dtype\n",
      "---  ------                                                            --------------  -----\n",
      " 0   gender_m_dummy_encoded                                            306 non-null    bool \n",
      " 1   smoking_yes_dummy_encoded                                         306 non-null    bool \n",
      " 2   hx_smoking_yes_dummy_encoded                                      306 non-null    bool \n",
      " 3   hx_radiotherapy_yes_dummy_encoded                                 306 non-null    bool \n",
      " 4   thyroid_function_2cat_normal_dummy_encoded                        306 non-null    bool \n",
      " 5   focality_uni-focal_dummy_encoded                                  306 non-null    bool \n",
      " 6   m_m1_dummy_encoded                                                306 non-null    bool \n",
      " 7   stage_2cat_late_dummy_encoded                                     306 non-null    bool \n",
      " 8   recurrence_yes_dummy_encoded                                      306 non-null    bool \n",
      " 9   kmode_cluster_3cat_one_hot_encoded                                306 non-null    int64\n",
      " 10  stage_4cat_i_one_hot_encoded                                      306 non-null    bool \n",
      " 11  stage_4cat_ii_one_hot_encoded                                     306 non-null    bool \n",
      " 12  stage_4cat_iii_one_hot_encoded                                    306 non-null    bool \n",
      " 13  stage_4cat_iv_one_hot_encoded                                     306 non-null    bool \n",
      " 14  t_t1a_one_hot_encoded                                             306 non-null    bool \n",
      " 15  t_t1b_one_hot_encoded                                             306 non-null    bool \n",
      " 16  t_t2_one_hot_encoded                                              306 non-null    bool \n",
      " 17  t_t3a_one_hot_encoded                                             306 non-null    bool \n",
      " 18  t_t3b_one_hot_encoded                                             306 non-null    bool \n",
      " 19  t_t4a_one_hot_encoded                                             306 non-null    bool \n",
      " 20  t_t4b_one_hot_encoded                                             306 non-null    bool \n",
      " 21  response_3cat_excellent_one_hot_encoded                           306 non-null    bool \n",
      " 22  response_3cat_indeterminate_one_hot_encoded                       306 non-null    bool \n",
      " 23  response_3cat_negative_one_hot_encoded                            306 non-null    bool \n",
      " 24  n_n0_one_hot_encoded                                              306 non-null    bool \n",
      " 25  n_n1a_one_hot_encoded                                             306 non-null    bool \n",
      " 26  n_n1b_one_hot_encoded                                             306 non-null    bool \n",
      " 27  physical_examination_diffuse_goiter_one_hot_encoded               306 non-null    bool \n",
      " 28  physical_examination_multinodular_goiter_one_hot_encoded          306 non-null    bool \n",
      " 29  physical_examination_normal_one_hot_encoded                       306 non-null    bool \n",
      " 30  physical_examination_single_nodular_goiter-left_one_hot_encoded   306 non-null    bool \n",
      " 31  physical_examination_single_nodular_goiter-right_one_hot_encoded  306 non-null    bool \n",
      " 32  response_biochemical_incomplete_one_hot_encoded                   306 non-null    bool \n",
      " 33  response_excellent_one_hot_encoded                                306 non-null    bool \n",
      " 34  response_indeterminate_one_hot_encoded                            306 non-null    bool \n",
      " 35  response_structural_incomplete_one_hot_encoded                    306 non-null    bool \n",
      " 36  adenopathy_bilateral_one_hot_encoded                              306 non-null    bool \n",
      " 37  adenopathy_extensive_one_hot_encoded                              306 non-null    bool \n",
      " 38  adenopathy_left_one_hot_encoded                                   306 non-null    bool \n",
      " 39  adenopathy_no_one_hot_encoded                                     306 non-null    bool \n",
      " 40  adenopathy_posterior_one_hot_encoded                              306 non-null    bool \n",
      " 41  adenopathy_right_one_hot_encoded                                  306 non-null    bool \n",
      " 42  pathology_follicular_one_hot_encoded                              306 non-null    bool \n",
      " 43  pathology_hurthel_cell_one_hot_encoded                            306 non-null    bool \n",
      " 44  pathology_micropapillary_one_hot_encoded                          306 non-null    bool \n",
      " 45  pathology_papillary_one_hot_encoded                               306 non-null    bool \n",
      " 46  risk_high_one_hot_encoded                                         306 non-null    bool \n",
      " 47  risk_intermediate_one_hot_encoded                                 306 non-null    bool \n",
      " 48  risk_low_one_hot_encoded                                          306 non-null    bool \n",
      " 49  stage_i_one_hot_encoded                                           306 non-null    bool \n",
      " 50  stage_ii_one_hot_encoded                                          306 non-null    bool \n",
      " 51  stage_iii_one_hot_encoded                                         306 non-null    bool \n",
      " 52  stage_iva_one_hot_encoded                                         306 non-null    bool \n",
      " 53  stage_ivb_one_hot_encoded                                         306 non-null    bool \n",
      " 54  thyroid_function_clinical_hyperthyroidism_one_hot_encoded         306 non-null    bool \n",
      " 55  thyroid_function_clinical_hypothyroidism_one_hot_encoded          306 non-null    bool \n",
      " 56  thyroid_function_euthyroid_one_hot_encoded                        306 non-null    bool \n",
      " 57  thyroid_function_subclinical_hyperthyroidism_one_hot_encoded      306 non-null    bool \n",
      " 58  thyroid_function_subclinical_hypothyroidism_one_hot_encoded       306 non-null    bool \n",
      " 59  thyroid_function_3cat_clinical_one_hot_encoded                    306 non-null    bool \n",
      " 60  thyroid_function_3cat_normal_one_hot_encoded                      306 non-null    bool \n",
      " 61  thyroid_function_3cat_subclinical_one_hot_encoded                 306 non-null    bool \n",
      " 62  age_group_10s_one_hot_encoded                                     306 non-null    bool \n",
      " 63  age_group_20s_one_hot_encoded                                     306 non-null    bool \n",
      " 64  age_group_30s_one_hot_encoded                                     306 non-null    bool \n",
      " 65  age_group_40s_one_hot_encoded                                     306 non-null    bool \n",
      " 66  age_group_50s_one_hot_encoded                                     306 non-null    bool \n",
      " 67  age_group_60s_one_hot_encoded                                     306 non-null    bool \n",
      " 68  age_group_70s_one_hot_encoded                                     306 non-null    bool \n",
      " 69  age_group_80s_one_hot_encoded                                     306 non-null    bool \n",
      " 70  t_4cat_t1_one_hot_encoded                                         306 non-null    bool \n",
      " 71  t_4cat_t2_one_hot_encoded                                         306 non-null    bool \n",
      " 72  t_4cat_t3_one_hot_encoded                                         306 non-null    bool \n",
      " 73  t_4cat_t4_one_hot_encoded                                         306 non-null    bool \n",
      " 74  stage_4cat_label_encoded                                          306 non-null    int64\n",
      " 75  t_label_encoded                                                   306 non-null    int64\n",
      " 76  response_3cat_label_encoded                                       306 non-null    int64\n",
      " 77  n_label_encoded                                                   306 non-null    int64\n",
      " 78  physical_examination_label_encoded                                306 non-null    int64\n",
      " 79  response_label_encoded                                            306 non-null    int64\n",
      " 80  adenopathy_label_encoded                                          306 non-null    int64\n",
      " 81  pathology_label_encoded                                           306 non-null    int64\n",
      " 82  risk_label_encoded                                                306 non-null    int64\n",
      " 83  stage_label_encoded                                               306 non-null    int64\n",
      " 84  thyroid_function_label_encoded                                    306 non-null    int64\n",
      " 85  thyroid_function_3cat_label_encoded                               306 non-null    int64\n",
      " 86  age_group_label_encoded                                           306 non-null    int64\n",
      " 87  t_4cat_label_encoded                                              306 non-null    int64\n",
      "dtypes: bool(73), int64(15)\n",
      "memory usage: 57.8 KB\n"
     ]
    }
   ],
   "source": [
    "df_train.info()"
   ]
  },
  {
   "cell_type": "code",
   "execution_count": 6,
   "metadata": {},
   "outputs": [
    {
     "name": "stdout",
     "output_type": "stream",
     "text": [
      "<class 'pandas.core.frame.DataFrame'>\n",
      "RangeIndex: 77 entries, 0 to 76\n",
      "Data columns (total 88 columns):\n",
      " #   Column                                                            Non-Null Count  Dtype\n",
      "---  ------                                                            --------------  -----\n",
      " 0   gender_m_dummy_encoded                                            77 non-null     bool \n",
      " 1   smoking_yes_dummy_encoded                                         77 non-null     bool \n",
      " 2   hx_smoking_yes_dummy_encoded                                      77 non-null     bool \n",
      " 3   hx_radiotherapy_yes_dummy_encoded                                 77 non-null     bool \n",
      " 4   thyroid_function_2cat_normal_dummy_encoded                        77 non-null     bool \n",
      " 5   focality_uni-focal_dummy_encoded                                  77 non-null     bool \n",
      " 6   m_m1_dummy_encoded                                                77 non-null     bool \n",
      " 7   stage_2cat_late_dummy_encoded                                     77 non-null     bool \n",
      " 8   recurrence_yes_dummy_encoded                                      77 non-null     bool \n",
      " 9   kmode_cluster_3cat_one_hot_encoded                                77 non-null     int64\n",
      " 10  stage_4cat_i_one_hot_encoded                                      77 non-null     bool \n",
      " 11  stage_4cat_ii_one_hot_encoded                                     77 non-null     bool \n",
      " 12  stage_4cat_iii_one_hot_encoded                                    77 non-null     bool \n",
      " 13  stage_4cat_iv_one_hot_encoded                                     77 non-null     bool \n",
      " 14  t_t1a_one_hot_encoded                                             77 non-null     bool \n",
      " 15  t_t1b_one_hot_encoded                                             77 non-null     bool \n",
      " 16  t_t2_one_hot_encoded                                              77 non-null     bool \n",
      " 17  t_t3a_one_hot_encoded                                             77 non-null     bool \n",
      " 18  t_t3b_one_hot_encoded                                             77 non-null     bool \n",
      " 19  t_t4a_one_hot_encoded                                             77 non-null     bool \n",
      " 20  t_t4b_one_hot_encoded                                             77 non-null     bool \n",
      " 21  response_3cat_excellent_one_hot_encoded                           77 non-null     bool \n",
      " 22  response_3cat_indeterminate_one_hot_encoded                       77 non-null     bool \n",
      " 23  response_3cat_negative_one_hot_encoded                            77 non-null     bool \n",
      " 24  n_n0_one_hot_encoded                                              77 non-null     bool \n",
      " 25  n_n1a_one_hot_encoded                                             77 non-null     bool \n",
      " 26  n_n1b_one_hot_encoded                                             77 non-null     bool \n",
      " 27  physical_examination_diffuse_goiter_one_hot_encoded               77 non-null     bool \n",
      " 28  physical_examination_multinodular_goiter_one_hot_encoded          77 non-null     bool \n",
      " 29  physical_examination_normal_one_hot_encoded                       77 non-null     bool \n",
      " 30  physical_examination_single_nodular_goiter-left_one_hot_encoded   77 non-null     bool \n",
      " 31  physical_examination_single_nodular_goiter-right_one_hot_encoded  77 non-null     bool \n",
      " 32  response_biochemical_incomplete_one_hot_encoded                   77 non-null     bool \n",
      " 33  response_excellent_one_hot_encoded                                77 non-null     bool \n",
      " 34  response_indeterminate_one_hot_encoded                            77 non-null     bool \n",
      " 35  response_structural_incomplete_one_hot_encoded                    77 non-null     bool \n",
      " 36  adenopathy_bilateral_one_hot_encoded                              77 non-null     bool \n",
      " 37  adenopathy_extensive_one_hot_encoded                              77 non-null     bool \n",
      " 38  adenopathy_left_one_hot_encoded                                   77 non-null     bool \n",
      " 39  adenopathy_no_one_hot_encoded                                     77 non-null     bool \n",
      " 40  adenopathy_posterior_one_hot_encoded                              77 non-null     bool \n",
      " 41  adenopathy_right_one_hot_encoded                                  77 non-null     bool \n",
      " 42  pathology_follicular_one_hot_encoded                              77 non-null     bool \n",
      " 43  pathology_hurthel_cell_one_hot_encoded                            77 non-null     bool \n",
      " 44  pathology_micropapillary_one_hot_encoded                          77 non-null     bool \n",
      " 45  pathology_papillary_one_hot_encoded                               77 non-null     bool \n",
      " 46  risk_high_one_hot_encoded                                         77 non-null     bool \n",
      " 47  risk_intermediate_one_hot_encoded                                 77 non-null     bool \n",
      " 48  risk_low_one_hot_encoded                                          77 non-null     bool \n",
      " 49  stage_i_one_hot_encoded                                           77 non-null     bool \n",
      " 50  stage_ii_one_hot_encoded                                          77 non-null     bool \n",
      " 51  stage_iii_one_hot_encoded                                         77 non-null     bool \n",
      " 52  stage_iva_one_hot_encoded                                         77 non-null     bool \n",
      " 53  stage_ivb_one_hot_encoded                                         77 non-null     bool \n",
      " 54  thyroid_function_clinical_hyperthyroidism_one_hot_encoded         77 non-null     bool \n",
      " 55  thyroid_function_clinical_hypothyroidism_one_hot_encoded          77 non-null     bool \n",
      " 56  thyroid_function_euthyroid_one_hot_encoded                        77 non-null     bool \n",
      " 57  thyroid_function_subclinical_hyperthyroidism_one_hot_encoded      77 non-null     bool \n",
      " 58  thyroid_function_subclinical_hypothyroidism_one_hot_encoded       77 non-null     bool \n",
      " 59  thyroid_function_3cat_clinical_one_hot_encoded                    77 non-null     bool \n",
      " 60  thyroid_function_3cat_normal_one_hot_encoded                      77 non-null     bool \n",
      " 61  thyroid_function_3cat_subclinical_one_hot_encoded                 77 non-null     bool \n",
      " 62  age_group_10s_one_hot_encoded                                     77 non-null     bool \n",
      " 63  age_group_20s_one_hot_encoded                                     77 non-null     bool \n",
      " 64  age_group_30s_one_hot_encoded                                     77 non-null     bool \n",
      " 65  age_group_40s_one_hot_encoded                                     77 non-null     bool \n",
      " 66  age_group_50s_one_hot_encoded                                     77 non-null     bool \n",
      " 67  age_group_60s_one_hot_encoded                                     77 non-null     bool \n",
      " 68  age_group_70s_one_hot_encoded                                     77 non-null     bool \n",
      " 69  age_group_80s_one_hot_encoded                                     77 non-null     bool \n",
      " 70  t_4cat_t1_one_hot_encoded                                         77 non-null     bool \n",
      " 71  t_4cat_t2_one_hot_encoded                                         77 non-null     bool \n",
      " 72  t_4cat_t3_one_hot_encoded                                         77 non-null     bool \n",
      " 73  t_4cat_t4_one_hot_encoded                                         77 non-null     bool \n",
      " 74  stage_4cat_label_encoded                                          77 non-null     int64\n",
      " 75  t_label_encoded                                                   77 non-null     int64\n",
      " 76  response_3cat_label_encoded                                       77 non-null     int64\n",
      " 77  n_label_encoded                                                   77 non-null     int64\n",
      " 78  physical_examination_label_encoded                                77 non-null     int64\n",
      " 79  response_label_encoded                                            77 non-null     int64\n",
      " 80  adenopathy_label_encoded                                          77 non-null     int64\n",
      " 81  pathology_label_encoded                                           77 non-null     int64\n",
      " 82  risk_label_encoded                                                77 non-null     int64\n",
      " 83  stage_label_encoded                                               77 non-null     int64\n",
      " 84  thyroid_function_label_encoded                                    77 non-null     int64\n",
      " 85  thyroid_function_3cat_label_encoded                               77 non-null     int64\n",
      " 86  age_group_label_encoded                                           77 non-null     int64\n",
      " 87  t_4cat_label_encoded                                              77 non-null     int64\n",
      "dtypes: bool(73), int64(15)\n",
      "memory usage: 14.6 KB\n"
     ]
    }
   ],
   "source": [
    "df_test.info()"
   ]
  },
  {
   "cell_type": "code",
   "execution_count": 7,
   "metadata": {},
   "outputs": [
    {
     "data": {
      "text/plain": [
       "(306, 88)"
      ]
     },
     "execution_count": 7,
     "metadata": {},
     "output_type": "execute_result"
    }
   ],
   "source": [
    "df_train.shape"
   ]
  },
  {
   "cell_type": "code",
   "execution_count": 8,
   "metadata": {},
   "outputs": [
    {
     "data": {
      "text/plain": [
       "(77, 88)"
      ]
     },
     "execution_count": 8,
     "metadata": {},
     "output_type": "execute_result"
    }
   ],
   "source": [
    "df_test.shape"
   ]
  },
  {
   "cell_type": "code",
   "execution_count": 9,
   "metadata": {},
   "outputs": [],
   "source": [
    "# Define features and target\n",
    "X_train = df_train.drop('recurrence_yes_dummy_encoded', axis=1)\n",
    "y_train = df_train['recurrence_yes_dummy_encoded']\n",
    "X_test = df_test.drop('recurrence_yes_dummy_encoded', axis=1)\n",
    "y_test = df_test['recurrence_yes_dummy_encoded']"
   ]
  },
  {
   "cell_type": "markdown",
   "metadata": {},
   "source": [
    "# Address Data Imbalance"
   ]
  },
  {
   "cell_type": "code",
   "execution_count": 10,
   "metadata": {},
   "outputs": [
    {
     "data": {
      "text/plain": [
       "Counter({False: 217, True: 89})"
      ]
     },
     "execution_count": 10,
     "metadata": {},
     "output_type": "execute_result"
    }
   ],
   "source": [
    "# check if balanced \n",
    "Counter(X_train)\n",
    "Counter(y_train)"
   ]
  },
  {
   "cell_type": "code",
   "execution_count": 11,
   "metadata": {},
   "outputs": [],
   "source": [
    "# Address data imbalance with SMOTE\n",
    "smote = SMOTE()\n",
    "X_train_SMOTE, y_train_SMOTE = smote.fit_resample(X_train, y_train)"
   ]
  },
  {
   "cell_type": "code",
   "execution_count": 12,
   "metadata": {},
   "outputs": [
    {
     "data": {
      "text/plain": [
       "Counter({False: 217, True: 217})"
      ]
     },
     "execution_count": 12,
     "metadata": {},
     "output_type": "execute_result"
    }
   ],
   "source": [
    "# check if balanced\n",
    "Counter(X_train_SMOTE)\n",
    "Counter(y_train_SMOTE)"
   ]
  },
  {
   "cell_type": "markdown",
   "metadata": {},
   "source": [
    "# Model knowledge\n",
    "\n",
    "Reminder\n",
    "\n",
    "Precision\n",
    "- True Positives. Avoiding false alarms. It evaluates the quality of positive predictions made by the model\n",
    "- Higher precision to recall ratio requires making stricter predictions, which may result in missing some positives (lower recall).\n",
    "\n",
    "Recall\n",
    "- Ensuring that no actual positives are missed. It evaluates the coverage of actual positives by the model.\n",
    "- Higher recall to precision ration requires casting a wider net, which may result in more false positives (lower precision).\n",
    "\n",
    "F1-Score\n",
    "- an algorithm to balance Precision and Recall into one value\n",
    "\n",
    "Support\n",
    "- Number of true instances\n",
    "\n",
    "accuracy\n",
    "- correct prediction / total prediction\n"
   ]
  },
  {
   "cell_type": "markdown",
   "metadata": {},
   "source": [
    "# Model 1 - Decision Tree"
   ]
  },
  {
   "cell_type": "code",
   "execution_count": 13,
   "metadata": {},
   "outputs": [
    {
     "name": "stdout",
     "output_type": "stream",
     "text": [
      "Decision Tree:\n",
      "              precision    recall  f1-score   support\n",
      "\n",
      "       False       0.98      0.93      0.96        58\n",
      "        True       0.82      0.95      0.88        19\n",
      "\n",
      "    accuracy                           0.94        77\n",
      "   macro avg       0.90      0.94      0.92        77\n",
      "weighted avg       0.94      0.94      0.94        77\n",
      "\n"
     ]
    }
   ],
   "source": [
    "# Decision Tree \n",
    "dt = DecisionTreeClassifier(max_depth=10, min_samples_split=5, min_samples_leaf=2, class_weight='balanced')\n",
    "dt.fit(X_train, y_train)\n",
    "y_pred_dt = dt.predict(X_test)\n",
    "print(\"Decision Tree:\")\n",
    "print(classification_report(y_test, y_pred_dt))"
   ]
  },
  {
   "cell_type": "code",
   "execution_count": 14,
   "metadata": {},
   "outputs": [
    {
     "data": {
      "text/plain": [
       "' \\nThe model performs very well overall, with high precision, recall, and F1-scores for both classes.\\nhe slight imbalance in class distribution (58 False vs. 19 True) might make the metrics slightly biased towards the majority class, but this doesn’t seem significant here.\\n'"
      ]
     },
     "execution_count": 14,
     "metadata": {},
     "output_type": "execute_result"
    }
   ],
   "source": [
    "# The model performs very well overall, with high precision, recall, and F1-scores for both classes.\n",
    "# The slight imbalance in class distribution (58 False vs. 19 True) might make the metrics slightly biased towards the majority class, but this doesn’t seem significant here."
   ]
  },
  {
   "cell_type": "code",
   "execution_count": 15,
   "metadata": {},
   "outputs": [
    {
     "name": "stdout",
     "output_type": "stream",
     "text": [
      "Decision Tree:\n",
      "              precision    recall  f1-score   support\n",
      "\n",
      "       False       0.96      0.95      0.96        58\n",
      "        True       0.85      0.89      0.87        19\n",
      "\n",
      "    accuracy                           0.94        77\n",
      "   macro avg       0.91      0.92      0.91        77\n",
      "weighted avg       0.94      0.94      0.94        77\n",
      "\n"
     ]
    }
   ],
   "source": [
    "# Decision Tree with SMOTE to oversample the minority class\n",
    "dt = DecisionTreeClassifier(max_depth=10, min_samples_split=5, min_samples_leaf=2)\n",
    "dt.fit(X_train_SMOTE, y_train_SMOTE)\n",
    "y_pred_dt = dt.predict(X_test)\n",
    "print(\"Decision Tree:\")\n",
    "print(classification_report(y_test, y_pred_dt))"
   ]
  },
  {
   "cell_type": "code",
   "execution_count": 16,
   "metadata": {},
   "outputs": [
    {
     "data": {
      "text/plain": [
       "' \\nThe model performs even better with the synthetic balanced data.\\n'"
      ]
     },
     "execution_count": 16,
     "metadata": {},
     "output_type": "execute_result"
    }
   ],
   "source": [
    "# The model performs even better with the synthetic balanced data."
   ]
  },
  {
   "cell_type": "markdown",
   "metadata": {},
   "source": [
    "# Model 2 - Random Forest"
   ]
  },
  {
   "cell_type": "code",
   "execution_count": 17,
   "metadata": {},
   "outputs": [
    {
     "name": "stdout",
     "output_type": "stream",
     "text": [
      "Random Forest:\n",
      "              precision    recall  f1-score   support\n",
      "\n",
      "       False       0.98      0.98      0.98        58\n",
      "        True       0.95      0.95      0.95        19\n",
      "\n",
      "    accuracy                           0.97        77\n",
      "   macro avg       0.97      0.97      0.97        77\n",
      "weighted avg       0.97      0.97      0.97        77\n",
      "\n"
     ]
    }
   ],
   "source": [
    "# Random Forest\n",
    "rf = RandomForestClassifier(n_estimators=200, max_depth=15, min_samples_split=5, min_samples_leaf=2, class_weight='balanced', random_state=42)\n",
    "rf.fit(X_train, y_train)\n",
    "y_pred_rf = rf.predict(X_test)\n",
    "print(\"Random Forest:\")\n",
    "print(classification_report(y_test, y_pred_rf))"
   ]
  },
  {
   "cell_type": "code",
   "execution_count": null,
   "metadata": {},
   "outputs": [],
   "source": [
    "# nice score overall and really like the precision recall ratio on both the false and true."
   ]
  },
  {
   "cell_type": "code",
   "execution_count": 18,
   "metadata": {},
   "outputs": [
    {
     "name": "stdout",
     "output_type": "stream",
     "text": [
      "Random Forest:\n",
      "              precision    recall  f1-score   support\n",
      "\n",
      "       False       0.98      0.98      0.98        58\n",
      "        True       0.95      0.95      0.95        19\n",
      "\n",
      "    accuracy                           0.97        77\n",
      "   macro avg       0.97      0.97      0.97        77\n",
      "weighted avg       0.97      0.97      0.97        77\n",
      "\n"
     ]
    }
   ],
   "source": [
    "# Random Forest, giving more weight to the minority class using class_weight='balanced'\n",
    "rf = RandomForestClassifier(n_estimators=200, max_depth=15, min_samples_split=5, min_samples_leaf=2, class_weight='balanced', random_state=42)\n",
    "rf.fit(X_train, y_train)\n",
    "y_pred_rf = rf.predict(X_test)\n",
    "print(\"Random Forest:\")\n",
    "print(classification_report(y_test, y_pred_rf))"
   ]
  },
  {
   "cell_type": "code",
   "execution_count": null,
   "metadata": {},
   "outputs": [],
   "source": [
    "# Setting class weight to balanced practically has no change overall. Ensemble method decision trees are really great as even natively can handle imbalance data well."
   ]
  },
  {
   "cell_type": "markdown",
   "metadata": {},
   "source": [
    "# Model 3 - Gradient Boosting"
   ]
  },
  {
   "cell_type": "code",
   "execution_count": 19,
   "metadata": {},
   "outputs": [
    {
     "name": "stdout",
     "output_type": "stream",
     "text": [
      "Gradient Boosting:\n",
      "              precision    recall  f1-score   support\n",
      "\n",
      "       False       0.97      0.98      0.97        58\n",
      "        True       0.94      0.89      0.92        19\n",
      "\n",
      "    accuracy                           0.96        77\n",
      "   macro avg       0.96      0.94      0.95        77\n",
      "weighted avg       0.96      0.96      0.96        77\n",
      "\n"
     ]
    }
   ],
   "source": [
    "# Gradient Boosting\n",
    "gb = GradientBoostingClassifier(n_estimators=200, learning_rate=0.05, max_depth=5, subsample=0.8)\n",
    "gb.fit(X_train, y_train)\n",
    "y_pred_gb = gb.predict(X_test)\n",
    "print(\"Gradient Boosting:\") \n",
    "print(classification_report(y_test, y_pred_gb))"
   ]
  },
  {
   "cell_type": "code",
   "execution_count": null,
   "metadata": {},
   "outputs": [],
   "source": [
    "# pretty good scores but I wonder why for the true answers the ratio of precision and recall is high."
   ]
  },
  {
   "cell_type": "code",
   "execution_count": 20,
   "metadata": {},
   "outputs": [
    {
     "name": "stdout",
     "output_type": "stream",
     "text": [
      "Gradient Boosting:\n",
      "              precision    recall  f1-score   support\n",
      "\n",
      "       False       0.98      0.98      0.98        58\n",
      "        True       0.95      0.95      0.95        19\n",
      "\n",
      "    accuracy                           0.97        77\n",
      "   macro avg       0.97      0.97      0.97        77\n",
      "weighted avg       0.97      0.97      0.97        77\n",
      "\n"
     ]
    }
   ],
   "source": [
    "# Gradient Boosting, using SMOTE synthetic data to oversample the minority class\n",
    "gb = GradientBoostingClassifier(n_estimators=200, learning_rate=0.05, max_depth=5, subsample=0.8)\n",
    "gb.fit(X_train_SMOTE, y_train_SMOTE)\n",
    "y_pred_gb = gb.predict(X_test)\n",
    "print(\"Gradient Boosting:\") \n",
    "print(classification_report(y_test, y_pred_gb))"
   ]
  },
  {
   "cell_type": "code",
   "execution_count": null,
   "metadata": {},
   "outputs": [],
   "source": [
    "# the SMOTE balanced data definitely improved performance overall while balancing out the precision and recall ratios. "
   ]
  },
  {
   "cell_type": "markdown",
   "metadata": {},
   "source": [
    "# Final Decision\n",
    "\n",
    "Accuracy for all models are above 95%.\n",
    "\n",
    "Decide to go with the Random Forest Model as seems to have the a really high performance while balancign out the precision and recall ratios for both True and False answers, and did this even on the imbalanced data. \n",
    "\n",
    "Also the random forest method is future proof as easily scalable do to it's parallel nature with parallel hardware."
   ]
  },
  {
   "cell_type": "code",
   "execution_count": null,
   "metadata": {},
   "outputs": [],
   "source": []
  }
 ],
 "metadata": {
  "kernelspec": {
   "display_name": "Python 3",
   "language": "python",
   "name": "python3"
  },
  "language_info": {
   "codemirror_mode": {
    "name": "ipython",
    "version": 3
   },
   "file_extension": ".py",
   "mimetype": "text/x-python",
   "name": "python",
   "nbconvert_exporter": "python",
   "pygments_lexer": "ipython3",
   "version": "3.10.11"
  }
 },
 "nbformat": 4,
 "nbformat_minor": 2
}
