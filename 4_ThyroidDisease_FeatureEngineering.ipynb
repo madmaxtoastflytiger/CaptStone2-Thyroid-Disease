{
 "cells": [
  {
   "cell_type": "markdown",
   "metadata": {},
   "source": [
    "# Predictive Thyroid Disease Project - Feature Engineering\n",
    "\n",
    "To make a predictive model where you input factors of a person and have it predict if they are likely to have thyroid disease or not. The accuracy has to be above 95% to be considered successful."
   ]
  },
  {
   "cell_type": "markdown",
   "metadata": {},
   "source": [
    "# Initial Set Up"
   ]
  },
  {
   "cell_type": "code",
   "execution_count": 1,
   "metadata": {},
   "outputs": [],
   "source": [
    "# General Data Manipulation\n",
    "import pandas as pd\n",
    "import numpy as np\n",
    "from sklearn.preprocessing import LabelEncoder, OneHotEncoder, MinMaxScaler, StandardScaler, RobustScaler\n",
    "from sklearn.decomposition import PCA\n",
    "from sklearn.feature_extraction.text import TfidfVectorizer\n",
    "from sklearn.feature_extraction import FeatureHasher\n",
    "from sklearn.feature_selection import VarianceThreshold\n",
    "from sklearn.ensemble import RandomForestClassifier\n",
    "from sklearn.cluster import KMeans\n",
    "import datetime\n",
    "import math\n",
    "\n",
    "# Import my custom library \n",
    "import MyCustDataSciLib as MyCustDataSciLib"
   ]
  },
  {
   "cell_type": "code",
   "execution_count": 2,
   "metadata": {},
   "outputs": [],
   "source": [
    "# Load your cleaned CSV file\n",
    "df = pd.read_csv('Thyroid_Disease_DataWrangled.csv') # Change it to Thyroid_Disease_EDA"
   ]
  },
  {
   "cell_type": "markdown",
   "metadata": {},
   "source": [
    "# Change binary values into 0s and 1s"
   ]
  },
  {
   "cell_type": "code",
   "execution_count": 3,
   "metadata": {},
   "outputs": [
    {
     "name": "stdout",
     "output_type": "stream",
     "text": [
      "<class 'pandas.core.frame.DataFrame'>\n",
      "RangeIndex: 383 entries, 0 to 382\n",
      "Data columns (total 17 columns):\n",
      " #   Column                Non-Null Count  Dtype \n",
      "---  ------                --------------  ----- \n",
      " 0   age                   383 non-null    int64 \n",
      " 1   gender                383 non-null    object\n",
      " 2   smoking               383 non-null    object\n",
      " 3   hx_smoking            383 non-null    object\n",
      " 4   hx_radiotherapy       383 non-null    object\n",
      " 5   thyroid_function      383 non-null    object\n",
      " 6   physical_examination  383 non-null    object\n",
      " 7   adenopathy            383 non-null    object\n",
      " 8   pathology             383 non-null    object\n",
      " 9   focality              383 non-null    object\n",
      " 10  risk                  383 non-null    object\n",
      " 11  t                     383 non-null    object\n",
      " 12  n                     383 non-null    object\n",
      " 13  m                     383 non-null    object\n",
      " 14  stage                 383 non-null    object\n",
      " 15  response              383 non-null    object\n",
      " 16  recurrence            383 non-null    object\n",
      "dtypes: int64(1), object(16)\n",
      "memory usage: 51.0+ KB\n"
     ]
    }
   ],
   "source": [
    "# check the columns data type before edit\n",
    "df.info()"
   ]
  },
  {
   "cell_type": "code",
   "execution_count": 4,
   "metadata": {},
   "outputs": [
    {
     "data": {
      "text/plain": [
       "[('gender', 'f', 'm'),\n",
       " ('smoking', 'no', 'yes'),\n",
       " ('hx_smoking', 'no', 'yes'),\n",
       " ('hx_radiotherapy', 'no', 'yes'),\n",
       " ('focality', 'uni-focal', 'multi-focal'),\n",
       " ('m', 'm0', 'm1'),\n",
       " ('recurrence', 'no', 'yes')]"
      ]
     },
     "execution_count": 4,
     "metadata": {},
     "output_type": "execute_result"
    }
   ],
   "source": [
    "# check which columns are possible candidates to be converted into binary 0s and 1s\n",
    "binary_column_info, binary_column_names = MyCustDataSciLib.get_binary_columns(df, 'all')\n",
    "binary_column_info"
   ]
  },
  {
   "cell_type": "code",
   "execution_count": 5,
   "metadata": {},
   "outputs": [
    {
     "name": "stdout",
     "output_type": "stream",
     "text": [
      "gender column has been fully converted\n",
      "smoking column has been fully converted\n",
      "hx_smoking column has been fully converted\n",
      "hx_radiotherapy column has been fully converted\n",
      "focality column has been fully converted\n",
      "m column has been fully converted\n",
      "recurrence column has been fully converted\n",
      "\n",
      "adenopathy column has 106 incompatible rows\n"
     ]
    }
   ],
   "source": [
    "# Convert these 'yes' 'no columns into binary '1s' '0s' as to make future data science tasks easier\n",
    "    # reminder\n",
    "        # 2nd parameter is col name\n",
    "        # 3rd parameter is the value to be converted to 1\n",
    "        # 4th parameter is the value to be converted to 0\n",
    "\n",
    "df, incompatible_rows_info, incompatible_rows = MyCustDataSciLib.convert_column_to_binary(df, 'gender', 'm', 'f')\n",
    "df, incompatible_rows_info, incompatible_rows = MyCustDataSciLib.convert_column_to_binary(df, 'smoking', 'yes', 'no')\n",
    "df, incompatible_rows_info, incompatible_rows = MyCustDataSciLib.convert_column_to_binary(df, 'hx_smoking', 'yes', 'no')\n",
    "df, incompatible_rows_info, incompatible_rows = MyCustDataSciLib.convert_column_to_binary(df, 'hx_radiotherapy', 'yes', 'no')\n",
    "df, incompatible_rows_info, incompatible_rows = MyCustDataSciLib.convert_column_to_binary(df, 'focality', 'uni-focal', 'multi-focal')\n",
    "df, incompatible_rows_info, incompatible_rows = MyCustDataSciLib.convert_column_to_binary(df, 'm', 'm1', 'm0')\n",
    "df, incompatible_rows_info, incompatible_rows = MyCustDataSciLib.convert_column_to_binary(df, 'recurrence', 'yes', 'no')\n",
    "\n",
    "# testing the function\n",
    "print()\n",
    "df, incompatible_rows_info, incompatible_rows = MyCustDataSciLib.convert_column_to_binary(df, 'adenopathy', 'yes', 'no')\n",
    "    # applied function on 'Adenopathy' as want to test out the function "
   ]
  },
  {
   "cell_type": "code",
   "execution_count": 6,
   "metadata": {},
   "outputs": [
    {
     "data": {
      "text/plain": [
       "[('gender', '0', '1'),\n",
       " ('smoking', '0', '1'),\n",
       " ('hx_smoking', '0', '1'),\n",
       " ('hx_radiotherapy', '0', '1'),\n",
       " ('focality', '1', '0'),\n",
       " ('m', '0', '1'),\n",
       " ('recurrence', '0', '1')]"
      ]
     },
     "execution_count": 6,
     "metadata": {},
     "output_type": "execute_result"
    }
   ],
   "source": [
    "binary_column_info, binary_column_names = MyCustDataSciLib.get_binary_columns(df, 'all')\n",
    "binary_column_info"
   ]
  },
  {
   "cell_type": "code",
   "execution_count": 7,
   "metadata": {},
   "outputs": [
    {
     "name": "stdout",
     "output_type": "stream",
     "text": [
      "<class 'pandas.core.frame.DataFrame'>\n",
      "RangeIndex: 383 entries, 0 to 382\n",
      "Data columns (total 17 columns):\n",
      " #   Column                Non-Null Count  Dtype \n",
      "---  ------                --------------  ----- \n",
      " 0   age                   383 non-null    int64 \n",
      " 1   gender                383 non-null    int32 \n",
      " 2   smoking               383 non-null    int32 \n",
      " 3   hx_smoking            383 non-null    int32 \n",
      " 4   hx_radiotherapy       383 non-null    int32 \n",
      " 5   thyroid_function      383 non-null    object\n",
      " 6   physical_examination  383 non-null    object\n",
      " 7   adenopathy            383 non-null    object\n",
      " 8   pathology             383 non-null    object\n",
      " 9   focality              383 non-null    int32 \n",
      " 10  risk                  383 non-null    object\n",
      " 11  t                     383 non-null    object\n",
      " 12  n                     383 non-null    object\n",
      " 13  m                     383 non-null    int32 \n",
      " 14  stage                 383 non-null    object\n",
      " 15  response              383 non-null    object\n",
      " 16  recurrence            383 non-null    int32 \n",
      "dtypes: int32(7), int64(1), object(9)\n",
      "memory usage: 40.5+ KB\n"
     ]
    }
   ],
   "source": [
    " # see all the binary columns has their dtypes converted to int32\n",
    "df.info()"
   ]
  },
  {
   "cell_type": "code",
   "execution_count": null,
   "metadata": {},
   "outputs": [],
   "source": []
  }
 ],
 "metadata": {
  "kernelspec": {
   "display_name": "Python 3",
   "language": "python",
   "name": "python3"
  },
  "language_info": {
   "codemirror_mode": {
    "name": "ipython",
    "version": 3
   },
   "file_extension": ".py",
   "mimetype": "text/x-python",
   "name": "python",
   "nbconvert_exporter": "python",
   "pygments_lexer": "ipython3",
   "version": "3.10.11"
  }
 },
 "nbformat": 4,
 "nbformat_minor": 2
}
