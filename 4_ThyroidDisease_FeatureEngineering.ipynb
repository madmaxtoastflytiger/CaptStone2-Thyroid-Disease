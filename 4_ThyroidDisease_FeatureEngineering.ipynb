{
 "cells": [
  {
   "cell_type": "markdown",
   "metadata": {},
   "source": [
    "# Predictive Thyroid Disease Project - Feature Engineering\n",
    "\n",
    "To make a predictive model if the thyroid cancer patient is likely to respond to the treatment or not."
   ]
  },
  {
   "cell_type": "markdown",
   "metadata": {},
   "source": [
    "# Initial Set Up"
   ]
  },
  {
   "cell_type": "code",
   "execution_count": 2,
   "metadata": {},
   "outputs": [],
   "source": [
    "# General Data Manipulation\n",
    "import pandas as pd\n",
    "import numpy as np\n",
    "from sklearn.preprocessing import LabelEncoder, OneHotEncoder, MinMaxScaler, StandardScaler, RobustScaler\n",
    "from sklearn.decomposition import PCA\n",
    "from sklearn.feature_extraction.text import TfidfVectorizer\n",
    "from sklearn.feature_extraction import FeatureHasher\n",
    "from sklearn.feature_selection import VarianceThreshold\n",
    "from sklearn.ensemble import RandomForestClassifier\n",
    "from sklearn.cluster import KMeans\n",
    "import datetime\n",
    "import math\n",
    "\n",
    "# Import my custom library \n",
    "import MyCustDataSciLib as MyCustDataSciLib"
   ]
  },
  {
   "cell_type": "code",
   "execution_count": 3,
   "metadata": {},
   "outputs": [],
   "source": [
    "# Load your cleaned CSV file\n",
    "df = pd.read_csv('Thyroid_Disease_DataWrangled.csv') # Change it to Thyroid_Disease_EDA"
   ]
  },
  {
   "cell_type": "code",
   "execution_count": 4,
   "metadata": {},
   "outputs": [
    {
     "data": {
      "text/html": [
       "<div>\n",
       "<style scoped>\n",
       "    .dataframe tbody tr th:only-of-type {\n",
       "        vertical-align: middle;\n",
       "    }\n",
       "\n",
       "    .dataframe tbody tr th {\n",
       "        vertical-align: top;\n",
       "    }\n",
       "\n",
       "    .dataframe thead th {\n",
       "        text-align: right;\n",
       "    }\n",
       "</style>\n",
       "<table border=\"1\" class=\"dataframe\">\n",
       "  <thead>\n",
       "    <tr style=\"text-align: right;\">\n",
       "      <th></th>\n",
       "      <th>age</th>\n",
       "      <th>age_group</th>\n",
       "      <th>gender</th>\n",
       "      <th>smoking</th>\n",
       "      <th>hx_smoking</th>\n",
       "      <th>hx_radiotherapy</th>\n",
       "      <th>thyroid_function</th>\n",
       "      <th>thyroid_function_3cat</th>\n",
       "      <th>thyroid_function_2cat</th>\n",
       "      <th>physical_examination</th>\n",
       "      <th>...</th>\n",
       "      <th>t</th>\n",
       "      <th>t_4cat</th>\n",
       "      <th>n</th>\n",
       "      <th>m</th>\n",
       "      <th>stage</th>\n",
       "      <th>stage_4cat</th>\n",
       "      <th>stage_2cat</th>\n",
       "      <th>response</th>\n",
       "      <th>response_3cat</th>\n",
       "      <th>recurrence</th>\n",
       "    </tr>\n",
       "  </thead>\n",
       "  <tbody>\n",
       "    <tr>\n",
       "      <th>0</th>\n",
       "      <td>27</td>\n",
       "      <td>20s</td>\n",
       "      <td>f</td>\n",
       "      <td>no</td>\n",
       "      <td>no</td>\n",
       "      <td>no</td>\n",
       "      <td>euthyroid</td>\n",
       "      <td>normal</td>\n",
       "      <td>normal</td>\n",
       "      <td>single_nodular_goiter-left</td>\n",
       "      <td>...</td>\n",
       "      <td>t1a</td>\n",
       "      <td>t1</td>\n",
       "      <td>n0</td>\n",
       "      <td>m0</td>\n",
       "      <td>i</td>\n",
       "      <td>i</td>\n",
       "      <td>early</td>\n",
       "      <td>indeterminate</td>\n",
       "      <td>indeterminate</td>\n",
       "      <td>no</td>\n",
       "    </tr>\n",
       "    <tr>\n",
       "      <th>1</th>\n",
       "      <td>34</td>\n",
       "      <td>30s</td>\n",
       "      <td>f</td>\n",
       "      <td>no</td>\n",
       "      <td>yes</td>\n",
       "      <td>no</td>\n",
       "      <td>euthyroid</td>\n",
       "      <td>normal</td>\n",
       "      <td>normal</td>\n",
       "      <td>multinodular_goiter</td>\n",
       "      <td>...</td>\n",
       "      <td>t1a</td>\n",
       "      <td>t1</td>\n",
       "      <td>n0</td>\n",
       "      <td>m0</td>\n",
       "      <td>i</td>\n",
       "      <td>i</td>\n",
       "      <td>early</td>\n",
       "      <td>excellent</td>\n",
       "      <td>excellent</td>\n",
       "      <td>no</td>\n",
       "    </tr>\n",
       "    <tr>\n",
       "      <th>2</th>\n",
       "      <td>30</td>\n",
       "      <td>30s</td>\n",
       "      <td>f</td>\n",
       "      <td>no</td>\n",
       "      <td>no</td>\n",
       "      <td>no</td>\n",
       "      <td>euthyroid</td>\n",
       "      <td>normal</td>\n",
       "      <td>normal</td>\n",
       "      <td>single_nodular_goiter-right</td>\n",
       "      <td>...</td>\n",
       "      <td>t1a</td>\n",
       "      <td>t1</td>\n",
       "      <td>n0</td>\n",
       "      <td>m0</td>\n",
       "      <td>i</td>\n",
       "      <td>i</td>\n",
       "      <td>early</td>\n",
       "      <td>excellent</td>\n",
       "      <td>excellent</td>\n",
       "      <td>no</td>\n",
       "    </tr>\n",
       "    <tr>\n",
       "      <th>3</th>\n",
       "      <td>62</td>\n",
       "      <td>60s</td>\n",
       "      <td>f</td>\n",
       "      <td>no</td>\n",
       "      <td>no</td>\n",
       "      <td>no</td>\n",
       "      <td>euthyroid</td>\n",
       "      <td>normal</td>\n",
       "      <td>normal</td>\n",
       "      <td>single_nodular_goiter-right</td>\n",
       "      <td>...</td>\n",
       "      <td>t1a</td>\n",
       "      <td>t1</td>\n",
       "      <td>n0</td>\n",
       "      <td>m0</td>\n",
       "      <td>i</td>\n",
       "      <td>i</td>\n",
       "      <td>early</td>\n",
       "      <td>excellent</td>\n",
       "      <td>excellent</td>\n",
       "      <td>no</td>\n",
       "    </tr>\n",
       "    <tr>\n",
       "      <th>4</th>\n",
       "      <td>62</td>\n",
       "      <td>60s</td>\n",
       "      <td>f</td>\n",
       "      <td>no</td>\n",
       "      <td>no</td>\n",
       "      <td>no</td>\n",
       "      <td>euthyroid</td>\n",
       "      <td>normal</td>\n",
       "      <td>normal</td>\n",
       "      <td>multinodular_goiter</td>\n",
       "      <td>...</td>\n",
       "      <td>t1a</td>\n",
       "      <td>t1</td>\n",
       "      <td>n0</td>\n",
       "      <td>m0</td>\n",
       "      <td>i</td>\n",
       "      <td>i</td>\n",
       "      <td>early</td>\n",
       "      <td>excellent</td>\n",
       "      <td>excellent</td>\n",
       "      <td>no</td>\n",
       "    </tr>\n",
       "  </tbody>\n",
       "</table>\n",
       "<p>5 rows × 24 columns</p>\n",
       "</div>"
      ],
      "text/plain": [
       "   age age_group gender smoking hx_smoking hx_radiotherapy thyroid_function  \\\n",
       "0   27       20s      f      no         no              no        euthyroid   \n",
       "1   34       30s      f      no        yes              no        euthyroid   \n",
       "2   30       30s      f      no         no              no        euthyroid   \n",
       "3   62       60s      f      no         no              no        euthyroid   \n",
       "4   62       60s      f      no         no              no        euthyroid   \n",
       "\n",
       "  thyroid_function_3cat thyroid_function_2cat         physical_examination  \\\n",
       "0                normal                normal   single_nodular_goiter-left   \n",
       "1                normal                normal          multinodular_goiter   \n",
       "2                normal                normal  single_nodular_goiter-right   \n",
       "3                normal                normal  single_nodular_goiter-right   \n",
       "4                normal                normal          multinodular_goiter   \n",
       "\n",
       "   ...    t t_4cat   n   m stage stage_4cat stage_2cat       response  \\\n",
       "0  ...  t1a     t1  n0  m0     i          i      early  indeterminate   \n",
       "1  ...  t1a     t1  n0  m0     i          i      early      excellent   \n",
       "2  ...  t1a     t1  n0  m0     i          i      early      excellent   \n",
       "3  ...  t1a     t1  n0  m0     i          i      early      excellent   \n",
       "4  ...  t1a     t1  n0  m0     i          i      early      excellent   \n",
       "\n",
       "   response_3cat recurrence  \n",
       "0  indeterminate         no  \n",
       "1      excellent         no  \n",
       "2      excellent         no  \n",
       "3      excellent         no  \n",
       "4      excellent         no  \n",
       "\n",
       "[5 rows x 24 columns]"
      ]
     },
     "execution_count": 4,
     "metadata": {},
     "output_type": "execute_result"
    }
   ],
   "source": [
    "df.head()"
   ]
  },
  {
   "cell_type": "markdown",
   "metadata": {},
   "source": [
    "# Change binary values into 0s and 1s"
   ]
  },
  {
   "cell_type": "code",
   "execution_count": 3,
   "metadata": {},
   "outputs": [
    {
     "name": "stdout",
     "output_type": "stream",
     "text": [
      "<class 'pandas.core.frame.DataFrame'>\n",
      "RangeIndex: 383 entries, 0 to 382\n",
      "Data columns (total 17 columns):\n",
      " #   Column                Non-Null Count  Dtype \n",
      "---  ------                --------------  ----- \n",
      " 0   age                   383 non-null    int64 \n",
      " 1   gender                383 non-null    object\n",
      " 2   smoking               383 non-null    object\n",
      " 3   hx_smoking            383 non-null    object\n",
      " 4   hx_radiotherapy       383 non-null    object\n",
      " 5   thyroid_function      383 non-null    object\n",
      " 6   physical_examination  383 non-null    object\n",
      " 7   adenopathy            383 non-null    object\n",
      " 8   pathology             383 non-null    object\n",
      " 9   focality              383 non-null    object\n",
      " 10  risk                  383 non-null    object\n",
      " 11  t                     383 non-null    object\n",
      " 12  n                     383 non-null    object\n",
      " 13  m                     383 non-null    object\n",
      " 14  stage                 383 non-null    object\n",
      " 15  response              383 non-null    object\n",
      " 16  recurrence            383 non-null    object\n",
      "dtypes: int64(1), object(16)\n",
      "memory usage: 51.0+ KB\n"
     ]
    }
   ],
   "source": [
    "# check the columns data type before edit\n",
    "df.info()"
   ]
  },
  {
   "cell_type": "code",
   "execution_count": 4,
   "metadata": {},
   "outputs": [
    {
     "data": {
      "text/plain": [
       "[('gender', 'f', 'm'),\n",
       " ('smoking', 'no', 'yes'),\n",
       " ('hx_smoking', 'no', 'yes'),\n",
       " ('hx_radiotherapy', 'no', 'yes'),\n",
       " ('focality', 'uni-focal', 'multi-focal'),\n",
       " ('m', 'm0', 'm1'),\n",
       " ('recurrence', 'no', 'yes')]"
      ]
     },
     "execution_count": 4,
     "metadata": {},
     "output_type": "execute_result"
    }
   ],
   "source": [
    "# check which columns are possible candidates to be converted into binary 0s and 1s\n",
    "binary_column_info, binary_column_names = MyCustDataSciLib.get_binary_columns(df, 'all')\n",
    "binary_column_info"
   ]
  },
  {
   "cell_type": "code",
   "execution_count": 5,
   "metadata": {},
   "outputs": [
    {
     "name": "stdout",
     "output_type": "stream",
     "text": [
      "gender column has been fully converted\n",
      "smoking column has been fully converted\n",
      "hx_smoking column has been fully converted\n",
      "hx_radiotherapy column has been fully converted\n",
      "focality column has been fully converted\n",
      "m column has been fully converted\n",
      "recurrence column has been fully converted\n",
      "\n",
      "adenopathy column has 106 incompatible rows\n"
     ]
    }
   ],
   "source": [
    "# Convert these 'yes' 'no columns into binary '1s' '0s' as to make future data science tasks easier\n",
    "    # reminder\n",
    "        # 2nd parameter is col name\n",
    "        # 3rd parameter is the value to be converted to 1\n",
    "        # 4th parameter is the value to be converted to 0\n",
    "\n",
    "df, incompatible_rows_info, incompatible_rows = MyCustDataSciLib.convert_column_to_binary(df, 'gender', 'm', 'f')\n",
    "df, incompatible_rows_info, incompatible_rows = MyCustDataSciLib.convert_column_to_binary(df, 'smoking', 'yes', 'no')\n",
    "df, incompatible_rows_info, incompatible_rows = MyCustDataSciLib.convert_column_to_binary(df, 'hx_smoking', 'yes', 'no')\n",
    "df, incompatible_rows_info, incompatible_rows = MyCustDataSciLib.convert_column_to_binary(df, 'hx_radiotherapy', 'yes', 'no')\n",
    "df, incompatible_rows_info, incompatible_rows = MyCustDataSciLib.convert_column_to_binary(df, 'focality', 'uni-focal', 'multi-focal')\n",
    "df, incompatible_rows_info, incompatible_rows = MyCustDataSciLib.convert_column_to_binary(df, 'm', 'm1', 'm0')\n",
    "df, incompatible_rows_info, incompatible_rows = MyCustDataSciLib.convert_column_to_binary(df, 'recurrence', 'yes', 'no')\n",
    "\n",
    "# testing the function\n",
    "print()\n",
    "df, incompatible_rows_info, incompatible_rows = MyCustDataSciLib.convert_column_to_binary(df, 'adenopathy', 'yes', 'no')\n",
    "    # applied function on 'Adenopathy' as want to test out the function "
   ]
  },
  {
   "cell_type": "code",
   "execution_count": 6,
   "metadata": {},
   "outputs": [
    {
     "data": {
      "text/plain": [
       "[('gender', '0', '1'),\n",
       " ('smoking', '0', '1'),\n",
       " ('hx_smoking', '0', '1'),\n",
       " ('hx_radiotherapy', '0', '1'),\n",
       " ('focality', '1', '0'),\n",
       " ('m', '0', '1'),\n",
       " ('recurrence', '0', '1')]"
      ]
     },
     "execution_count": 6,
     "metadata": {},
     "output_type": "execute_result"
    }
   ],
   "source": [
    "binary_column_info, binary_column_names = MyCustDataSciLib.get_binary_columns(df, 'all')\n",
    "binary_column_info"
   ]
  },
  {
   "cell_type": "code",
   "execution_count": 7,
   "metadata": {},
   "outputs": [
    {
     "name": "stdout",
     "output_type": "stream",
     "text": [
      "<class 'pandas.core.frame.DataFrame'>\n",
      "RangeIndex: 383 entries, 0 to 382\n",
      "Data columns (total 17 columns):\n",
      " #   Column                Non-Null Count  Dtype \n",
      "---  ------                --------------  ----- \n",
      " 0   age                   383 non-null    int64 \n",
      " 1   gender                383 non-null    int32 \n",
      " 2   smoking               383 non-null    int32 \n",
      " 3   hx_smoking            383 non-null    int32 \n",
      " 4   hx_radiotherapy       383 non-null    int32 \n",
      " 5   thyroid_function      383 non-null    object\n",
      " 6   physical_examination  383 non-null    object\n",
      " 7   adenopathy            383 non-null    object\n",
      " 8   pathology             383 non-null    object\n",
      " 9   focality              383 non-null    int32 \n",
      " 10  risk                  383 non-null    object\n",
      " 11  t                     383 non-null    object\n",
      " 12  n                     383 non-null    object\n",
      " 13  m                     383 non-null    int32 \n",
      " 14  stage                 383 non-null    object\n",
      " 15  response              383 non-null    object\n",
      " 16  recurrence            383 non-null    int32 \n",
      "dtypes: int32(7), int64(1), object(9)\n",
      "memory usage: 40.5+ KB\n"
     ]
    }
   ],
   "source": [
    " # see all the binary columns has their dtypes converted to int32\n",
    "df.info()"
   ]
  },
  {
   "cell_type": "markdown",
   "metadata": {},
   "source": [
    "# Converting the \"thyroid_function\" column"
   ]
  },
  {
   "cell_type": "code",
   "execution_count": 10,
   "metadata": {},
   "outputs": [
    {
     "name": "stdout",
     "output_type": "stream",
     "text": [
      "Unique values and counts for column: 'thyroid_function'\n",
      "              thyroid_function  count\n",
      "0                    euthyroid    332\n",
      "1     clinical_hyperthyroidism     20\n",
      "2   subclinical_hypothyroidism     14\n",
      "3      clinical_hypothyroidism     12\n",
      "4  subclinical_hyperthyroidism      5\n",
      "----------------------------------------\n",
      "FUNCTION FINISHED, detected no columns with only 1 unique values which is good.\n"
     ]
    }
   ],
   "source": [
    "MyCustDataSciLib.print_unique_values_summary(df, ['thyroid_function'])"
   ]
  },
  {
   "cell_type": "code",
   "execution_count": 11,
   "metadata": {},
   "outputs": [],
   "source": [
    "# the main objective is to make a model that can predict if you have thyroid disease or not.\n",
    "# the column thyroid_function is this indicator but it has multiple values, but alot of these values are just different terms of thyroid disease.\n",
    "# I thought about making a model to predict the different types of thyroid disease, but some of their data size is really small, as observed from checking the count of unique values in that column which was done in Data Wrangling step.\n",
    "# thyroid function meaning\n",
    "    # Euthyroid - Normal thyroid function. No signs of hyperthyroidism or hypothyroidism.\n",
    "    # Hyperthyroidism - Thyroid produces excess thyroid hormones, leading to symptoms like weight loss, rapid heart rate, and anxiety.\n",
    "    # Hypothyroidism - Thyroid does not produce enough hormones, leading to symptoms like fatigue, weight gain, and depression.\n",
    "    # Clinical - The condition is symptomatic and clearly impacts the patient,\n",
    "    # SubClinical - The condition is asymptomatic or mild, and abnormalities are only detected through lab tests (e.g., TSH levels). Hormone levels (T3, T4), may develop into clinical"
   ]
  },
  {
   "cell_type": "code",
   "execution_count": 12,
   "metadata": {},
   "outputs": [
    {
     "name": "stdout",
     "output_type": "stream",
     "text": [
      "thyroid_function column has been fully converted\n"
     ]
    }
   ],
   "source": [
    "df, incompatible_rows_info, incompatible_rows = MyCustDataSciLib.convert_column_to_binary(df,'thyroid_function',\n",
    "                                                                                          ['clinical_hyperthyroidism','subclinical_hypothyroidism','clinical_hypothyroidism','subclinical_hyperthyroidism'],\n",
    "                                                                                          'euthyroid')"
   ]
  },
  {
   "cell_type": "code",
   "execution_count": 13,
   "metadata": {},
   "outputs": [
    {
     "name": "stdout",
     "output_type": "stream",
     "text": [
      "Unique values and counts for column: 'thyroid_function'\n",
      "   thyroid_function  count\n",
      "0                 0    332\n",
      "1                 1     51\n",
      "----------------------------------------\n",
      "FUNCTION FINISHED, detected no columns with only 1 unique values which is good.\n"
     ]
    }
   ],
   "source": [
    "MyCustDataSciLib.print_unique_values_summary(df, ['thyroid_function'])\n",
    "# as you can see all the different types of thyroid diseases have been aggregate into only the number 1 "
   ]
  },
  {
   "cell_type": "code",
   "execution_count": null,
   "metadata": {},
   "outputs": [],
   "source": []
  }
 ],
 "metadata": {
  "kernelspec": {
   "display_name": "Python 3",
   "language": "python",
   "name": "python3"
  },
  "language_info": {
   "codemirror_mode": {
    "name": "ipython",
    "version": 3
   },
   "file_extension": ".py",
   "mimetype": "text/x-python",
   "name": "python",
   "nbconvert_exporter": "python",
   "pygments_lexer": "ipython3",
   "version": "3.10.11"
  }
 },
 "nbformat": 4,
 "nbformat_minor": 2
}
