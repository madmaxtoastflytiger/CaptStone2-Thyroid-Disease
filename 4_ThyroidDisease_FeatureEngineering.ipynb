{
 "cells": [
  {
   "cell_type": "markdown",
   "metadata": {},
   "source": [
    "# Predictive Thyroid Disease Project - Feature Engineering\n",
    "\n",
    "To make a predictive model if the thyroid cancer patient is likely to respond to the treatment or not."
   ]
  },
  {
   "cell_type": "markdown",
   "metadata": {},
   "source": [
    "# Initial Set Up"
   ]
  },
  {
   "cell_type": "code",
   "execution_count": 1,
   "metadata": {},
   "outputs": [],
   "source": [
    "# General Data Manipulation\n",
    "import pandas as pd\n",
    "import numpy as np\n",
    "from sklearn.preprocessing import LabelEncoder, OneHotEncoder, MinMaxScaler, StandardScaler, RobustScaler\n",
    "from sklearn.decomposition import PCA\n",
    "from sklearn.feature_extraction.text import TfidfVectorizer\n",
    "from sklearn.feature_extraction import FeatureHasher\n",
    "from sklearn.feature_selection import VarianceThreshold\n",
    "from sklearn.ensemble import RandomForestClassifier\n",
    "from sklearn.cluster import KMeans\n",
    "import datetime\n",
    "import math\n",
    "\n",
    "# Import my custom library \n",
    "import MyCustDataSciLib as MyCustDataSciLib"
   ]
  },
  {
   "cell_type": "code",
   "execution_count": 2,
   "metadata": {},
   "outputs": [],
   "source": [
    "# Load your cleaned CSV file\n",
    "df = pd.read_csv('3_Thyroid_Disease_EDA.csv') # Change it to Thyroid_Disease_EDA"
   ]
  },
  {
   "cell_type": "code",
   "execution_count": 3,
   "metadata": {},
   "outputs": [
    {
     "data": {
      "text/html": [
       "<div>\n",
       "<style scoped>\n",
       "    .dataframe tbody tr th:only-of-type {\n",
       "        vertical-align: middle;\n",
       "    }\n",
       "\n",
       "    .dataframe tbody tr th {\n",
       "        vertical-align: top;\n",
       "    }\n",
       "\n",
       "    .dataframe thead th {\n",
       "        text-align: right;\n",
       "    }\n",
       "</style>\n",
       "<table border=\"1\" class=\"dataframe\">\n",
       "  <thead>\n",
       "    <tr style=\"text-align: right;\">\n",
       "      <th></th>\n",
       "      <th>age</th>\n",
       "      <th>age_group</th>\n",
       "      <th>gender</th>\n",
       "      <th>smoking</th>\n",
       "      <th>hx_smoking</th>\n",
       "      <th>hx_radiotherapy</th>\n",
       "      <th>thyroid_function</th>\n",
       "      <th>thyroid_function_3cat</th>\n",
       "      <th>thyroid_function_2cat</th>\n",
       "      <th>physical_examination</th>\n",
       "      <th>...</th>\n",
       "      <th>t_4cat</th>\n",
       "      <th>n</th>\n",
       "      <th>m</th>\n",
       "      <th>stage</th>\n",
       "      <th>stage_4cat</th>\n",
       "      <th>stage_2cat</th>\n",
       "      <th>response</th>\n",
       "      <th>response_3cat</th>\n",
       "      <th>recurrence</th>\n",
       "      <th>kmode_cluster</th>\n",
       "    </tr>\n",
       "  </thead>\n",
       "  <tbody>\n",
       "    <tr>\n",
       "      <th>0</th>\n",
       "      <td>27</td>\n",
       "      <td>20s</td>\n",
       "      <td>f</td>\n",
       "      <td>no</td>\n",
       "      <td>no</td>\n",
       "      <td>no</td>\n",
       "      <td>euthyroid</td>\n",
       "      <td>normal</td>\n",
       "      <td>normal</td>\n",
       "      <td>single_nodular_goiter-left</td>\n",
       "      <td>...</td>\n",
       "      <td>t1</td>\n",
       "      <td>n0</td>\n",
       "      <td>m0</td>\n",
       "      <td>i</td>\n",
       "      <td>i</td>\n",
       "      <td>early</td>\n",
       "      <td>indeterminate</td>\n",
       "      <td>indeterminate</td>\n",
       "      <td>no</td>\n",
       "      <td>0</td>\n",
       "    </tr>\n",
       "    <tr>\n",
       "      <th>1</th>\n",
       "      <td>34</td>\n",
       "      <td>30s</td>\n",
       "      <td>f</td>\n",
       "      <td>no</td>\n",
       "      <td>yes</td>\n",
       "      <td>no</td>\n",
       "      <td>euthyroid</td>\n",
       "      <td>normal</td>\n",
       "      <td>normal</td>\n",
       "      <td>multinodular_goiter</td>\n",
       "      <td>...</td>\n",
       "      <td>t1</td>\n",
       "      <td>n0</td>\n",
       "      <td>m0</td>\n",
       "      <td>i</td>\n",
       "      <td>i</td>\n",
       "      <td>early</td>\n",
       "      <td>excellent</td>\n",
       "      <td>excellent</td>\n",
       "      <td>no</td>\n",
       "      <td>0</td>\n",
       "    </tr>\n",
       "    <tr>\n",
       "      <th>2</th>\n",
       "      <td>30</td>\n",
       "      <td>30s</td>\n",
       "      <td>f</td>\n",
       "      <td>no</td>\n",
       "      <td>no</td>\n",
       "      <td>no</td>\n",
       "      <td>euthyroid</td>\n",
       "      <td>normal</td>\n",
       "      <td>normal</td>\n",
       "      <td>single_nodular_goiter-right</td>\n",
       "      <td>...</td>\n",
       "      <td>t1</td>\n",
       "      <td>n0</td>\n",
       "      <td>m0</td>\n",
       "      <td>i</td>\n",
       "      <td>i</td>\n",
       "      <td>early</td>\n",
       "      <td>excellent</td>\n",
       "      <td>excellent</td>\n",
       "      <td>no</td>\n",
       "      <td>0</td>\n",
       "    </tr>\n",
       "    <tr>\n",
       "      <th>3</th>\n",
       "      <td>62</td>\n",
       "      <td>60s</td>\n",
       "      <td>f</td>\n",
       "      <td>no</td>\n",
       "      <td>no</td>\n",
       "      <td>no</td>\n",
       "      <td>euthyroid</td>\n",
       "      <td>normal</td>\n",
       "      <td>normal</td>\n",
       "      <td>single_nodular_goiter-right</td>\n",
       "      <td>...</td>\n",
       "      <td>t1</td>\n",
       "      <td>n0</td>\n",
       "      <td>m0</td>\n",
       "      <td>i</td>\n",
       "      <td>i</td>\n",
       "      <td>early</td>\n",
       "      <td>excellent</td>\n",
       "      <td>excellent</td>\n",
       "      <td>no</td>\n",
       "      <td>0</td>\n",
       "    </tr>\n",
       "    <tr>\n",
       "      <th>4</th>\n",
       "      <td>62</td>\n",
       "      <td>60s</td>\n",
       "      <td>f</td>\n",
       "      <td>no</td>\n",
       "      <td>no</td>\n",
       "      <td>no</td>\n",
       "      <td>euthyroid</td>\n",
       "      <td>normal</td>\n",
       "      <td>normal</td>\n",
       "      <td>multinodular_goiter</td>\n",
       "      <td>...</td>\n",
       "      <td>t1</td>\n",
       "      <td>n0</td>\n",
       "      <td>m0</td>\n",
       "      <td>i</td>\n",
       "      <td>i</td>\n",
       "      <td>early</td>\n",
       "      <td>excellent</td>\n",
       "      <td>excellent</td>\n",
       "      <td>no</td>\n",
       "      <td>0</td>\n",
       "    </tr>\n",
       "  </tbody>\n",
       "</table>\n",
       "<p>5 rows × 25 columns</p>\n",
       "</div>"
      ],
      "text/plain": [
       "   age age_group gender smoking hx_smoking hx_radiotherapy thyroid_function  \\\n",
       "0   27       20s      f      no         no              no        euthyroid   \n",
       "1   34       30s      f      no        yes              no        euthyroid   \n",
       "2   30       30s      f      no         no              no        euthyroid   \n",
       "3   62       60s      f      no         no              no        euthyroid   \n",
       "4   62       60s      f      no         no              no        euthyroid   \n",
       "\n",
       "  thyroid_function_3cat thyroid_function_2cat         physical_examination  \\\n",
       "0                normal                normal   single_nodular_goiter-left   \n",
       "1                normal                normal          multinodular_goiter   \n",
       "2                normal                normal  single_nodular_goiter-right   \n",
       "3                normal                normal  single_nodular_goiter-right   \n",
       "4                normal                normal          multinodular_goiter   \n",
       "\n",
       "   ... t_4cat   n   m stage stage_4cat stage_2cat       response  \\\n",
       "0  ...     t1  n0  m0     i          i      early  indeterminate   \n",
       "1  ...     t1  n0  m0     i          i      early      excellent   \n",
       "2  ...     t1  n0  m0     i          i      early      excellent   \n",
       "3  ...     t1  n0  m0     i          i      early      excellent   \n",
       "4  ...     t1  n0  m0     i          i      early      excellent   \n",
       "\n",
       "   response_3cat recurrence kmode_cluster  \n",
       "0  indeterminate         no             0  \n",
       "1      excellent         no             0  \n",
       "2      excellent         no             0  \n",
       "3      excellent         no             0  \n",
       "4      excellent         no             0  \n",
       "\n",
       "[5 rows x 25 columns]"
      ]
     },
     "execution_count": 3,
     "metadata": {},
     "output_type": "execute_result"
    }
   ],
   "source": [
    "df.head()"
   ]
  },
  {
   "cell_type": "code",
   "execution_count": 4,
   "metadata": {},
   "outputs": [
    {
     "name": "stdout",
     "output_type": "stream",
     "text": [
      "<class 'pandas.core.frame.DataFrame'>\n",
      "RangeIndex: 383 entries, 0 to 382\n",
      "Data columns (total 25 columns):\n",
      " #   Column                 Non-Null Count  Dtype \n",
      "---  ------                 --------------  ----- \n",
      " 0   age                    383 non-null    int64 \n",
      " 1   age_group              383 non-null    object\n",
      " 2   gender                 383 non-null    object\n",
      " 3   smoking                383 non-null    object\n",
      " 4   hx_smoking             383 non-null    object\n",
      " 5   hx_radiotherapy        383 non-null    object\n",
      " 6   thyroid_function       383 non-null    object\n",
      " 7   thyroid_function_3cat  383 non-null    object\n",
      " 8   thyroid_function_2cat  383 non-null    object\n",
      " 9   physical_examination   383 non-null    object\n",
      " 10  adenopathy             383 non-null    object\n",
      " 11  pathology              383 non-null    object\n",
      " 12  focality               383 non-null    object\n",
      " 13  risk                   383 non-null    object\n",
      " 14  t                      383 non-null    object\n",
      " 15  t_4cat                 383 non-null    object\n",
      " 16  n                      383 non-null    object\n",
      " 17  m                      383 non-null    object\n",
      " 18  stage                  383 non-null    object\n",
      " 19  stage_4cat             383 non-null    object\n",
      " 20  stage_2cat             383 non-null    object\n",
      " 21  response               383 non-null    object\n",
      " 22  response_3cat          383 non-null    object\n",
      " 23  recurrence             383 non-null    object\n",
      " 24  kmode_cluster          383 non-null    int64 \n",
      "dtypes: int64(2), object(23)\n",
      "memory usage: 74.9+ KB\n"
     ]
    }
   ],
   "source": [
    "# check the columns data type before edit\n",
    "df.info()"
   ]
  },
  {
   "cell_type": "markdown",
   "metadata": {},
   "source": [
    "# Check for missing data\n",
    "\n",
    "Did it in Data Wrangling but double check if any EDA process messed it up."
   ]
  },
  {
   "cell_type": "code",
   "execution_count": null,
   "metadata": {},
   "outputs": [],
   "source": []
  },
  {
   "cell_type": "markdown",
   "metadata": {},
   "source": [
    "# Change binary values into 0s and 1s"
   ]
  },
  {
   "cell_type": "code",
   "execution_count": 5,
   "metadata": {},
   "outputs": [
    {
     "data": {
      "text/plain": [
       "[('gender', 'f', 'm'),\n",
       " ('smoking', 'no', 'yes'),\n",
       " ('hx_smoking', 'no', 'yes'),\n",
       " ('hx_radiotherapy', 'no', 'yes'),\n",
       " ('thyroid_function_2cat', 'normal', 'diseased'),\n",
       " ('focality', 'uni-focal', 'multi-focal'),\n",
       " ('m', 'm0', 'm1'),\n",
       " ('stage_2cat', 'early', 'late'),\n",
       " ('recurrence', 'no', 'yes')]"
      ]
     },
     "execution_count": 5,
     "metadata": {},
     "output_type": "execute_result"
    }
   ],
   "source": [
    "# check which columns are possible candidates to be converted into binary 0s and 1s\n",
    "binary_column_info, binary_column_names = MyCustDataSciLib.get_binary_columns(df, 'all')\n",
    "binary_column_info"
   ]
  },
  {
   "cell_type": "code",
   "execution_count": 6,
   "metadata": {},
   "outputs": [
    {
     "name": "stdout",
     "output_type": "stream",
     "text": [
      "gender column has been fully converted\n",
      "smoking column has been fully converted\n",
      "hx_smoking column has been fully converted\n",
      "hx_radiotherapy column has been fully converted\n",
      "thyroid_function_2cat column has been fully converted\n",
      "focality column has been fully converted\n",
      "m column has been fully converted\n",
      "stage_2cat column has been fully converted\n",
      "recurrence column has been fully converted\n",
      "\n",
      "adenopathy column has 106 incompatible rows\n"
     ]
    }
   ],
   "source": [
    "# Convert these 'yes' 'no columns into binary '1s' '0s' as to make future data science tasks easier\n",
    "    # reminder\n",
    "        # 2nd parameter is col name\n",
    "        # 3rd parameter is the value to be converted to 1\n",
    "        # 4th parameter is the value to be converted to 0\n",
    "\n",
    "df, incompatible_rows_info, incompatible_rows = MyCustDataSciLib.convert_column_to_binary(df, 'gender', 'm', 'f')\n",
    "df, incompatible_rows_info, incompatible_rows = MyCustDataSciLib.convert_column_to_binary(df, 'smoking', 'yes', 'no')\n",
    "df, incompatible_rows_info, incompatible_rows = MyCustDataSciLib.convert_column_to_binary(df, 'hx_smoking', 'yes', 'no')\n",
    "df, incompatible_rows_info, incompatible_rows = MyCustDataSciLib.convert_column_to_binary(df, 'hx_radiotherapy', 'yes', 'no')\n",
    "df, incompatible_rows_info, incompatible_rows = MyCustDataSciLib.convert_column_to_binary(df, 'thyroid_function_2cat', 'diseased', 'normal')\n",
    "df, incompatible_rows_info, incompatible_rows = MyCustDataSciLib.convert_column_to_binary(df, 'focality', 'uni-focal', 'multi-focal')\n",
    "df, incompatible_rows_info, incompatible_rows = MyCustDataSciLib.convert_column_to_binary(df, 'm', 'm1', 'm0')\n",
    "df, incompatible_rows_info, incompatible_rows = MyCustDataSciLib.convert_column_to_binary(df, 'stage_2cat', 'late', 'early')\n",
    "df, incompatible_rows_info, incompatible_rows = MyCustDataSciLib.convert_column_to_binary(df, 'recurrence', 'yes', 'no')\n",
    "\n",
    "# testing the function\n",
    "print()\n",
    "df, incompatible_rows_info, incompatible_rows = MyCustDataSciLib.convert_column_to_binary(df, 'adenopathy', 'yes', 'no')\n",
    "    # applied function on 'Adenopathy' as want to test out the function "
   ]
  },
  {
   "cell_type": "code",
   "execution_count": 7,
   "metadata": {},
   "outputs": [
    {
     "data": {
      "text/plain": [
       "[('gender', '0', '1'),\n",
       " ('smoking', '0', '1'),\n",
       " ('hx_smoking', '0', '1'),\n",
       " ('hx_radiotherapy', '0', '1'),\n",
       " ('thyroid_function_2cat', '0', '1'),\n",
       " ('focality', '1', '0'),\n",
       " ('m', '0', '1'),\n",
       " ('stage_2cat', '0', '1'),\n",
       " ('recurrence', '0', '1')]"
      ]
     },
     "execution_count": 7,
     "metadata": {},
     "output_type": "execute_result"
    }
   ],
   "source": [
    "binary_column_info, binary_column_names = MyCustDataSciLib.get_binary_columns(df, 'all')\n",
    "binary_column_info"
   ]
  },
  {
   "cell_type": "code",
   "execution_count": 8,
   "metadata": {},
   "outputs": [
    {
     "name": "stdout",
     "output_type": "stream",
     "text": [
      "<class 'pandas.core.frame.DataFrame'>\n",
      "RangeIndex: 383 entries, 0 to 382\n",
      "Data columns (total 25 columns):\n",
      " #   Column                 Non-Null Count  Dtype \n",
      "---  ------                 --------------  ----- \n",
      " 0   age                    383 non-null    int64 \n",
      " 1   age_group              383 non-null    object\n",
      " 2   gender                 383 non-null    int32 \n",
      " 3   smoking                383 non-null    int32 \n",
      " 4   hx_smoking             383 non-null    int32 \n",
      " 5   hx_radiotherapy        383 non-null    int32 \n",
      " 6   thyroid_function       383 non-null    object\n",
      " 7   thyroid_function_3cat  383 non-null    object\n",
      " 8   thyroid_function_2cat  383 non-null    int32 \n",
      " 9   physical_examination   383 non-null    object\n",
      " 10  adenopathy             383 non-null    object\n",
      " 11  pathology              383 non-null    object\n",
      " 12  focality               383 non-null    int32 \n",
      " 13  risk                   383 non-null    object\n",
      " 14  t                      383 non-null    object\n",
      " 15  t_4cat                 383 non-null    object\n",
      " 16  n                      383 non-null    object\n",
      " 17  m                      383 non-null    int32 \n",
      " 18  stage                  383 non-null    object\n",
      " 19  stage_4cat             383 non-null    object\n",
      " 20  stage_2cat             383 non-null    int32 \n",
      " 21  response               383 non-null    object\n",
      " 22  response_3cat          383 non-null    object\n",
      " 23  recurrence             383 non-null    int32 \n",
      " 24  kmode_cluster          383 non-null    int64 \n",
      "dtypes: int32(9), int64(2), object(14)\n",
      "memory usage: 61.5+ KB\n"
     ]
    }
   ],
   "source": [
    " # see all the binary columns has their dtypes converted to int32\n",
    "df.info()"
   ]
  },
  {
   "cell_type": "markdown",
   "metadata": {},
   "source": [
    "# Export Clean Data"
   ]
  },
  {
   "cell_type": "code",
   "execution_count": null,
   "metadata": {},
   "outputs": [],
   "source": [
    "# double check one last time before exporting\n",
    "df.head()"
   ]
  },
  {
   "cell_type": "code",
   "execution_count": null,
   "metadata": {},
   "outputs": [],
   "source": [
    "# double check one last time before exporting\n",
    "df.info()"
   ]
  },
  {
   "cell_type": "code",
   "execution_count": null,
   "metadata": {},
   "outputs": [],
   "source": [
    "# Save the cleaned DataFrame to a new CSV file\n",
    "df.to_csv('4_Thyroid_Disease_FeatureEngineer.csv', index=False)"
   ]
  },
  {
   "cell_type": "markdown",
   "metadata": {},
   "source": [
    "# Decision\n",
    "\n",
    "The main thing is to use 'recurrence' column as the main labeling feature for the modeling process.\n"
   ]
  },
  {
   "cell_type": "markdown",
   "metadata": {},
   "source": []
  }
 ],
 "metadata": {
  "kernelspec": {
   "display_name": "Python 3",
   "language": "python",
   "name": "python3"
  },
  "language_info": {
   "codemirror_mode": {
    "name": "ipython",
    "version": 3
   },
   "file_extension": ".py",
   "mimetype": "text/x-python",
   "name": "python",
   "nbconvert_exporter": "python",
   "pygments_lexer": "ipython3",
   "version": "3.10.11"
  }
 },
 "nbformat": 4,
 "nbformat_minor": 2
}
